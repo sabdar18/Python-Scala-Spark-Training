{
 "cells": [
  {
   "cell_type": "markdown",
   "metadata": {
    "colab_type": "text",
    "id": "XktoK9VRx3m5"
   },
   "source": [
    "# NumPy Exercises "
   ]
  },
  {
   "cell_type": "markdown",
   "metadata": {
    "colab_type": "text",
    "id": "FPFFK5iEx3nB"
   },
   "source": [
    "#### Import NumPy as np"
   ]
  },
  {
   "cell_type": "code",
   "execution_count": 1,
   "metadata": {
    "colab": {},
    "colab_type": "code",
    "id": "6YD1YKoTx3nF"
   },
   "outputs": [],
   "source": [
    "import numpy as np"
   ]
  },
  {
   "cell_type": "markdown",
   "metadata": {
    "colab_type": "text",
    "id": "uUc_HGoCx3nT"
   },
   "source": [
    "#### Create an array of 10 zeros "
   ]
  },
  {
   "cell_type": "code",
   "execution_count": 7,
   "metadata": {},
   "outputs": [
    {
     "data": {
      "text/plain": [
       "array([0., 0., 0., 0., 0., 0., 0., 0., 0., 0.])"
      ]
     },
     "execution_count": 7,
     "metadata": {},
     "output_type": "execute_result"
    }
   ],
   "source": [
    "arr=np.zeros(10)\n",
    "arr"
   ]
  },
  {
   "cell_type": "code",
   "execution_count": 16,
   "metadata": {
    "colab": {
     "base_uri": "https://localhost:8080/",
     "height": 35
    },
    "colab_type": "code",
    "executionInfo": {
     "elapsed": 1001,
     "status": "ok",
     "timestamp": 1546352664179,
     "user": {
      "displayName": "Atin Gupta",
      "photoUrl": "https://lh4.googleusercontent.com/-VN-JLkSccdk/AAAAAAAAAAI/AAAAAAAAH3Q/XCDSdNuOjB0/s64/photo.jpg",
      "userId": "01235820350389977490"
     },
     "user_tz": -330
    },
    "id": "6YjcvNy0x3nb",
    "outputId": "73399176-7e0c-425f-97d4-470cb0333731"
   },
   "outputs": [
    {
     "data": {
      "text/plain": [
       "array([0., 0., 0., 0., 0., 0., 0., 0., 0., 0.])"
      ]
     },
     "execution_count": 16,
     "metadata": {
      "tags": []
     },
     "output_type": "execute_result"
    }
   ],
   "source": []
  },
  {
   "cell_type": "markdown",
   "metadata": {
    "colab_type": "text",
    "id": "iMZLnlHRx3nr"
   },
   "source": [
    "#### Create an array of 10 ones"
   ]
  },
  {
   "cell_type": "code",
   "execution_count": 9,
   "metadata": {
    "colab": {},
    "colab_type": "code",
    "id": "hlv9gE0ax3nu",
    "outputId": "a0fcfe51-8aa9-4187-b875-558b6ff7bee2"
   },
   "outputs": [
    {
     "data": {
      "text/plain": [
       "array([1., 1., 1., 1., 1., 1., 1., 1., 1., 1.])"
      ]
     },
     "execution_count": 9,
     "metadata": {},
     "output_type": "execute_result"
    }
   ],
   "source": [
    "arr=np.ones(10)\n",
    "arr"
   ]
  },
  {
   "cell_type": "markdown",
   "metadata": {
    "colab_type": "text",
    "id": "VUoB3TKex3n8"
   },
   "source": [
    "#### Create an array of 10 fives"
   ]
  },
  {
   "cell_type": "code",
   "execution_count": 14,
   "metadata": {
    "colab": {},
    "colab_type": "code",
    "id": "reqxDgt8x3n-",
    "outputId": "0905aba7-be01-4041-865c-66dd7146a9ad"
   },
   "outputs": [
    {
     "data": {
      "text/plain": [
       "array([5., 5., 5., 5., 5.])"
      ]
     },
     "execution_count": 14,
     "metadata": {},
     "output_type": "execute_result"
    }
   ],
   "source": [
    "\n",
    "arr=np.ones(5)*5\n",
    "arr"
   ]
  },
  {
   "cell_type": "markdown",
   "metadata": {
    "colab_type": "text",
    "id": "-prhUtGhx3oL"
   },
   "source": [
    "#### Create an array of the integers from 10 to 50"
   ]
  },
  {
   "cell_type": "code",
   "execution_count": 15,
   "metadata": {
    "colab": {},
    "colab_type": "code",
    "id": "NuSFEPnXx3oO",
    "outputId": "1ecb3c67-db66-4a44-f56f-4be7c38a95ec"
   },
   "outputs": [
    {
     "data": {
      "text/plain": [
       "array([10, 11, 12, 13, 14, 15, 16, 17, 18, 19, 20, 21, 22, 23, 24, 25, 26,\n",
       "       27, 28, 29, 30, 31, 32, 33, 34, 35, 36, 37, 38, 39, 40, 41, 42, 43,\n",
       "       44, 45, 46, 47, 48, 49])"
      ]
     },
     "execution_count": 15,
     "metadata": {},
     "output_type": "execute_result"
    }
   ],
   "source": [
    "np.arange(10,50)"
   ]
  },
  {
   "cell_type": "markdown",
   "metadata": {
    "colab_type": "text",
    "id": "nzV09Lbex3oa"
   },
   "source": [
    "#### Create an array of all the even integers from 10 to 50"
   ]
  },
  {
   "cell_type": "code",
   "execution_count": 16,
   "metadata": {
    "colab": {},
    "colab_type": "code",
    "id": "0hNIHNaKx3od",
    "outputId": "ef295c77-11e8-4961-bee7-4222deb7c42e"
   },
   "outputs": [
    {
     "data": {
      "text/plain": [
       "array([10, 12, 14, 16, 18, 20, 22, 24, 26, 28, 30, 32, 34, 36, 38, 40, 42,\n",
       "       44, 46, 48])"
      ]
     },
     "execution_count": 16,
     "metadata": {},
     "output_type": "execute_result"
    }
   ],
   "source": [
    "np.arange(10,50,2)"
   ]
  },
  {
   "cell_type": "markdown",
   "metadata": {
    "colab_type": "text",
    "id": "Em2zUkagx3o3"
   },
   "source": [
    "#### Create a 3x3 matrix with values ranging from 0 to 8"
   ]
  },
  {
   "cell_type": "code",
   "execution_count": 25,
   "metadata": {
    "colab": {},
    "colab_type": "code",
    "id": "Dx-uAXsAx3o5",
    "outputId": "3e290c74-a355-4b70-d2fe-5d9a7062db20"
   },
   "outputs": [
    {
     "data": {
      "text/plain": [
       "array([[1, 2, 3],\n",
       "       [4, 5, 6]])"
      ]
     },
     "execution_count": 25,
     "metadata": {},
     "output_type": "execute_result"
    }
   ],
   "source": [
    "# arr=np.arange(0,9)\n",
    "# arr.reshape(3,3)"
   ]
  },
  {
   "cell_type": "markdown",
   "metadata": {
    "colab_type": "text",
    "id": "hNrEuZ1ux3pH"
   },
   "source": [
    "#### Create a 3x3 identity matrix"
   ]
  },
  {
   "cell_type": "code",
   "execution_count": 0,
   "metadata": {
    "colab": {},
    "colab_type": "code",
    "id": "4XpqlV9Yx3pJ",
    "outputId": "46df0b55-e633-440e-ecb2-49830b781398"
   },
   "outputs": [
    {
     "data": {
      "text/plain": [
       "array([[ 1.,  0.,  0.],\n",
       "       [ 0.,  1.,  0.],\n",
       "       [ 0.,  0.,  1.]])"
      ]
     },
     "execution_count": 8,
     "metadata": {
      "tags": []
     },
     "output_type": "execute_result"
    }
   ],
   "source": []
  },
  {
   "cell_type": "markdown",
   "metadata": {
    "colab_type": "text",
    "id": "9CJXGq5Ox3pT"
   },
   "source": [
    "#### Use NumPy to generate a random number between 0 and 1"
   ]
  },
  {
   "cell_type": "code",
   "execution_count": 37,
   "metadata": {
    "colab": {},
    "colab_type": "code",
    "id": "JmsvFAawx3pY",
    "outputId": "54cf9478-ba2c-4ded-c9f0-aefd1c83ca8d"
   },
   "outputs": [
    {
     "data": {
      "text/plain": [
       "0.8393364345138132"
      ]
     },
     "execution_count": 37,
     "metadata": {},
     "output_type": "execute_result"
    }
   ],
   "source": [
    "np.random.rand(1)[0]"
   ]
  },
  {
   "cell_type": "markdown",
   "metadata": {
    "colab_type": "text",
    "id": "XOVciK4_x3pj"
   },
   "source": [
    "#### Use NumPy to generate an array of 25 random numbers sampled from a standard normal distribution"
   ]
  },
  {
   "cell_type": "code",
   "execution_count": 41,
   "metadata": {
    "colab": {},
    "colab_type": "code",
    "id": "OopxoJmAx3pm",
    "outputId": "937c16dd-5234-4746-fed9-0be8cc64d2bf"
   },
   "outputs": [
    {
     "data": {
      "text/plain": [
       "array([ 2.1858246 ,  1.21284157, -0.91422599, -1.48400873,  2.06260719,\n",
       "        0.64979042, -1.26924284,  0.04817191,  0.32684461, -0.44308184,\n",
       "       -1.0656358 , -0.8085244 ,  1.56402866,  0.2987229 ,  1.71883729,\n",
       "        0.61529785,  0.5346625 ,  0.24737717,  0.08420417, -1.07115648,\n",
       "       -0.93472825, -1.65072985,  1.48891635,  0.67450924, -1.37036785])"
      ]
     },
     "execution_count": 41,
     "metadata": {},
     "output_type": "execute_result"
    }
   ],
   "source": [
    "np.random.randn(25)"
   ]
  },
  {
   "cell_type": "markdown",
   "metadata": {
    "colab_type": "text",
    "id": "hkRbmZmFx3px"
   },
   "source": [
    "#### Create the following matrix:"
   ]
  },
  {
   "cell_type": "code",
   "execution_count": 46,
   "metadata": {
    "colab": {},
    "colab_type": "code",
    "id": "1AIbpJ3Jx3p1",
    "outputId": "ed3d401e-47e6-4f75-cece-ca7a124c819c"
   },
   "outputs": [
    {
     "data": {
      "text/plain": [
       "array([0.        , 0.01010101, 0.02020202, 0.03030303, 0.04040404,\n",
       "       0.05050505, 0.06060606, 0.07070707, 0.08080808, 0.09090909,\n",
       "       0.1010101 , 0.11111111, 0.12121212, 0.13131313, 0.14141414,\n",
       "       0.15151515, 0.16161616, 0.17171717, 0.18181818, 0.19191919,\n",
       "       0.2020202 , 0.21212121, 0.22222222, 0.23232323, 0.24242424,\n",
       "       0.25252525, 0.26262626, 0.27272727, 0.28282828, 0.29292929,\n",
       "       0.3030303 , 0.31313131, 0.32323232, 0.33333333, 0.34343434,\n",
       "       0.35353535, 0.36363636, 0.37373737, 0.38383838, 0.39393939,\n",
       "       0.4040404 , 0.41414141, 0.42424242, 0.43434343, 0.44444444,\n",
       "       0.45454545, 0.46464646, 0.47474747, 0.48484848, 0.49494949,\n",
       "       0.50505051, 0.51515152, 0.52525253, 0.53535354, 0.54545455,\n",
       "       0.55555556, 0.56565657, 0.57575758, 0.58585859, 0.5959596 ,\n",
       "       0.60606061, 0.61616162, 0.62626263, 0.63636364, 0.64646465,\n",
       "       0.65656566, 0.66666667, 0.67676768, 0.68686869, 0.6969697 ,\n",
       "       0.70707071, 0.71717172, 0.72727273, 0.73737374, 0.74747475,\n",
       "       0.75757576, 0.76767677, 0.77777778, 0.78787879, 0.7979798 ,\n",
       "       0.80808081, 0.81818182, 0.82828283, 0.83838384, 0.84848485,\n",
       "       0.85858586, 0.86868687, 0.87878788, 0.88888889, 0.8989899 ,\n",
       "       0.90909091, 0.91919192, 0.92929293, 0.93939394, 0.94949495,\n",
       "       0.95959596, 0.96969697, 0.97979798, 0.98989899, 1.        ])"
      ]
     },
     "execution_count": 46,
     "metadata": {},
     "output_type": "execute_result"
    }
   ],
   "source": [
    "np.linspace(0,1,100)"
   ]
  },
  {
   "cell_type": "markdown",
   "metadata": {
    "colab_type": "text",
    "id": "EaqmP-4cx3p_"
   },
   "source": [
    "#### Create an array of 20 linearly spaced points between 0 and 1:"
   ]
  },
  {
   "cell_type": "code",
   "execution_count": 47,
   "metadata": {
    "colab": {},
    "colab_type": "code",
    "id": "p4wnDTsVx3qF",
    "outputId": "37d38253-b7f5-4eb1-d298-7cc8a46cce1f"
   },
   "outputs": [
    {
     "data": {
      "text/plain": [
       "array([0.        , 0.05263158, 0.10526316, 0.15789474, 0.21052632,\n",
       "       0.26315789, 0.31578947, 0.36842105, 0.42105263, 0.47368421,\n",
       "       0.52631579, 0.57894737, 0.63157895, 0.68421053, 0.73684211,\n",
       "       0.78947368, 0.84210526, 0.89473684, 0.94736842, 1.        ])"
      ]
     },
     "execution_count": 47,
     "metadata": {},
     "output_type": "execute_result"
    }
   ],
   "source": [
    "np.linspace(0,1,20)"
   ]
  },
  {
   "cell_type": "markdown",
   "metadata": {
    "colab_type": "text",
    "id": "smkAXlg3x3qf"
   },
   "source": [
    "## Numpy Indexing and Selection\n",
    "\n",
    "Now you will be given a few matrices, and be asked to replicate the resulting matrix outputs:"
   ]
  },
  {
   "cell_type": "code",
   "execution_count": null,
   "metadata": {
    "colab": {},
    "colab_type": "code",
    "id": "oEB6iRSWx3qi",
    "outputId": "07668dcf-5cda-4233-c53d-8ce7be22ef60"
   },
   "outputs": [],
   "source": [
    "mat = np.arange(1,26).reshape(5,5)\n",
    "mat.reshape(5,5)"
   ]
  },
  {
   "cell_type": "code",
   "execution_count": 0,
   "metadata": {
    "colab": {},
    "colab_type": "code",
    "id": "BpZF9RuVx3qw"
   },
   "outputs": [],
   "source": [
    "# WRITE CODE HERE THAT REPRODUCES THE OUTPUT OF THE CELL BELOW\n",
    "# BE CAREFUL NOT TO RUN THE CELL BELOW, OTHERWISE YOU WON'T\n",
    "# BE ABLE TO SEE THE OUTPUT ANY MORE"
   ]
  },
  {
   "cell_type": "code",
   "execution_count": 61,
   "metadata": {
    "colab": {},
    "colab_type": "code",
    "id": "CGceM8Tsx3rH",
    "outputId": "392752dd-beb5-4bd8-954b-6938706899e3"
   },
   "outputs": [
    {
     "data": {
      "text/plain": [
       "array([[ 1,  2,  3,  4,  5],\n",
       "       [ 6,  7,  8,  9, 10],\n",
       "       [11, 12, 13, 14, 15],\n",
       "       [16, 17, 18, 19, 20],\n",
       "       [21, 22, 23, 24, 25],\n",
       "       [20, 25, 30, 35, 40]])"
      ]
     },
     "execution_count": 61,
     "metadata": {},
     "output_type": "execute_result"
    }
   ],
   "source": [
    "np.append(mat,[20,25,30,35,40]).reshape(6,5)"
   ]
  },
  {
   "cell_type": "code",
   "execution_count": 0,
   "metadata": {
    "colab": {},
    "colab_type": "code",
    "id": "qVnzMc4Bx3rP"
   },
   "outputs": [],
   "source": [
    "# WRITE CODE HERE THAT REPRODUCES THE OUTPUT OF THE CELL BELOW\n",
    "# BE CAREFUL NOT TO RUN THE CELL BELOW, OTHERWISE YOU WON'T\n",
    "# BE ABLE TO SEE THE OUTPUT ANY MORE"
   ]
  },
  {
   "cell_type": "code",
   "execution_count": 0,
   "metadata": {
    "colab": {},
    "colab_type": "code",
    "id": "4wDHQMVqx3rV",
    "outputId": "85646dd0-6e3b-4ff1-e750-d2561fa6ad6f"
   },
   "outputs": [
    {
     "data": {
      "text/plain": [
       "20"
      ]
     },
     "execution_count": 41,
     "metadata": {
      "tags": []
     },
     "output_type": "execute_result"
    }
   ],
   "source": []
  },
  {
   "cell_type": "code",
   "execution_count": 0,
   "metadata": {
    "colab": {},
    "colab_type": "code",
    "id": "P62ofqJMx3rc"
   },
   "outputs": [],
   "source": [
    "# WRITE CODE HERE THAT REPRODUCES THE OUTPUT OF THE CELL BELOW\n",
    "# BE CAREFUL NOT TO RUN THE CELL BELOW, OTHERWISE YOU WON'T\n",
    "# BE ABLE TO SEE THE OUTPUT ANY MORE"
   ]
  },
  {
   "cell_type": "code",
   "execution_count": 0,
   "metadata": {
    "colab": {},
    "colab_type": "code",
    "id": "RekN-Alvx3rj",
    "outputId": "5e4a6c2c-47ae-4ea7-819e-4c3bda50d331"
   },
   "outputs": [
    {
     "data": {
      "text/plain": [
       "array([[ 2],\n",
       "       [ 7],\n",
       "       [12]])"
      ]
     },
     "execution_count": 42,
     "metadata": {
      "tags": []
     },
     "output_type": "execute_result"
    }
   ],
   "source": []
  },
  {
   "cell_type": "code",
   "execution_count": 0,
   "metadata": {
    "colab": {},
    "colab_type": "code",
    "id": "pI0flFScx3rv"
   },
   "outputs": [],
   "source": [
    "# WRITE CODE HERE THAT REPRODUCES THE OUTPUT OF THE CELL BELOW\n",
    "# BE CAREFUL NOT TO RUN THE CELL BELOW, OTHERWISE YOU WON'T\n",
    "# BE ABLE TO SEE THE OUTPUT ANY MORE"
   ]
  },
  {
   "cell_type": "code",
   "execution_count": 0,
   "metadata": {
    "colab": {},
    "colab_type": "code",
    "id": "V0AKLNYnx3r5",
    "outputId": "fa59427a-024f-4307-b2c0-97ffeeece95c"
   },
   "outputs": [
    {
     "data": {
      "text/plain": [
       "array([21, 22, 23, 24, 25])"
      ]
     },
     "execution_count": 46,
     "metadata": {
      "tags": []
     },
     "output_type": "execute_result"
    }
   ],
   "source": []
  },
  {
   "cell_type": "code",
   "execution_count": 0,
   "metadata": {
    "colab": {},
    "colab_type": "code",
    "id": "ASFlcl85x3sd"
   },
   "outputs": [],
   "source": [
    "# WRITE CODE HERE THAT REPRODUCES THE OUTPUT OF THE CELL BELOW\n",
    "# BE CAREFUL NOT TO RUN THE CELL BELOW, OTHERWISE YOU WON'T\n",
    "# BE ABLE TO SEE THE OUTPUT ANY MORE"
   ]
  },
  {
   "cell_type": "code",
   "execution_count": 0,
   "metadata": {
    "colab": {},
    "colab_type": "code",
    "id": "lHzSYLq0x3sh",
    "outputId": "c5bb0458-8df1-4a85-b333-4f7cd7249f18"
   },
   "outputs": [
    {
     "data": {
      "text/plain": [
       "array([[16, 17, 18, 19, 20],\n",
       "       [21, 22, 23, 24, 25]])"
      ]
     },
     "execution_count": 49,
     "metadata": {
      "tags": []
     },
     "output_type": "execute_result"
    }
   ],
   "source": []
  },
  {
   "cell_type": "markdown",
   "metadata": {
    "colab_type": "text",
    "id": "MjaSe12px3sm"
   },
   "source": [
    "### Now do the following"
   ]
  },
  {
   "cell_type": "markdown",
   "metadata": {
    "colab_type": "text",
    "id": "iDQ7ZV9Qx3so"
   },
   "source": [
    "#### Get the sum of all the values in mat"
   ]
  },
  {
   "cell_type": "code",
   "execution_count": 0,
   "metadata": {
    "colab": {},
    "colab_type": "code",
    "id": "ZU4p3LK8x3sq",
    "outputId": "692e50f1-f94b-4a6a-fda9-fb3614f523e9"
   },
   "outputs": [
    {
     "data": {
      "text/plain": [
       "325"
      ]
     },
     "execution_count": 50,
     "metadata": {
      "tags": []
     },
     "output_type": "execute_result"
    }
   ],
   "source": []
  },
  {
   "cell_type": "markdown",
   "metadata": {
    "colab_type": "text",
    "id": "rZIuPSzox3sx"
   },
   "source": [
    "#### Get the standard deviation of the values in mat"
   ]
  },
  {
   "cell_type": "code",
   "execution_count": 0,
   "metadata": {
    "colab": {},
    "colab_type": "code",
    "id": "X7VSMN6Vx3sy",
    "outputId": "978a4061-b9b7-4efb-8b73-6812c8782da6"
   },
   "outputs": [
    {
     "data": {
      "text/plain": [
       "7.2111025509279782"
      ]
     },
     "execution_count": 51,
     "metadata": {
      "tags": []
     },
     "output_type": "execute_result"
    }
   ],
   "source": []
  },
  {
   "cell_type": "markdown",
   "metadata": {
    "colab_type": "text",
    "id": "2F700Tbax3s3"
   },
   "source": [
    "#### Get the sum of all the columns in mat"
   ]
  },
  {
   "cell_type": "code",
   "execution_count": 2,
   "metadata": {
    "colab": {},
    "colab_type": "code",
    "id": "g4v9jx2Dx3s4",
    "outputId": "f964ca9e-c8c0-44f5-a2c3-d3dd07ffbc9c"
   },
   "outputs": [
    {
     "data": {
      "text/plain": [
       "array([ 0,  1,  2,  3,  4,  5,  6,  7,  8,  9, 10, 11, 12, 13, 14, 15, 16,\n",
       "       17, 18, 19, 20, 21, 22, 23, 24])"
      ]
     },
     "execution_count": 2,
     "metadata": {},
     "output_type": "execute_result"
    }
   ],
   "source": [
    "ar1=np.arange(25)\n",
    "ar1"
   ]
  },
  {
   "cell_type": "code",
   "execution_count": 3,
   "metadata": {},
   "outputs": [
    {
     "data": {
      "text/plain": [
       "array([0, 1, 2, 3])"
      ]
     },
     "execution_count": 3,
     "metadata": {},
     "output_type": "execute_result"
    }
   ],
   "source": [
    "ar2=ar1[0:4]\n",
    "ar2"
   ]
  },
  {
   "cell_type": "code",
   "execution_count": 4,
   "metadata": {},
   "outputs": [
    {
     "data": {
      "text/plain": [
       "array([ 0, 80,  2,  3,  4,  5,  6,  7,  8,  9, 10, 11, 12, 13, 14, 15, 16,\n",
       "       17, 18, 19, 20, 21, 22, 23, 24])"
      ]
     },
     "execution_count": 4,
     "metadata": {},
     "output_type": "execute_result"
    }
   ],
   "source": [
    "ar2[1]=80\n",
    "ar1"
   ]
  },
  {
   "cell_type": "code",
   "execution_count": 5,
   "metadata": {},
   "outputs": [
    {
     "data": {
      "text/plain": [
       "array([ 0, 80,  2,  3,  4,  5,  6,  7,  8,  9, 10, 11, 12, 13, 14, 15, 16,\n",
       "       17, 18, 19, 20, 21, 22, 23, 24])"
      ]
     },
     "execution_count": 5,
     "metadata": {},
     "output_type": "execute_result"
    }
   ],
   "source": [
    "ar1"
   ]
  },
  {
   "cell_type": "code",
   "execution_count": 6,
   "metadata": {},
   "outputs": [
    {
     "name": "stdout",
     "output_type": "stream",
     "text": [
      "140170755855248\n",
      "140170755854960\n"
     ]
    }
   ],
   "source": [
    "print(id(ar1[1]))\n",
    "print(id(ar2[1]))"
   ]
  },
  {
   "cell_type": "code",
   "execution_count": 7,
   "metadata": {},
   "outputs": [
    {
     "data": {
      "text/plain": [
       "18"
      ]
     },
     "execution_count": 7,
     "metadata": {},
     "output_type": "execute_result"
    }
   ],
   "source": [
    "import sys\n",
    "sys.getrefcount(ar1)\n"
   ]
  },
  {
   "cell_type": "code",
   "execution_count": 12,
   "metadata": {},
   "outputs": [],
   "source": [
    "strName = \"Atin Gupta\""
   ]
  },
  {
   "cell_type": "code",
   "execution_count": 15,
   "metadata": {},
   "outputs": [],
   "source": [
    "strName1 = strName"
   ]
  },
  {
   "cell_type": "code",
   "execution_count": 16,
   "metadata": {},
   "outputs": [],
   "source": [
    "strName2 = strName"
   ]
  },
  {
   "cell_type": "code",
   "execution_count": 17,
   "metadata": {},
   "outputs": [
    {
     "data": {
      "text/plain": [
       "4"
      ]
     },
     "execution_count": 17,
     "metadata": {},
     "output_type": "execute_result"
    }
   ],
   "source": [
    "sys.getrefcount(strName)"
   ]
  },
  {
   "cell_type": "code",
   "execution_count": 19,
   "metadata": {},
   "outputs": [
    {
     "data": {
      "text/plain": [
       "[{'__name__': '__main__',\n",
       "  '__doc__': 'Automatically created module for IPython interactive environment',\n",
       "  '__package__': None,\n",
       "  '__loader__': None,\n",
       "  '__spec__': None,\n",
       "  '__builtin__': <module 'builtins' (built-in)>,\n",
       "  '__builtins__': <module 'builtins' (built-in)>,\n",
       "  '_ih': ['',\n",
       "   'import numpy as np',\n",
       "   'ar1=np.arange(25)\\nar1',\n",
       "   'ar2=ar1[0:4]\\nar2',\n",
       "   'ar2[1]=80\\nar1',\n",
       "   'ar1',\n",
       "   'print(id(ar1[1]))\\nprint(id(ar2[1]))',\n",
       "   'import sys\\nsys.getrefcount(ar1)',\n",
       "   'strName = \"Atin\"',\n",
       "   'sys.getrefcount(strName)',\n",
       "   'strName = \"Atin Gupta\"',\n",
       "   'sys.getrefcount(strName)',\n",
       "   'strName = \"Atin Gupta\"',\n",
       "   'strName1 = strName',\n",
       "   'sys.getrefcount(strName)',\n",
       "   'strName1 = strName',\n",
       "   'strName2 = strName',\n",
       "   'sys.getrefcount(strName)',\n",
       "   'import gc\\ngc.get_referrers(ar1)',\n",
       "   'import gc\\ngc.get_referrers(strName)'],\n",
       "  '_oh': {2: array([ 0, 80,  2,  3,  4,  5,  6,  7,  8,  9, 10, 11, 12, 13, 14, 15, 16,\n",
       "          17, 18, 19, 20, 21, 22, 23, 24]),\n",
       "   3: array([ 0, 80,  2,  3]),\n",
       "   4: array([ 0, 80,  2,  3,  4,  5,  6,  7,  8,  9, 10, 11, 12, 13, 14, 15, 16,\n",
       "          17, 18, 19, 20, 21, 22, 23, 24]),\n",
       "   5: array([ 0, 80,  2,  3,  4,  5,  6,  7,  8,  9, 10, 11, 12, 13, 14, 15, 16,\n",
       "          17, 18, 19, 20, 21, 22, 23, 24]),\n",
       "   7: 18,\n",
       "   9: 2,\n",
       "   11: 2,\n",
       "   14: 3,\n",
       "   17: 4,\n",
       "   18: [{...},\n",
       "    {'_ih': ['',\n",
       "      'import numpy as np',\n",
       "      'ar1=np.arange(25)\\nar1',\n",
       "      'ar2=ar1[0:4]\\nar2',\n",
       "      'ar2[1]=80\\nar1',\n",
       "      'ar1',\n",
       "      'print(id(ar1[1]))\\nprint(id(ar2[1]))',\n",
       "      'import sys\\nsys.getrefcount(ar1)',\n",
       "      'strName = \"Atin\"',\n",
       "      'sys.getrefcount(strName)',\n",
       "      'strName = \"Atin Gupta\"',\n",
       "      'sys.getrefcount(strName)',\n",
       "      'strName = \"Atin Gupta\"',\n",
       "      'strName1 = strName',\n",
       "      'sys.getrefcount(strName)',\n",
       "      'strName1 = strName',\n",
       "      'strName2 = strName',\n",
       "      'sys.getrefcount(strName)',\n",
       "      'import gc\\ngc.get_referrers(ar1)',\n",
       "      'import gc\\ngc.get_referrers(strName)'],\n",
       "     '_oh': {...},\n",
       "     '_dh': ['/home/u1/Python-Scala-Spark-Training/Exercises/10-NumPy'],\n",
       "     'In': ['',\n",
       "      'import numpy as np',\n",
       "      'ar1=np.arange(25)\\nar1',\n",
       "      'ar2=ar1[0:4]\\nar2',\n",
       "      'ar2[1]=80\\nar1',\n",
       "      'ar1',\n",
       "      'print(id(ar1[1]))\\nprint(id(ar2[1]))',\n",
       "      'import sys\\nsys.getrefcount(ar1)',\n",
       "      'strName = \"Atin\"',\n",
       "      'sys.getrefcount(strName)',\n",
       "      'strName = \"Atin Gupta\"',\n",
       "      'sys.getrefcount(strName)',\n",
       "      'strName = \"Atin Gupta\"',\n",
       "      'strName1 = strName',\n",
       "      'sys.getrefcount(strName)',\n",
       "      'strName1 = strName',\n",
       "      'strName2 = strName',\n",
       "      'sys.getrefcount(strName)',\n",
       "      'import gc\\ngc.get_referrers(ar1)',\n",
       "      'import gc\\ngc.get_referrers(strName)'],\n",
       "     'Out': {...},\n",
       "     'get_ipython': <bound method InteractiveShell.get_ipython of <ipykernel.zmqshell.ZMQInteractiveShell object at 0x7f7c29df4450>>,\n",
       "     'exit': <IPython.core.autocall.ZMQExitAutocall at 0x7f7c284e7490>,\n",
       "     'quit': <IPython.core.autocall.ZMQExitAutocall at 0x7f7c284e7490>,\n",
       "     '__name__': '__main__',\n",
       "     '__doc__': 'Automatically created module for IPython interactive environment',\n",
       "     '__package__': None,\n",
       "     '__loader__': None,\n",
       "     '__spec__': None,\n",
       "     '__builtin__': <module 'builtins' (built-in)>,\n",
       "     '__builtins__': <module 'builtins' (built-in)>,\n",
       "     '_': [...],\n",
       "     '__': 4,\n",
       "     '___': 3,\n",
       "     '_i': 'import gc\\ngc.get_referrers(ar1)',\n",
       "     '_ii': 'sys.getrefcount(strName)',\n",
       "     '_iii': 'strName2 = strName',\n",
       "     '_i1': 'import numpy as np',\n",
       "     '_i2': 'ar1=np.arange(25)\\nar1',\n",
       "     '_2': array([ 0, 80,  2,  3,  4,  5,  6,  7,  8,  9, 10, 11, 12, 13, 14, 15, 16,\n",
       "            17, 18, 19, 20, 21, 22, 23, 24]),\n",
       "     '_i3': 'ar2=ar1[0:4]\\nar2',\n",
       "     '_3': array([ 0, 80,  2,  3]),\n",
       "     '_i4': 'ar2[1]=80\\nar1',\n",
       "     '_4': array([ 0, 80,  2,  3,  4,  5,  6,  7,  8,  9, 10, 11, 12, 13, 14, 15, 16,\n",
       "            17, 18, 19, 20, 21, 22, 23, 24]),\n",
       "     '_i5': 'ar1',\n",
       "     '_5': array([ 0, 80,  2,  3,  4,  5,  6,  7,  8,  9, 10, 11, 12, 13, 14, 15, 16,\n",
       "            17, 18, 19, 20, 21, 22, 23, 24]),\n",
       "     '_i6': 'print(id(ar1[1]))\\nprint(id(ar2[1]))',\n",
       "     '_i7': 'import sys\\nsys.getrefcount(ar1)',\n",
       "     '_7': 18,\n",
       "     '_i8': 'strName = \"Atin\"',\n",
       "     '_i9': 'sys.getrefcount(strName)',\n",
       "     '_9': 2,\n",
       "     '_i10': 'strName = \"Atin Gupta\"',\n",
       "     '_i11': 'sys.getrefcount(strName)',\n",
       "     '_11': 2,\n",
       "     '_i12': 'strName = \"Atin Gupta\"',\n",
       "     '_i13': 'strName1 = strName',\n",
       "     '_i14': 'sys.getrefcount(strName)',\n",
       "     '_14': 3,\n",
       "     '_i15': 'strName1 = strName',\n",
       "     '_i16': 'strName2 = strName',\n",
       "     '_i17': 'sys.getrefcount(strName)',\n",
       "     '_17': 4,\n",
       "     '_i18': 'import gc\\ngc.get_referrers(ar1)',\n",
       "     '_18': [...],\n",
       "     '_i19': 'import gc\\ngc.get_referrers(strName)'}]},\n",
       "  '_dh': ['/home/u1/Python-Scala-Spark-Training/Exercises/10-NumPy'],\n",
       "  'In': ['',\n",
       "   'import numpy as np',\n",
       "   'ar1=np.arange(25)\\nar1',\n",
       "   'ar2=ar1[0:4]\\nar2',\n",
       "   'ar2[1]=80\\nar1',\n",
       "   'ar1',\n",
       "   'print(id(ar1[1]))\\nprint(id(ar2[1]))',\n",
       "   'import sys\\nsys.getrefcount(ar1)',\n",
       "   'strName = \"Atin\"',\n",
       "   'sys.getrefcount(strName)',\n",
       "   'strName = \"Atin Gupta\"',\n",
       "   'sys.getrefcount(strName)',\n",
       "   'strName = \"Atin Gupta\"',\n",
       "   'strName1 = strName',\n",
       "   'sys.getrefcount(strName)',\n",
       "   'strName1 = strName',\n",
       "   'strName2 = strName',\n",
       "   'sys.getrefcount(strName)',\n",
       "   'import gc\\ngc.get_referrers(ar1)',\n",
       "   'import gc\\ngc.get_referrers(strName)'],\n",
       "  'Out': {2: array([ 0, 80,  2,  3,  4,  5,  6,  7,  8,  9, 10, 11, 12, 13, 14, 15, 16,\n",
       "          17, 18, 19, 20, 21, 22, 23, 24]),\n",
       "   3: array([ 0, 80,  2,  3]),\n",
       "   4: array([ 0, 80,  2,  3,  4,  5,  6,  7,  8,  9, 10, 11, 12, 13, 14, 15, 16,\n",
       "          17, 18, 19, 20, 21, 22, 23, 24]),\n",
       "   5: array([ 0, 80,  2,  3,  4,  5,  6,  7,  8,  9, 10, 11, 12, 13, 14, 15, 16,\n",
       "          17, 18, 19, 20, 21, 22, 23, 24]),\n",
       "   7: 18,\n",
       "   9: 2,\n",
       "   11: 2,\n",
       "   14: 3,\n",
       "   17: 4,\n",
       "   18: [{...},\n",
       "    {'_ih': ['',\n",
       "      'import numpy as np',\n",
       "      'ar1=np.arange(25)\\nar1',\n",
       "      'ar2=ar1[0:4]\\nar2',\n",
       "      'ar2[1]=80\\nar1',\n",
       "      'ar1',\n",
       "      'print(id(ar1[1]))\\nprint(id(ar2[1]))',\n",
       "      'import sys\\nsys.getrefcount(ar1)',\n",
       "      'strName = \"Atin\"',\n",
       "      'sys.getrefcount(strName)',\n",
       "      'strName = \"Atin Gupta\"',\n",
       "      'sys.getrefcount(strName)',\n",
       "      'strName = \"Atin Gupta\"',\n",
       "      'strName1 = strName',\n",
       "      'sys.getrefcount(strName)',\n",
       "      'strName1 = strName',\n",
       "      'strName2 = strName',\n",
       "      'sys.getrefcount(strName)',\n",
       "      'import gc\\ngc.get_referrers(ar1)',\n",
       "      'import gc\\ngc.get_referrers(strName)'],\n",
       "     '_oh': {...},\n",
       "     '_dh': ['/home/u1/Python-Scala-Spark-Training/Exercises/10-NumPy'],\n",
       "     'In': ['',\n",
       "      'import numpy as np',\n",
       "      'ar1=np.arange(25)\\nar1',\n",
       "      'ar2=ar1[0:4]\\nar2',\n",
       "      'ar2[1]=80\\nar1',\n",
       "      'ar1',\n",
       "      'print(id(ar1[1]))\\nprint(id(ar2[1]))',\n",
       "      'import sys\\nsys.getrefcount(ar1)',\n",
       "      'strName = \"Atin\"',\n",
       "      'sys.getrefcount(strName)',\n",
       "      'strName = \"Atin Gupta\"',\n",
       "      'sys.getrefcount(strName)',\n",
       "      'strName = \"Atin Gupta\"',\n",
       "      'strName1 = strName',\n",
       "      'sys.getrefcount(strName)',\n",
       "      'strName1 = strName',\n",
       "      'strName2 = strName',\n",
       "      'sys.getrefcount(strName)',\n",
       "      'import gc\\ngc.get_referrers(ar1)',\n",
       "      'import gc\\ngc.get_referrers(strName)'],\n",
       "     'Out': {...},\n",
       "     'get_ipython': <bound method InteractiveShell.get_ipython of <ipykernel.zmqshell.ZMQInteractiveShell object at 0x7f7c29df4450>>,\n",
       "     'exit': <IPython.core.autocall.ZMQExitAutocall at 0x7f7c284e7490>,\n",
       "     'quit': <IPython.core.autocall.ZMQExitAutocall at 0x7f7c284e7490>,\n",
       "     '__name__': '__main__',\n",
       "     '__doc__': 'Automatically created module for IPython interactive environment',\n",
       "     '__package__': None,\n",
       "     '__loader__': None,\n",
       "     '__spec__': None,\n",
       "     '__builtin__': <module 'builtins' (built-in)>,\n",
       "     '__builtins__': <module 'builtins' (built-in)>,\n",
       "     '_': [...],\n",
       "     '__': 4,\n",
       "     '___': 3,\n",
       "     '_i': 'import gc\\ngc.get_referrers(ar1)',\n",
       "     '_ii': 'sys.getrefcount(strName)',\n",
       "     '_iii': 'strName2 = strName',\n",
       "     '_i1': 'import numpy as np',\n",
       "     '_i2': 'ar1=np.arange(25)\\nar1',\n",
       "     '_2': array([ 0, 80,  2,  3,  4,  5,  6,  7,  8,  9, 10, 11, 12, 13, 14, 15, 16,\n",
       "            17, 18, 19, 20, 21, 22, 23, 24]),\n",
       "     '_i3': 'ar2=ar1[0:4]\\nar2',\n",
       "     '_3': array([ 0, 80,  2,  3]),\n",
       "     '_i4': 'ar2[1]=80\\nar1',\n",
       "     '_4': array([ 0, 80,  2,  3,  4,  5,  6,  7,  8,  9, 10, 11, 12, 13, 14, 15, 16,\n",
       "            17, 18, 19, 20, 21, 22, 23, 24]),\n",
       "     '_i5': 'ar1',\n",
       "     '_5': array([ 0, 80,  2,  3,  4,  5,  6,  7,  8,  9, 10, 11, 12, 13, 14, 15, 16,\n",
       "            17, 18, 19, 20, 21, 22, 23, 24]),\n",
       "     '_i6': 'print(id(ar1[1]))\\nprint(id(ar2[1]))',\n",
       "     '_i7': 'import sys\\nsys.getrefcount(ar1)',\n",
       "     '_7': 18,\n",
       "     '_i8': 'strName = \"Atin\"',\n",
       "     '_i9': 'sys.getrefcount(strName)',\n",
       "     '_9': 2,\n",
       "     '_i10': 'strName = \"Atin Gupta\"',\n",
       "     '_i11': 'sys.getrefcount(strName)',\n",
       "     '_11': 2,\n",
       "     '_i12': 'strName = \"Atin Gupta\"',\n",
       "     '_i13': 'strName1 = strName',\n",
       "     '_i14': 'sys.getrefcount(strName)',\n",
       "     '_14': 3,\n",
       "     '_i15': 'strName1 = strName',\n",
       "     '_i16': 'strName2 = strName',\n",
       "     '_i17': 'sys.getrefcount(strName)',\n",
       "     '_17': 4,\n",
       "     '_i18': 'import gc\\ngc.get_referrers(ar1)',\n",
       "     '_18': [...],\n",
       "     '_i19': 'import gc\\ngc.get_referrers(strName)'}]},\n",
       "  'get_ipython': <bound method InteractiveShell.get_ipython of <ipykernel.zmqshell.ZMQInteractiveShell object at 0x7f7c29df4450>>,\n",
       "  'exit': <IPython.core.autocall.ZMQExitAutocall at 0x7f7c284e7490>,\n",
       "  'quit': <IPython.core.autocall.ZMQExitAutocall at 0x7f7c284e7490>,\n",
       "  '_': [{...},\n",
       "   {'_ih': ['',\n",
       "     'import numpy as np',\n",
       "     'ar1=np.arange(25)\\nar1',\n",
       "     'ar2=ar1[0:4]\\nar2',\n",
       "     'ar2[1]=80\\nar1',\n",
       "     'ar1',\n",
       "     'print(id(ar1[1]))\\nprint(id(ar2[1]))',\n",
       "     'import sys\\nsys.getrefcount(ar1)',\n",
       "     'strName = \"Atin\"',\n",
       "     'sys.getrefcount(strName)',\n",
       "     'strName = \"Atin Gupta\"',\n",
       "     'sys.getrefcount(strName)',\n",
       "     'strName = \"Atin Gupta\"',\n",
       "     'strName1 = strName',\n",
       "     'sys.getrefcount(strName)',\n",
       "     'strName1 = strName',\n",
       "     'strName2 = strName',\n",
       "     'sys.getrefcount(strName)',\n",
       "     'import gc\\ngc.get_referrers(ar1)',\n",
       "     'import gc\\ngc.get_referrers(strName)'],\n",
       "    '_oh': {2: array([ 0, 80,  2,  3,  4,  5,  6,  7,  8,  9, 10, 11, 12, 13, 14, 15, 16,\n",
       "            17, 18, 19, 20, 21, 22, 23, 24]),\n",
       "     3: array([ 0, 80,  2,  3]),\n",
       "     4: array([ 0, 80,  2,  3,  4,  5,  6,  7,  8,  9, 10, 11, 12, 13, 14, 15, 16,\n",
       "            17, 18, 19, 20, 21, 22, 23, 24]),\n",
       "     5: array([ 0, 80,  2,  3,  4,  5,  6,  7,  8,  9, 10, 11, 12, 13, 14, 15, 16,\n",
       "            17, 18, 19, 20, 21, 22, 23, 24]),\n",
       "     7: 18,\n",
       "     9: 2,\n",
       "     11: 2,\n",
       "     14: 3,\n",
       "     17: 4,\n",
       "     18: [...]},\n",
       "    '_dh': ['/home/u1/Python-Scala-Spark-Training/Exercises/10-NumPy'],\n",
       "    'In': ['',\n",
       "     'import numpy as np',\n",
       "     'ar1=np.arange(25)\\nar1',\n",
       "     'ar2=ar1[0:4]\\nar2',\n",
       "     'ar2[1]=80\\nar1',\n",
       "     'ar1',\n",
       "     'print(id(ar1[1]))\\nprint(id(ar2[1]))',\n",
       "     'import sys\\nsys.getrefcount(ar1)',\n",
       "     'strName = \"Atin\"',\n",
       "     'sys.getrefcount(strName)',\n",
       "     'strName = \"Atin Gupta\"',\n",
       "     'sys.getrefcount(strName)',\n",
       "     'strName = \"Atin Gupta\"',\n",
       "     'strName1 = strName',\n",
       "     'sys.getrefcount(strName)',\n",
       "     'strName1 = strName',\n",
       "     'strName2 = strName',\n",
       "     'sys.getrefcount(strName)',\n",
       "     'import gc\\ngc.get_referrers(ar1)',\n",
       "     'import gc\\ngc.get_referrers(strName)'],\n",
       "    'Out': {2: array([ 0, 80,  2,  3,  4,  5,  6,  7,  8,  9, 10, 11, 12, 13, 14, 15, 16,\n",
       "            17, 18, 19, 20, 21, 22, 23, 24]),\n",
       "     3: array([ 0, 80,  2,  3]),\n",
       "     4: array([ 0, 80,  2,  3,  4,  5,  6,  7,  8,  9, 10, 11, 12, 13, 14, 15, 16,\n",
       "            17, 18, 19, 20, 21, 22, 23, 24]),\n",
       "     5: array([ 0, 80,  2,  3,  4,  5,  6,  7,  8,  9, 10, 11, 12, 13, 14, 15, 16,\n",
       "            17, 18, 19, 20, 21, 22, 23, 24]),\n",
       "     7: 18,\n",
       "     9: 2,\n",
       "     11: 2,\n",
       "     14: 3,\n",
       "     17: 4,\n",
       "     18: [...]},\n",
       "    'get_ipython': <bound method InteractiveShell.get_ipython of <ipykernel.zmqshell.ZMQInteractiveShell object at 0x7f7c29df4450>>,\n",
       "    'exit': <IPython.core.autocall.ZMQExitAutocall at 0x7f7c284e7490>,\n",
       "    'quit': <IPython.core.autocall.ZMQExitAutocall at 0x7f7c284e7490>,\n",
       "    '__name__': '__main__',\n",
       "    '__doc__': 'Automatically created module for IPython interactive environment',\n",
       "    '__package__': None,\n",
       "    '__loader__': None,\n",
       "    '__spec__': None,\n",
       "    '__builtin__': <module 'builtins' (built-in)>,\n",
       "    '__builtins__': <module 'builtins' (built-in)>,\n",
       "    '_': [...],\n",
       "    '__': 4,\n",
       "    '___': 3,\n",
       "    '_i': 'import gc\\ngc.get_referrers(ar1)',\n",
       "    '_ii': 'sys.getrefcount(strName)',\n",
       "    '_iii': 'strName2 = strName',\n",
       "    '_i1': 'import numpy as np',\n",
       "    '_i2': 'ar1=np.arange(25)\\nar1',\n",
       "    '_2': array([ 0, 80,  2,  3,  4,  5,  6,  7,  8,  9, 10, 11, 12, 13, 14, 15, 16,\n",
       "           17, 18, 19, 20, 21, 22, 23, 24]),\n",
       "    '_i3': 'ar2=ar1[0:4]\\nar2',\n",
       "    '_3': array([ 0, 80,  2,  3]),\n",
       "    '_i4': 'ar2[1]=80\\nar1',\n",
       "    '_4': array([ 0, 80,  2,  3,  4,  5,  6,  7,  8,  9, 10, 11, 12, 13, 14, 15, 16,\n",
       "           17, 18, 19, 20, 21, 22, 23, 24]),\n",
       "    '_i5': 'ar1',\n",
       "    '_5': array([ 0, 80,  2,  3,  4,  5,  6,  7,  8,  9, 10, 11, 12, 13, 14, 15, 16,\n",
       "           17, 18, 19, 20, 21, 22, 23, 24]),\n",
       "    '_i6': 'print(id(ar1[1]))\\nprint(id(ar2[1]))',\n",
       "    '_i7': 'import sys\\nsys.getrefcount(ar1)',\n",
       "    '_7': 18,\n",
       "    '_i8': 'strName = \"Atin\"',\n",
       "    '_i9': 'sys.getrefcount(strName)',\n",
       "    '_9': 2,\n",
       "    '_i10': 'strName = \"Atin Gupta\"',\n",
       "    '_i11': 'sys.getrefcount(strName)',\n",
       "    '_11': 2,\n",
       "    '_i12': 'strName = \"Atin Gupta\"',\n",
       "    '_i13': 'strName1 = strName',\n",
       "    '_i14': 'sys.getrefcount(strName)',\n",
       "    '_14': 3,\n",
       "    '_i15': 'strName1 = strName',\n",
       "    '_i16': 'strName2 = strName',\n",
       "    '_i17': 'sys.getrefcount(strName)',\n",
       "    '_17': 4,\n",
       "    '_i18': 'import gc\\ngc.get_referrers(ar1)',\n",
       "    '_18': [...],\n",
       "    '_i19': 'import gc\\ngc.get_referrers(strName)'}],\n",
       "  '__': 4,\n",
       "  '___': 3,\n",
       "  '_i': 'import gc\\ngc.get_referrers(ar1)',\n",
       "  '_ii': 'sys.getrefcount(strName)',\n",
       "  '_iii': 'strName2 = strName',\n",
       "  '_i1': 'import numpy as np',\n",
       "  'np': <module 'numpy' from '/usr/local/lib/python3.7/dist-packages/numpy/__init__.py'>,\n",
       "  '_i2': 'ar1=np.arange(25)\\nar1',\n",
       "  'ar1': array([ 0, 80,  2,  3,  4,  5,  6,  7,  8,  9, 10, 11, 12, 13, 14, 15, 16,\n",
       "         17, 18, 19, 20, 21, 22, 23, 24]),\n",
       "  '_2': array([ 0, 80,  2,  3,  4,  5,  6,  7,  8,  9, 10, 11, 12, 13, 14, 15, 16,\n",
       "         17, 18, 19, 20, 21, 22, 23, 24]),\n",
       "  '_i3': 'ar2=ar1[0:4]\\nar2',\n",
       "  'ar2': array([ 0, 80,  2,  3]),\n",
       "  '_3': array([ 0, 80,  2,  3]),\n",
       "  '_i4': 'ar2[1]=80\\nar1',\n",
       "  '_4': array([ 0, 80,  2,  3,  4,  5,  6,  7,  8,  9, 10, 11, 12, 13, 14, 15, 16,\n",
       "         17, 18, 19, 20, 21, 22, 23, 24]),\n",
       "  '_i5': 'ar1',\n",
       "  '_5': array([ 0, 80,  2,  3,  4,  5,  6,  7,  8,  9, 10, 11, 12, 13, 14, 15, 16,\n",
       "         17, 18, 19, 20, 21, 22, 23, 24]),\n",
       "  '_i6': 'print(id(ar1[1]))\\nprint(id(ar2[1]))',\n",
       "  '_i7': 'import sys\\nsys.getrefcount(ar1)',\n",
       "  'sys': <module 'sys' (built-in)>,\n",
       "  '_7': 18,\n",
       "  '_i8': 'strName = \"Atin\"',\n",
       "  'strName': 'Atin Gupta',\n",
       "  '_i9': 'sys.getrefcount(strName)',\n",
       "  '_9': 2,\n",
       "  '_i10': 'strName = \"Atin Gupta\"',\n",
       "  '_i11': 'sys.getrefcount(strName)',\n",
       "  '_11': 2,\n",
       "  '_i12': 'strName = \"Atin Gupta\"',\n",
       "  '_i13': 'strName1 = strName',\n",
       "  'strName1': 'Atin Gupta',\n",
       "  '_i14': 'sys.getrefcount(strName)',\n",
       "  '_14': 3,\n",
       "  '_i15': 'strName1 = strName',\n",
       "  '_i16': 'strName2 = strName',\n",
       "  'strName2': 'Atin Gupta',\n",
       "  '_i17': 'sys.getrefcount(strName)',\n",
       "  '_17': 4,\n",
       "  '_i18': 'import gc\\ngc.get_referrers(ar1)',\n",
       "  'gc': <module 'gc' (built-in)>,\n",
       "  '_18': [{...},\n",
       "   {'_ih': ['',\n",
       "     'import numpy as np',\n",
       "     'ar1=np.arange(25)\\nar1',\n",
       "     'ar2=ar1[0:4]\\nar2',\n",
       "     'ar2[1]=80\\nar1',\n",
       "     'ar1',\n",
       "     'print(id(ar1[1]))\\nprint(id(ar2[1]))',\n",
       "     'import sys\\nsys.getrefcount(ar1)',\n",
       "     'strName = \"Atin\"',\n",
       "     'sys.getrefcount(strName)',\n",
       "     'strName = \"Atin Gupta\"',\n",
       "     'sys.getrefcount(strName)',\n",
       "     'strName = \"Atin Gupta\"',\n",
       "     'strName1 = strName',\n",
       "     'sys.getrefcount(strName)',\n",
       "     'strName1 = strName',\n",
       "     'strName2 = strName',\n",
       "     'sys.getrefcount(strName)',\n",
       "     'import gc\\ngc.get_referrers(ar1)',\n",
       "     'import gc\\ngc.get_referrers(strName)'],\n",
       "    '_oh': {2: array([ 0, 80,  2,  3,  4,  5,  6,  7,  8,  9, 10, 11, 12, 13, 14, 15, 16,\n",
       "            17, 18, 19, 20, 21, 22, 23, 24]),\n",
       "     3: array([ 0, 80,  2,  3]),\n",
       "     4: array([ 0, 80,  2,  3,  4,  5,  6,  7,  8,  9, 10, 11, 12, 13, 14, 15, 16,\n",
       "            17, 18, 19, 20, 21, 22, 23, 24]),\n",
       "     5: array([ 0, 80,  2,  3,  4,  5,  6,  7,  8,  9, 10, 11, 12, 13, 14, 15, 16,\n",
       "            17, 18, 19, 20, 21, 22, 23, 24]),\n",
       "     7: 18,\n",
       "     9: 2,\n",
       "     11: 2,\n",
       "     14: 3,\n",
       "     17: 4,\n",
       "     18: [...]},\n",
       "    '_dh': ['/home/u1/Python-Scala-Spark-Training/Exercises/10-NumPy'],\n",
       "    'In': ['',\n",
       "     'import numpy as np',\n",
       "     'ar1=np.arange(25)\\nar1',\n",
       "     'ar2=ar1[0:4]\\nar2',\n",
       "     'ar2[1]=80\\nar1',\n",
       "     'ar1',\n",
       "     'print(id(ar1[1]))\\nprint(id(ar2[1]))',\n",
       "     'import sys\\nsys.getrefcount(ar1)',\n",
       "     'strName = \"Atin\"',\n",
       "     'sys.getrefcount(strName)',\n",
       "     'strName = \"Atin Gupta\"',\n",
       "     'sys.getrefcount(strName)',\n",
       "     'strName = \"Atin Gupta\"',\n",
       "     'strName1 = strName',\n",
       "     'sys.getrefcount(strName)',\n",
       "     'strName1 = strName',\n",
       "     'strName2 = strName',\n",
       "     'sys.getrefcount(strName)',\n",
       "     'import gc\\ngc.get_referrers(ar1)',\n",
       "     'import gc\\ngc.get_referrers(strName)'],\n",
       "    'Out': {2: array([ 0, 80,  2,  3,  4,  5,  6,  7,  8,  9, 10, 11, 12, 13, 14, 15, 16,\n",
       "            17, 18, 19, 20, 21, 22, 23, 24]),\n",
       "     3: array([ 0, 80,  2,  3]),\n",
       "     4: array([ 0, 80,  2,  3,  4,  5,  6,  7,  8,  9, 10, 11, 12, 13, 14, 15, 16,\n",
       "            17, 18, 19, 20, 21, 22, 23, 24]),\n",
       "     5: array([ 0, 80,  2,  3,  4,  5,  6,  7,  8,  9, 10, 11, 12, 13, 14, 15, 16,\n",
       "            17, 18, 19, 20, 21, 22, 23, 24]),\n",
       "     7: 18,\n",
       "     9: 2,\n",
       "     11: 2,\n",
       "     14: 3,\n",
       "     17: 4,\n",
       "     18: [...]},\n",
       "    'get_ipython': <bound method InteractiveShell.get_ipython of <ipykernel.zmqshell.ZMQInteractiveShell object at 0x7f7c29df4450>>,\n",
       "    'exit': <IPython.core.autocall.ZMQExitAutocall at 0x7f7c284e7490>,\n",
       "    'quit': <IPython.core.autocall.ZMQExitAutocall at 0x7f7c284e7490>,\n",
       "    '__name__': '__main__',\n",
       "    '__doc__': 'Automatically created module for IPython interactive environment',\n",
       "    '__package__': None,\n",
       "    '__loader__': None,\n",
       "    '__spec__': None,\n",
       "    '__builtin__': <module 'builtins' (built-in)>,\n",
       "    '__builtins__': <module 'builtins' (built-in)>,\n",
       "    '_': [...],\n",
       "    '__': 4,\n",
       "    '___': 3,\n",
       "    '_i': 'import gc\\ngc.get_referrers(ar1)',\n",
       "    '_ii': 'sys.getrefcount(strName)',\n",
       "    '_iii': 'strName2 = strName',\n",
       "    '_i1': 'import numpy as np',\n",
       "    '_i2': 'ar1=np.arange(25)\\nar1',\n",
       "    '_2': array([ 0, 80,  2,  3,  4,  5,  6,  7,  8,  9, 10, 11, 12, 13, 14, 15, 16,\n",
       "           17, 18, 19, 20, 21, 22, 23, 24]),\n",
       "    '_i3': 'ar2=ar1[0:4]\\nar2',\n",
       "    '_3': array([ 0, 80,  2,  3]),\n",
       "    '_i4': 'ar2[1]=80\\nar1',\n",
       "    '_4': array([ 0, 80,  2,  3,  4,  5,  6,  7,  8,  9, 10, 11, 12, 13, 14, 15, 16,\n",
       "           17, 18, 19, 20, 21, 22, 23, 24]),\n",
       "    '_i5': 'ar1',\n",
       "    '_5': array([ 0, 80,  2,  3,  4,  5,  6,  7,  8,  9, 10, 11, 12, 13, 14, 15, 16,\n",
       "           17, 18, 19, 20, 21, 22, 23, 24]),\n",
       "    '_i6': 'print(id(ar1[1]))\\nprint(id(ar2[1]))',\n",
       "    '_i7': 'import sys\\nsys.getrefcount(ar1)',\n",
       "    '_7': 18,\n",
       "    '_i8': 'strName = \"Atin\"',\n",
       "    '_i9': 'sys.getrefcount(strName)',\n",
       "    '_9': 2,\n",
       "    '_i10': 'strName = \"Atin Gupta\"',\n",
       "    '_i11': 'sys.getrefcount(strName)',\n",
       "    '_11': 2,\n",
       "    '_i12': 'strName = \"Atin Gupta\"',\n",
       "    '_i13': 'strName1 = strName',\n",
       "    '_i14': 'sys.getrefcount(strName)',\n",
       "    '_14': 3,\n",
       "    '_i15': 'strName1 = strName',\n",
       "    '_i16': 'strName2 = strName',\n",
       "    '_i17': 'sys.getrefcount(strName)',\n",
       "    '_17': 4,\n",
       "    '_i18': 'import gc\\ngc.get_referrers(ar1)',\n",
       "    '_18': [...],\n",
       "    '_i19': 'import gc\\ngc.get_referrers(strName)'}],\n",
       "  '_i19': 'import gc\\ngc.get_referrers(strName)'}]"
      ]
     },
     "execution_count": 19,
     "metadata": {},
     "output_type": "execute_result"
    }
   ],
   "source": [
    "import gc\n",
    "gc.get_referrers(strName)"
   ]
  },
  {
   "cell_type": "markdown",
   "metadata": {
    "colab_type": "text",
    "collapsed": true,
    "id": "o9YmJ95bx3s_"
   },
   "source": [
    "# Great Job!"
   ]
  }
 ],
 "metadata": {
  "colab": {
   "name": "12-G. Numpy Exercise .ipynb",
   "provenance": [],
   "version": "0.3.2"
  },
  "kernelspec": {
   "display_name": "Python 3",
   "language": "python",
   "name": "python3"
  },
  "language_info": {
   "codemirror_mode": {
    "name": "ipython",
    "version": 3
   },
   "file_extension": ".py",
   "mimetype": "text/x-python",
   "name": "python",
   "nbconvert_exporter": "python",
   "pygments_lexer": "ipython3",
   "version": "3.7.10"
  }
 },
 "nbformat": 4,
 "nbformat_minor": 1
}
