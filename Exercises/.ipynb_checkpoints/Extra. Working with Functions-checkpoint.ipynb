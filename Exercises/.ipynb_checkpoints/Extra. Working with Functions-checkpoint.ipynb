{
 "cells": [
  {
   "cell_type": "markdown",
   "metadata": {},
   "source": [
    "A function is a block of code which only runs when it is called.\n",
    "\n",
    "You can pass data, known as parameters, into a function.\n",
    "\n",
    "A function can return data as a result."
   ]
  },
  {
   "cell_type": "markdown",
   "metadata": {},
   "source": [
    "In Python a function is defined using the def keyword:"
   ]
  },
  {
   "cell_type": "code",
   "execution_count": 1,
   "metadata": {},
   "outputs": [],
   "source": [
    "def my_function():\n",
    "  print(\"Hello from a function\")"
   ]
  },
  {
   "cell_type": "markdown",
   "metadata": {},
   "source": [
    "To call a function, use the function name followed by parenthesis:"
   ]
  },
  {
   "cell_type": "code",
   "execution_count": 2,
   "metadata": {},
   "outputs": [
    {
     "name": "stdout",
     "output_type": "stream",
     "text": [
      "Hello from a function\n"
     ]
    }
   ],
   "source": [
    "my_function()"
   ]
  },
  {
   "cell_type": "markdown",
   "metadata": {},
   "source": [
    "Information can be passed to functions as parameter."
   ]
  },
  {
   "cell_type": "code",
   "execution_count": 3,
   "metadata": {},
   "outputs": [
    {
     "name": "stdout",
     "output_type": "stream",
     "text": [
      "Emil Refsnes\n",
      "Tobias Refsnes\n",
      "Linus Refsnes\n"
     ]
    }
   ],
   "source": [
    "def my_function(fname):\n",
    "  print(fname + \" Refsnes\")\n",
    "\n",
    "my_function(\"Emil\")\n",
    "my_function(\"Tobias\")\n",
    "my_function(\"Linus\")"
   ]
  },
  {
   "cell_type": "markdown",
   "metadata": {},
   "source": [
    "The following example shows how to use a default parameter value.\n",
    "\n",
    "If we call the function without parameter, it uses the default value:"
   ]
  },
  {
   "cell_type": "code",
   "execution_count": 4,
   "metadata": {},
   "outputs": [
    {
     "name": "stdout",
     "output_type": "stream",
     "text": [
      "I am from Sweden\n",
      "I am from India\n",
      "I am from Norway\n",
      "I am from Brazil\n"
     ]
    }
   ],
   "source": [
    "def my_function(country = \"Norway\"):\n",
    "  print(\"I am from \" + country)\n",
    "\n",
    "my_function(\"Sweden\")\n",
    "my_function(\"India\")\n",
    "my_function()\n",
    "my_function(\"Brazil\")"
   ]
  },
  {
   "cell_type": "markdown",
   "metadata": {},
   "source": [
    "To let a function return a value, use the return statement:"
   ]
  },
  {
   "cell_type": "code",
   "execution_count": 5,
   "metadata": {},
   "outputs": [
    {
     "name": "stdout",
     "output_type": "stream",
     "text": [
      "15\n",
      "25\n",
      "45\n"
     ]
    }
   ],
   "source": [
    "def my_function(x):\n",
    "  return 5 * x\n",
    "\n",
    "print(my_function(3))\n",
    "print(my_function(5))\n",
    "print(my_function(9))\n"
   ]
  },
  {
   "cell_type": "markdown",
   "metadata": {},
   "source": [
    "Function Arguments\n",
    " - Required arguments\n",
    " - Keyword arguments\n",
    " - Default arguments\n",
    " - Variable-length arguments"
   ]
  },
  {
   "cell_type": "code",
   "execution_count": 6,
   "metadata": {},
   "outputs": [
    {
     "name": "stdout",
     "output_type": "stream",
     "text": [
      "Gupta Atin\n"
     ]
    }
   ],
   "source": [
    "# Required arguments / Positional Aurguments\n",
    "# Required arguments are the arguments passed to a function in correct positional order.\n",
    "\n",
    "def printme( str1, str2 ):\n",
    "   \"This prints a passed string into this function\"\n",
    "   print(str1, str2)\n",
    "   return;\n",
    "\n",
    "# Now you can call printme function\n",
    "printme(\"Gupta\", \"Atin\") "
   ]
  },
  {
   "cell_type": "code",
   "execution_count": null,
   "metadata": {},
   "outputs": [],
   "source": []
  },
  {
   "cell_type": "code",
   "execution_count": 8,
   "metadata": {},
   "outputs": [
    {
     "name": "stdout",
     "output_type": "stream",
     "text": [
      "Atin Gupta\n"
     ]
    }
   ],
   "source": [
    "# Keyword arguments\n",
    "# When you use keyword arguments in a function call, the caller identifies the arguments by the parameter name.\n",
    "\n",
    "def printme( str1, str2 ):\n",
    "   \"This prints a passed string into this function\"\n",
    "   print(str1, str2)\n",
    "   return;\n",
    "\n",
    "# Now you can call printme function\n",
    "printme( str2 = \"Gupta\", str1 = \"Atin\")"
   ]
  },
  {
   "cell_type": "code",
   "execution_count": 10,
   "metadata": {},
   "outputs": [
    {
     "name": "stdout",
     "output_type": "stream",
     "text": [
      "Name:  Atin\n",
      "Age  40\n",
      "Name:  Atin\n",
      "Age  35\n"
     ]
    }
   ],
   "source": [
    "# A default argument is an argument that assumes a default value if a value is not provided \n",
    "# in the function call for that argument. \n",
    "\n",
    "def printinfo( name, age = 35 ):\n",
    "   \"This prints a passed info into this function\"\n",
    "   print(\"Name: \", name)\n",
    "   print(\"Age \", age)\n",
    "   return;\n",
    "\n",
    "# Now you can call printinfo function\n",
    "printinfo( age=40, name=\"Atin\" )\n",
    "printinfo( name=\"Atin\" )\n"
   ]
  },
  {
   "cell_type": "code",
   "execution_count": 16,
   "metadata": {},
   "outputs": [
    {
     "name": "stdout",
     "output_type": "stream",
     "text": [
      "Name:  Atin\n",
      "Age  46\n"
     ]
    }
   ],
   "source": [
    "printinfo( name=\"Atin\", age=46 )"
   ]
  },
  {
   "cell_type": "code",
   "execution_count": 28,
   "metadata": {},
   "outputs": [
    {
     "name": "stdout",
     "output_type": "stream",
     "text": [
      "Output is: \n",
      "10\n",
      "Output is: \n",
      "70\n",
      "60\n",
      "50\n"
     ]
    }
   ],
   "source": [
    "# Variable-length arguments\n",
    "def printinfo( arg1, *vartuple ):\n",
    "   \"This prints a variable passed arguments\"\n",
    "   print(\"Output is: \")\n",
    "   print(arg1)\n",
    "   for var in vartuple:\n",
    "      print(var)\n",
    "   return;\n",
    "\n",
    "# Now you can call printinfo function\n",
    "printinfo( 10 )\n",
    "printinfo( 70, 60, 50 )"
   ]
  },
  {
   "cell_type": "code",
   "execution_count": 29,
   "metadata": {},
   "outputs": [
    {
     "data": {
      "text/plain": [
       "5"
      ]
     },
     "execution_count": 29,
     "metadata": {},
     "output_type": "execute_result"
    }
   ],
   "source": [
    "b"
   ]
  },
  {
   "cell_type": "code",
   "execution_count": 21,
   "metadata": {},
   "outputs": [
    {
     "name": "stdout",
     "output_type": "stream",
     "text": [
      "Output is: \n",
      "20\n",
      "30\n",
      "35\n",
      "45\n"
     ]
    }
   ],
   "source": [
    "printinfo( 20, 30, 35, 45 )"
   ]
  },
  {
   "cell_type": "markdown",
   "metadata": {},
   "source": [
    "### Scope of variables\n",
    "\n",
    " - The location where we can find a variable and also access it if required is called the scope of a variable. \n"
   ]
  },
  {
   "cell_type": "code",
   "execution_count": 31,
   "metadata": {},
   "outputs": [
    {
     "name": "stdout",
     "output_type": "stream",
     "text": [
      "Inside f1 -  5\n"
     ]
    },
    {
     "ename": "NameError",
     "evalue": "name 'aa' is not defined",
     "output_type": "error",
     "traceback": [
      "\u001b[0;31m---------------------------------------------------------------------------\u001b[0m",
      "\u001b[0;31mNameError\u001b[0m                                 Traceback (most recent call last)",
      "\u001b[0;32m<ipython-input-31-2c5b7c3542df>\u001b[0m in \u001b[0;36m<module>\u001b[0;34m\u001b[0m\n\u001b[1;32m      6\u001b[0m \u001b[0mf1\u001b[0m\u001b[0;34m(\u001b[0m\u001b[0;34m)\u001b[0m\u001b[0;34m\u001b[0m\u001b[0;34m\u001b[0m\u001b[0m\n\u001b[1;32m      7\u001b[0m \u001b[0;31m#a can't be accessed outside the function f1\u001b[0m\u001b[0;34m\u001b[0m\u001b[0;34m\u001b[0m\u001b[0;34m\u001b[0m\u001b[0m\n\u001b[0;32m----> 8\u001b[0;31m \u001b[0mprint\u001b[0m \u001b[0;34m(\u001b[0m\u001b[0;34m\"Outside f1 - \"\u001b[0m\u001b[0;34m,\u001b[0m \u001b[0maa\u001b[0m\u001b[0;34m)\u001b[0m\u001b[0;34m\u001b[0m\u001b[0;34m\u001b[0m\u001b[0m\n\u001b[0m",
      "\u001b[0;31mNameError\u001b[0m: name 'aa' is not defined"
     ]
    }
   ],
   "source": [
    "# A local variable can be accessed only locally i.e., a variable defined inside a function is accessible to that function only and can't be used outside the function.\n",
    "\n",
    "def f1():\n",
    "    a = 5\n",
    "    print (\"Inside f1 - \", a)\n",
    "f1()\n",
    "#a can't be accessed outside the function f1\n",
    "print (\"Outside f1 - \", a)"
   ]
  },
  {
   "cell_type": "code",
   "execution_count": null,
   "metadata": {},
   "outputs": [],
   "source": []
  },
  {
   "cell_type": "code",
   "execution_count": 37,
   "metadata": {},
   "outputs": [
    {
     "name": "stdout",
     "output_type": "stream",
     "text": [
      "5\n",
      "locals: {'a': 5}\n",
      "111\n"
     ]
    }
   ],
   "source": [
    "## Also, we can access from a function the variables which are defined outside that function\n",
    "## but can't modify them.\n",
    "\n",
    "## We are able to print the global variable 'a'. \n",
    "## Python first looked for a variable named 'a' inside the function and when it was not found, \n",
    "## it looked in the global scope and printed the global value of 'a'.\n",
    "\n",
    "a = 111\n",
    "def f1():\n",
    "    a = 5\n",
    "    print (a) #will print 5\n",
    "    print(\"locals:\", locals())\n",
    "\n",
    "\n",
    "f1()\n",
    "\n",
    "print (a) #will print 1\n"
   ]
  },
  {
   "cell_type": "code",
   "execution_count": 36,
   "metadata": {},
   "outputs": [
    {
     "data": {
      "text/plain": [
       "{'__name__': '__main__',\n",
       " '__doc__': 'Automatically created module for IPython interactive environment',\n",
       " '__package__': None,\n",
       " '__loader__': None,\n",
       " '__spec__': None,\n",
       " '__builtin__': <module 'builtins' (built-in)>,\n",
       " '__builtins__': <module 'builtins' (built-in)>,\n",
       " '_ih': ['',\n",
       "  'def my_function():\\n  print(\"Hello from a function\")',\n",
       "  'my_function()',\n",
       "  'def my_function(fname):\\n  print(fname + \" Refsnes\")\\n\\nmy_function(\"Emil\")\\nmy_function(\"Tobias\")\\nmy_function(\"Linus\")',\n",
       "  'def my_function(country = \"Norway\"):\\n  print(\"I am from \" + country)\\n\\nmy_function(\"Sweden\")\\nmy_function(\"India\")\\nmy_function()\\nmy_function(\"Brazil\")',\n",
       "  'def my_function(x):\\n  return 5 * x\\n\\nprint(my_function(3))\\nprint(my_function(5))\\nprint(my_function(9))',\n",
       "  '# Required arguments / Positional Aurguments\\n# Required arguments are the arguments passed to a function in correct positional order.\\n\\ndef printme( str1, str2 ):\\n   \"This prints a passed string into this function\"\\n   print(str1, str2)\\n   return;\\n\\n# Now you can call printme function\\nprintme(\"Gupta\", \"Atin\") ',\n",
       "  '# Keyword arguments\\n# When you use keyword arguments in a function call, the caller identifies the arguments by the parameter name.\\n\\ndef printme( str1, str2 ):\\n   \"This prints a passed string into this function\"\\n   print(str1, str2)\\n   return;\\n\\n# Now you can call printme function\\nprintme( str1 = \"Atin\", str2 = \"Gupta\")',\n",
       "  '# Keyword arguments\\n# When you use keyword arguments in a function call, the caller identifies the arguments by the parameter name.\\n\\ndef printme( str1, str2 ):\\n   \"This prints a passed string into this function\"\\n   print(str1, str2)\\n   return;\\n\\n# Now you can call printme function\\nprintme( str2 = \"Gupta\", str1 = \"Atin\")',\n",
       "  '# A default argument is an argument that assumes a default value if a value is not provided \\n# in the function call for that argument. \\n\\ndef printinfo( name, age = 35 ):\\n   \"This prints a passed info into this function\"\\n   print(\"Name: \", name)\\n   print(\"Age \", age)\\n   return;\\n\\n# Now you can call printinfo function\\nprintinfo( age=40, name=\"Atin\" )\\nprintinfo( name=\"Atin\" )',\n",
       "  '# A default argument is an argument that assumes a default value if a value is not provided \\n# in the function call for that argument. \\n\\ndef printinfo( name, age = 35 ):\\n   \"This prints a passed info into this function\"\\n   print(\"Name: \", name)\\n   print(\"Age \", age)\\n   return;\\n\\n# Now you can call printinfo function\\nprintinfo( age=40, name=\"Atin\" )\\nprintinfo( name=\"Atin\" )',\n",
       "  'printinfo( \"Atin\" )',\n",
       "  'printinfo( \"Atin\", 46 )',\n",
       "  'printinfo( \"Atin\", age=46 )',\n",
       "  'printinfo( name=\"Atin\", age=46 )',\n",
       "  'printinfo( name=\"Atin\", 46 )',\n",
       "  'printinfo( name=\"Atin\", age=46 )',\n",
       "  '# Variable-length arguments\\ndef printinfo( arg1, *vartuple ):\\n   \"This prints a variable passed arguments\"\\n   print(\"Output is: \")\\n   print(arg1)\\n   for var in vartuple:\\n      print(var)\\n   return;\\n\\n# Now you can call printinfo function\\nprintinfo( 10 )\\nprintinfo( 70, 60, 50 )',\n",
       "  '# Variable-length arguments\\ndef printinfo( arg1, *vartuple ):\\n   \"This prints a variable passed arguments\"\\n   print(\"Output is: \")\\n   print(arg1)\\n   for var in vartuple:\\n      print(var)\\n   return;\\n\\n# Now you can call printinfo function\\nprintinfo( 10 )\\nprintinfo( 70, 60, 50 )',\n",
       "  'printinfo( 10 )',\n",
       "  'printinfo( 20 )',\n",
       "  'printinfo( 20, 30, 35, 45 )',\n",
       "  '# Variable-length arguments\\ndef printinfo( arg1, *vartuple ):\\n   \"This prints a variable passed arguments\"\\n   print(\"Output is: \")\\n   print(arg1)\\n   for var in vartuple:\\n      print(var)\\n   return 4,5,6;\\n\\n# Now you can call printinfo function\\nprintinfo( 10 )\\nt1=printinfo( 70, 60, 50 )',\n",
       "  '# Variable-length arguments\\ndef printinfo( arg1, *vartuple ):\\n   \"This prints a variable passed arguments\"\\n   print(\"Output is: \")\\n   print(arg1)\\n   for var in vartuple:\\n      print(var)\\n   return 4,5,6;\\n\\n# Now you can call printinfo function\\nprintinfo( 10 )\\nt1=printinfo( 70, 60, 50 )',\n",
       "  't1',\n",
       "  '# Variable-length arguments\\ndef printinfo( arg1, *vartuple ):\\n   \"This prints a variable passed arguments\"\\n   print(\"Output is: \")\\n   print(arg1)\\n   for var in vartuple:\\n      print(var)\\n   return 4,5,6;\\n\\n# Now you can call printinfo function\\nprintinfo( 10 )\\na,b,c=printinfo( 70, 60, 50 )',\n",
       "  'a',\n",
       "  '# Variable-length arguments\\ndef printinfo( arg1, *vartuple ):\\n   \"This prints a variable passed arguments\"\\n   print(\"Output is: \")\\n   print(arg1)\\n   for var in vartuple:\\n      print(var)\\n   return 4,5,6;\\n\\n# Now you can call printinfo function\\nprintinfo( 10 )\\na,b=printinfo( 70, 60, 50 )',\n",
       "  '# Variable-length arguments\\ndef printinfo( arg1, *vartuple ):\\n   \"This prints a variable passed arguments\"\\n   print(\"Output is: \")\\n   print(arg1)\\n   for var in vartuple:\\n      print(var)\\n   return 4,5,6;\\n\\n# Now you can call printinfo function\\nprintinfo( 10 )\\na,b,_=printinfo( 70, 60, 50 )',\n",
       "  'b',\n",
       "  '# A local variable can be accessed only locally i.e., a variable defined inside a function is accessible to that function only and can\\'t be used outside the function.\\n\\ndef f1():\\n    a = 5\\n    print (\"Inside f1 - \", a)\\nf1()\\n#a can\\'t be accessed outside the function f1\\nprint (\"Outside f1 - \", a)',\n",
       "  '# A local variable can be accessed only locally i.e., a variable defined inside a function is accessible to that function only and can\\'t be used outside the function.\\n\\ndef f1():\\n    aa = 5\\n    print (\"Inside f1 - \", aa)\\nf1()\\n#a can\\'t be accessed outside the function f1\\nprint (\"Outside f1 - \", aa)',\n",
       "  \"## Also, we can access from a function the variables which are defined outside that function\\n## but can't modify them.\\n\\n## We are able to print the global variable 'a'. \\n## Python first looked for a variable named 'a' inside the function and when it was not found, \\n## it looked in the global scope and printed the global value of 'a'.\\n\\na = 1\\ndef f1():\\n    a = 5\\n    print (a) #will print 5\\n\\n\\nf1()\\n\\nprint (a) #will print 1\",\n",
       "  \"## Also, we can access from a function the variables which are defined outside that function\\n## but can't modify them.\\n\\n## We are able to print the global variable 'a'. \\n## Python first looked for a variable named 'a' inside the function and when it was not found, \\n## it looked in the global scope and printed the global value of 'a'.\\n\\na = 1\\ndef f1():\\n    a = 5\\n    print (a) #will print 5\\n\\n\\nf1()\\n\\nprint (a) #will print 1\",\n",
       "  'globals()',\n",
       "  \"## Also, we can access from a function the variables which are defined outside that function\\n## but can't modify them.\\n\\n## We are able to print the global variable 'a'. \\n## Python first looked for a variable named 'a' inside the function and when it was not found, \\n## it looked in the global scope and printed the global value of 'a'.\\n\\na = 111\\ndef f1():\\n    a = 5\\n    print (a) #will print 5\\n\\n\\nf1()\\n\\nprint (a) #will print 1\",\n",
       "  'globals()'],\n",
       " '_oh': {24: (4, 5, 6), 26: 4, 29: 5, 34: {...}},\n",
       " '_dh': ['/home/u1/Python-Scala-Spark-Training/Exercises'],\n",
       " 'In': ['',\n",
       "  'def my_function():\\n  print(\"Hello from a function\")',\n",
       "  'my_function()',\n",
       "  'def my_function(fname):\\n  print(fname + \" Refsnes\")\\n\\nmy_function(\"Emil\")\\nmy_function(\"Tobias\")\\nmy_function(\"Linus\")',\n",
       "  'def my_function(country = \"Norway\"):\\n  print(\"I am from \" + country)\\n\\nmy_function(\"Sweden\")\\nmy_function(\"India\")\\nmy_function()\\nmy_function(\"Brazil\")',\n",
       "  'def my_function(x):\\n  return 5 * x\\n\\nprint(my_function(3))\\nprint(my_function(5))\\nprint(my_function(9))',\n",
       "  '# Required arguments / Positional Aurguments\\n# Required arguments are the arguments passed to a function in correct positional order.\\n\\ndef printme( str1, str2 ):\\n   \"This prints a passed string into this function\"\\n   print(str1, str2)\\n   return;\\n\\n# Now you can call printme function\\nprintme(\"Gupta\", \"Atin\") ',\n",
       "  '# Keyword arguments\\n# When you use keyword arguments in a function call, the caller identifies the arguments by the parameter name.\\n\\ndef printme( str1, str2 ):\\n   \"This prints a passed string into this function\"\\n   print(str1, str2)\\n   return;\\n\\n# Now you can call printme function\\nprintme( str1 = \"Atin\", str2 = \"Gupta\")',\n",
       "  '# Keyword arguments\\n# When you use keyword arguments in a function call, the caller identifies the arguments by the parameter name.\\n\\ndef printme( str1, str2 ):\\n   \"This prints a passed string into this function\"\\n   print(str1, str2)\\n   return;\\n\\n# Now you can call printme function\\nprintme( str2 = \"Gupta\", str1 = \"Atin\")',\n",
       "  '# A default argument is an argument that assumes a default value if a value is not provided \\n# in the function call for that argument. \\n\\ndef printinfo( name, age = 35 ):\\n   \"This prints a passed info into this function\"\\n   print(\"Name: \", name)\\n   print(\"Age \", age)\\n   return;\\n\\n# Now you can call printinfo function\\nprintinfo( age=40, name=\"Atin\" )\\nprintinfo( name=\"Atin\" )',\n",
       "  '# A default argument is an argument that assumes a default value if a value is not provided \\n# in the function call for that argument. \\n\\ndef printinfo( name, age = 35 ):\\n   \"This prints a passed info into this function\"\\n   print(\"Name: \", name)\\n   print(\"Age \", age)\\n   return;\\n\\n# Now you can call printinfo function\\nprintinfo( age=40, name=\"Atin\" )\\nprintinfo( name=\"Atin\" )',\n",
       "  'printinfo( \"Atin\" )',\n",
       "  'printinfo( \"Atin\", 46 )',\n",
       "  'printinfo( \"Atin\", age=46 )',\n",
       "  'printinfo( name=\"Atin\", age=46 )',\n",
       "  'printinfo( name=\"Atin\", 46 )',\n",
       "  'printinfo( name=\"Atin\", age=46 )',\n",
       "  '# Variable-length arguments\\ndef printinfo( arg1, *vartuple ):\\n   \"This prints a variable passed arguments\"\\n   print(\"Output is: \")\\n   print(arg1)\\n   for var in vartuple:\\n      print(var)\\n   return;\\n\\n# Now you can call printinfo function\\nprintinfo( 10 )\\nprintinfo( 70, 60, 50 )',\n",
       "  '# Variable-length arguments\\ndef printinfo( arg1, *vartuple ):\\n   \"This prints a variable passed arguments\"\\n   print(\"Output is: \")\\n   print(arg1)\\n   for var in vartuple:\\n      print(var)\\n   return;\\n\\n# Now you can call printinfo function\\nprintinfo( 10 )\\nprintinfo( 70, 60, 50 )',\n",
       "  'printinfo( 10 )',\n",
       "  'printinfo( 20 )',\n",
       "  'printinfo( 20, 30, 35, 45 )',\n",
       "  '# Variable-length arguments\\ndef printinfo( arg1, *vartuple ):\\n   \"This prints a variable passed arguments\"\\n   print(\"Output is: \")\\n   print(arg1)\\n   for var in vartuple:\\n      print(var)\\n   return 4,5,6;\\n\\n# Now you can call printinfo function\\nprintinfo( 10 )\\nt1=printinfo( 70, 60, 50 )',\n",
       "  '# Variable-length arguments\\ndef printinfo( arg1, *vartuple ):\\n   \"This prints a variable passed arguments\"\\n   print(\"Output is: \")\\n   print(arg1)\\n   for var in vartuple:\\n      print(var)\\n   return 4,5,6;\\n\\n# Now you can call printinfo function\\nprintinfo( 10 )\\nt1=printinfo( 70, 60, 50 )',\n",
       "  't1',\n",
       "  '# Variable-length arguments\\ndef printinfo( arg1, *vartuple ):\\n   \"This prints a variable passed arguments\"\\n   print(\"Output is: \")\\n   print(arg1)\\n   for var in vartuple:\\n      print(var)\\n   return 4,5,6;\\n\\n# Now you can call printinfo function\\nprintinfo( 10 )\\na,b,c=printinfo( 70, 60, 50 )',\n",
       "  'a',\n",
       "  '# Variable-length arguments\\ndef printinfo( arg1, *vartuple ):\\n   \"This prints a variable passed arguments\"\\n   print(\"Output is: \")\\n   print(arg1)\\n   for var in vartuple:\\n      print(var)\\n   return 4,5,6;\\n\\n# Now you can call printinfo function\\nprintinfo( 10 )\\na,b=printinfo( 70, 60, 50 )',\n",
       "  '# Variable-length arguments\\ndef printinfo( arg1, *vartuple ):\\n   \"This prints a variable passed arguments\"\\n   print(\"Output is: \")\\n   print(arg1)\\n   for var in vartuple:\\n      print(var)\\n   return 4,5,6;\\n\\n# Now you can call printinfo function\\nprintinfo( 10 )\\na,b,_=printinfo( 70, 60, 50 )',\n",
       "  'b',\n",
       "  '# A local variable can be accessed only locally i.e., a variable defined inside a function is accessible to that function only and can\\'t be used outside the function.\\n\\ndef f1():\\n    a = 5\\n    print (\"Inside f1 - \", a)\\nf1()\\n#a can\\'t be accessed outside the function f1\\nprint (\"Outside f1 - \", a)',\n",
       "  '# A local variable can be accessed only locally i.e., a variable defined inside a function is accessible to that function only and can\\'t be used outside the function.\\n\\ndef f1():\\n    aa = 5\\n    print (\"Inside f1 - \", aa)\\nf1()\\n#a can\\'t be accessed outside the function f1\\nprint (\"Outside f1 - \", aa)',\n",
       "  \"## Also, we can access from a function the variables which are defined outside that function\\n## but can't modify them.\\n\\n## We are able to print the global variable 'a'. \\n## Python first looked for a variable named 'a' inside the function and when it was not found, \\n## it looked in the global scope and printed the global value of 'a'.\\n\\na = 1\\ndef f1():\\n    a = 5\\n    print (a) #will print 5\\n\\n\\nf1()\\n\\nprint (a) #will print 1\",\n",
       "  \"## Also, we can access from a function the variables which are defined outside that function\\n## but can't modify them.\\n\\n## We are able to print the global variable 'a'. \\n## Python first looked for a variable named 'a' inside the function and when it was not found, \\n## it looked in the global scope and printed the global value of 'a'.\\n\\na = 1\\ndef f1():\\n    a = 5\\n    print (a) #will print 5\\n\\n\\nf1()\\n\\nprint (a) #will print 1\",\n",
       "  'globals()',\n",
       "  \"## Also, we can access from a function the variables which are defined outside that function\\n## but can't modify them.\\n\\n## We are able to print the global variable 'a'. \\n## Python first looked for a variable named 'a' inside the function and when it was not found, \\n## it looked in the global scope and printed the global value of 'a'.\\n\\na = 111\\ndef f1():\\n    a = 5\\n    print (a) #will print 5\\n\\n\\nf1()\\n\\nprint (a) #will print 1\",\n",
       "  'globals()'],\n",
       " 'Out': {24: (4, 5, 6), 26: 4, 29: 5, 34: {...}},\n",
       " 'get_ipython': <bound method InteractiveShell.get_ipython of <ipykernel.zmqshell.ZMQInteractiveShell object at 0x7f7fecaf8f10>>,\n",
       " 'exit': <IPython.core.autocall.ZMQExitAutocall at 0x7f7fe5a5dc10>,\n",
       " 'quit': <IPython.core.autocall.ZMQExitAutocall at 0x7f7fe5a5dc10>,\n",
       " '_': 6,\n",
       " '__': (4, 5, 6),\n",
       " '___': '',\n",
       " '_i': \"## Also, we can access from a function the variables which are defined outside that function\\n## but can't modify them.\\n\\n## We are able to print the global variable 'a'. \\n## Python first looked for a variable named 'a' inside the function and when it was not found, \\n## it looked in the global scope and printed the global value of 'a'.\\n\\na = 111\\ndef f1():\\n    a = 5\\n    print (a) #will print 5\\n\\n\\nf1()\\n\\nprint (a) #will print 1\",\n",
       " '_ii': 'globals()',\n",
       " '_iii': \"## Also, we can access from a function the variables which are defined outside that function\\n## but can't modify them.\\n\\n## We are able to print the global variable 'a'. \\n## Python first looked for a variable named 'a' inside the function and when it was not found, \\n## it looked in the global scope and printed the global value of 'a'.\\n\\na = 1\\ndef f1():\\n    a = 5\\n    print (a) #will print 5\\n\\n\\nf1()\\n\\nprint (a) #will print 1\",\n",
       " '_i1': 'def my_function():\\n  print(\"Hello from a function\")',\n",
       " 'my_function': <function __main__.my_function(x)>,\n",
       " '_i2': 'my_function()',\n",
       " '_i3': 'def my_function(fname):\\n  print(fname + \" Refsnes\")\\n\\nmy_function(\"Emil\")\\nmy_function(\"Tobias\")\\nmy_function(\"Linus\")',\n",
       " '_i4': 'def my_function(country = \"Norway\"):\\n  print(\"I am from \" + country)\\n\\nmy_function(\"Sweden\")\\nmy_function(\"India\")\\nmy_function()\\nmy_function(\"Brazil\")',\n",
       " '_i5': 'def my_function(x):\\n  return 5 * x\\n\\nprint(my_function(3))\\nprint(my_function(5))\\nprint(my_function(9))',\n",
       " '_i6': '# Required arguments / Positional Aurguments\\n# Required arguments are the arguments passed to a function in correct positional order.\\n\\ndef printme( str1, str2 ):\\n   \"This prints a passed string into this function\"\\n   print(str1, str2)\\n   return;\\n\\n# Now you can call printme function\\nprintme(\"Gupta\", \"Atin\") ',\n",
       " 'printme': <function __main__.printme(str1, str2)>,\n",
       " '_i7': '# Keyword arguments\\n# When you use keyword arguments in a function call, the caller identifies the arguments by the parameter name.\\n\\ndef printme( str1, str2 ):\\n   \"This prints a passed string into this function\"\\n   print(str1, str2)\\n   return;\\n\\n# Now you can call printme function\\nprintme( str1 = \"Atin\", str2 = \"Gupta\")',\n",
       " '_i8': '# Keyword arguments\\n# When you use keyword arguments in a function call, the caller identifies the arguments by the parameter name.\\n\\ndef printme( str1, str2 ):\\n   \"This prints a passed string into this function\"\\n   print(str1, str2)\\n   return;\\n\\n# Now you can call printme function\\nprintme( str2 = \"Gupta\", str1 = \"Atin\")',\n",
       " '_i9': '# A default argument is an argument that assumes a default value if a value is not provided \\n# in the function call for that argument. \\n\\ndef printinfo( name, age = 35 ):\\n   \"This prints a passed info into this function\"\\n   print(\"Name: \", name)\\n   print(\"Age \", age)\\n   return;\\n\\n# Now you can call printinfo function\\nprintinfo( age=40, name=\"Atin\" )\\nprintinfo( name=\"Atin\" )',\n",
       " 'printinfo': <function __main__.printinfo(arg1, *vartuple)>,\n",
       " '_i10': '# A default argument is an argument that assumes a default value if a value is not provided \\n# in the function call for that argument. \\n\\ndef printinfo( name, age = 35 ):\\n   \"This prints a passed info into this function\"\\n   print(\"Name: \", name)\\n   print(\"Age \", age)\\n   return;\\n\\n# Now you can call printinfo function\\nprintinfo( age=40, name=\"Atin\" )\\nprintinfo( name=\"Atin\" )',\n",
       " '_i11': 'printinfo( \"Atin\" )',\n",
       " '_i12': 'printinfo( \"Atin\", 46 )',\n",
       " '_i13': 'printinfo( \"Atin\", age=46 )',\n",
       " '_i14': 'printinfo( name=\"Atin\", age=46 )',\n",
       " '_i15': 'printinfo( name=\"Atin\", 46 )',\n",
       " '_i16': 'printinfo( name=\"Atin\", age=46 )',\n",
       " '_i17': '# Variable-length arguments\\ndef printinfo( arg1, *vartuple ):\\n   \"This prints a variable passed arguments\"\\n   print(\"Output is: \")\\n   print(arg1)\\n   for var in vartuple:\\n      print(var)\\n   return;\\n\\n# Now you can call printinfo function\\nprintinfo( 10 )\\nprintinfo( 70, 60, 50 )',\n",
       " '_i18': '# Variable-length arguments\\ndef printinfo( arg1, *vartuple ):\\n   \"This prints a variable passed arguments\"\\n   print(\"Output is: \")\\n   print(arg1)\\n   for var in vartuple:\\n      print(var)\\n   return;\\n\\n# Now you can call printinfo function\\nprintinfo( 10 )\\nprintinfo( 70, 60, 50 )',\n",
       " '_i19': 'printinfo( 10 )',\n",
       " '_i20': 'printinfo( 20 )',\n",
       " '_i21': 'printinfo( 20, 30, 35, 45 )',\n",
       " '_i22': '# Variable-length arguments\\ndef printinfo( arg1, *vartuple ):\\n   \"This prints a variable passed arguments\"\\n   print(\"Output is: \")\\n   print(arg1)\\n   for var in vartuple:\\n      print(var)\\n   return 4,5,6;\\n\\n# Now you can call printinfo function\\nprintinfo( 10 )\\nt1=printinfo( 70, 60, 50 )',\n",
       " 't1': (4, 5, 6),\n",
       " '_i23': '# Variable-length arguments\\ndef printinfo( arg1, *vartuple ):\\n   \"This prints a variable passed arguments\"\\n   print(\"Output is: \")\\n   print(arg1)\\n   for var in vartuple:\\n      print(var)\\n   return 4,5,6;\\n\\n# Now you can call printinfo function\\nprintinfo( 10 )\\nt1=printinfo( 70, 60, 50 )',\n",
       " '_i24': 't1',\n",
       " '_24': (4, 5, 6),\n",
       " '_i25': '# Variable-length arguments\\ndef printinfo( arg1, *vartuple ):\\n   \"This prints a variable passed arguments\"\\n   print(\"Output is: \")\\n   print(arg1)\\n   for var in vartuple:\\n      print(var)\\n   return 4,5,6;\\n\\n# Now you can call printinfo function\\nprintinfo( 10 )\\na,b,c=printinfo( 70, 60, 50 )',\n",
       " 'a': 111,\n",
       " 'b': 5,\n",
       " 'c': 6,\n",
       " '_i26': 'a',\n",
       " '_26': 4,\n",
       " '_i27': '# Variable-length arguments\\ndef printinfo( arg1, *vartuple ):\\n   \"This prints a variable passed arguments\"\\n   print(\"Output is: \")\\n   print(arg1)\\n   for var in vartuple:\\n      print(var)\\n   return 4,5,6;\\n\\n# Now you can call printinfo function\\nprintinfo( 10 )\\na,b=printinfo( 70, 60, 50 )',\n",
       " '_i28': '# Variable-length arguments\\ndef printinfo( arg1, *vartuple ):\\n   \"This prints a variable passed arguments\"\\n   print(\"Output is: \")\\n   print(arg1)\\n   for var in vartuple:\\n      print(var)\\n   return 4,5,6;\\n\\n# Now you can call printinfo function\\nprintinfo( 10 )\\na,b,_=printinfo( 70, 60, 50 )',\n",
       " '_i29': 'b',\n",
       " '_29': 5,\n",
       " '_i30': '# A local variable can be accessed only locally i.e., a variable defined inside a function is accessible to that function only and can\\'t be used outside the function.\\n\\ndef f1():\\n    a = 5\\n    print (\"Inside f1 - \", a)\\nf1()\\n#a can\\'t be accessed outside the function f1\\nprint (\"Outside f1 - \", a)',\n",
       " 'f1': <function __main__.f1()>,\n",
       " '_i31': '# A local variable can be accessed only locally i.e., a variable defined inside a function is accessible to that function only and can\\'t be used outside the function.\\n\\ndef f1():\\n    aa = 5\\n    print (\"Inside f1 - \", aa)\\nf1()\\n#a can\\'t be accessed outside the function f1\\nprint (\"Outside f1 - \", aa)',\n",
       " '_i32': \"## Also, we can access from a function the variables which are defined outside that function\\n## but can't modify them.\\n\\n## We are able to print the global variable 'a'. \\n## Python first looked for a variable named 'a' inside the function and when it was not found, \\n## it looked in the global scope and printed the global value of 'a'.\\n\\na = 1\\ndef f1():\\n    a = 5\\n    print (a) #will print 5\\n\\n\\nf1()\\n\\nprint (a) #will print 1\",\n",
       " '_i33': \"## Also, we can access from a function the variables which are defined outside that function\\n## but can't modify them.\\n\\n## We are able to print the global variable 'a'. \\n## Python first looked for a variable named 'a' inside the function and when it was not found, \\n## it looked in the global scope and printed the global value of 'a'.\\n\\na = 1\\ndef f1():\\n    a = 5\\n    print (a) #will print 5\\n\\n\\nf1()\\n\\nprint (a) #will print 1\",\n",
       " '_i34': 'globals()',\n",
       " '_34': {...},\n",
       " '_i35': \"## Also, we can access from a function the variables which are defined outside that function\\n## but can't modify them.\\n\\n## We are able to print the global variable 'a'. \\n## Python first looked for a variable named 'a' inside the function and when it was not found, \\n## it looked in the global scope and printed the global value of 'a'.\\n\\na = 111\\ndef f1():\\n    a = 5\\n    print (a) #will print 5\\n\\n\\nf1()\\n\\nprint (a) #will print 1\",\n",
       " '_i36': 'globals()'}"
      ]
     },
     "execution_count": 36,
     "metadata": {},
     "output_type": "execute_result"
    }
   ],
   "source": [
    "globals()"
   ]
  },
  {
   "cell_type": "code",
   "execution_count": 38,
   "metadata": {},
   "outputs": [
    {
     "name": "stdout",
     "output_type": "stream",
     "text": [
      "51\n",
      "51\n"
     ]
    }
   ],
   "source": [
    "## To tell Python that we want to use the global variable inside the function, \n",
    "## we need to use the global keyword. An example is given below.\n",
    "\n",
    "a = 1\n",
    "def f1():\n",
    "    global a #using global variable a\n",
    "    a = 51 #global variable is changed to 5\n",
    "    print (a) #will print 5\n",
    "\n",
    "f1()\n",
    "print (a) #will print 5"
   ]
  },
  {
   "cell_type": "code",
   "execution_count": 9,
   "metadata": {},
   "outputs": [
    {
     "name": "stdout",
     "output_type": "stream",
     "text": [
      "inside if 2\n",
      "outside if 2\n"
     ]
    }
   ],
   "source": [
    "## Please note that unlike other languages like C, Python doesn't have any separate scope for loops,\n",
    "## if/else, etc. Thus, changing variables inside a loop will change the global variable also.\n",
    "\n",
    "a = 1\n",
    "if True:\n",
    "    a = 2\n",
    "    print (\"inside if\", a)\n",
    "    \n",
    "print (\"outside if\", a)"
   ]
  }
 ],
 "metadata": {
  "kernelspec": {
   "display_name": "Python 3",
   "language": "python",
   "name": "python3"
  },
  "language_info": {
   "codemirror_mode": {
    "name": "ipython",
    "version": 3
   },
   "file_extension": ".py",
   "mimetype": "text/x-python",
   "name": "python",
   "nbconvert_exporter": "python",
   "pygments_lexer": "ipython3",
   "version": "3.7.6"
  }
 },
 "nbformat": 4,
 "nbformat_minor": 2
}
