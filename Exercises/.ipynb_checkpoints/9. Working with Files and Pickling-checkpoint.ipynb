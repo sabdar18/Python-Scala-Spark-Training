{
 "cells": [
  {
   "cell_type": "markdown",
   "metadata": {
    "colab_type": "text",
    "id": "_0EGP_i3b3-B"
   },
   "source": [
    "## Working with paths"
   ]
  },
  {
   "cell_type": "code",
   "execution_count": 8,
   "metadata": {
    "colab": {
     "base_uri": "https://localhost:8080/",
     "height": 68
    },
    "colab_type": "code",
    "executionInfo": {
     "elapsed": 984,
     "status": "ok",
     "timestamp": 1552892116449,
     "user": {
      "displayName": "Radhika Tripathi",
      "photoUrl": "https://lh6.googleusercontent.com/-0ql17XDTHu0/AAAAAAAAAAI/AAAAAAAACzA/CLBnaAiwDyQ/s64/photo.jpg",
      "userId": "02247905022242858193"
     },
     "user_tz": -330
    },
    "id": "NAn6OJ2Eb3-E",
    "outputId": "ff20a43c-8ef9-47d2-fc8e-adf18f1e2beb"
   },
   "outputs": [
    {
     "name": "stdout",
     "output_type": "stream",
     "text": [
      "current file: /home/u1/Python-Scala-Spark-Training/Exercises/atin.txt\n",
      "current directory: /home/u1/Python-Scala-Spark-Training/Exercises\n",
      "data directory: /home/u1/Python-Scala-Spark-Training/Exercises/data\n"
     ]
    }
   ],
   "source": [
    "import os\n",
    "\n",
    "current_file = os.path.realpath('atin.txt')\n",
    "print('current file: {}'.format(current_file))\n",
    "# Note: in .py files we can get the path of current file by __file__\n",
    "\n",
    "current_dir = os.path.dirname(current_file)  \n",
    "print('current directory: {}'.format(current_dir))\n",
    "# Note: in .py files we can get the dir of current file by os.path.dirname(__file__)\n",
    "\n",
    "data_dir = os.path.join(current_dir, 'data')\n",
    "print('data directory: {}'.format(data_dir))"
   ]
  },
  {
   "cell_type": "markdown",
   "metadata": {
    "colab_type": "text",
    "id": "231j8g6Fb3-Q"
   },
   "source": [
    "### Checking if path exists"
   ]
  },
  {
   "cell_type": "code",
   "execution_count": 5,
   "metadata": {
    "colab": {
     "base_uri": "https://localhost:8080/",
     "height": 68
    },
    "colab_type": "code",
    "executionInfo": {
     "elapsed": 1097,
     "status": "ok",
     "timestamp": 1552890329559,
     "user": {
      "displayName": "Radhika Tripathi",
      "photoUrl": "https://lh6.googleusercontent.com/-0ql17XDTHu0/AAAAAAAAAAI/AAAAAAAACzA/CLBnaAiwDyQ/s64/photo.jpg",
      "userId": "02247905022242858193"
     },
     "user_tz": -330
    },
    "id": "-MfjX-NSb3-S",
    "outputId": "2894573b-5cf4-413b-d00d-30e6f46e8cb8"
   },
   "outputs": [
    {
     "name": "stdout",
     "output_type": "stream",
     "text": [
      "exists: True\n",
      "is file: True\n",
      "is directory: False\n"
     ]
    }
   ],
   "source": [
    "print('exists: {}'.format(os.path.exists(data_dir)))\n",
    "print('is file: {}'.format(os.path.isfile(data_dir)))\n",
    "print('is directory: {}'.format(os.path.isdir(data_dir)))"
   ]
  },
  {
   "cell_type": "markdown",
   "metadata": {
    "colab_type": "text",
    "id": "rSKS7bYIb3-a"
   },
   "source": [
    "## Reading files"
   ]
  },
  {
   "cell_type": "code",
   "execution_count": 9,
   "metadata": {
    "colab": {
     "base_uri": "https://localhost:8080/",
     "height": 231
    },
    "colab_type": "code",
    "executionInfo": {
     "elapsed": 1066,
     "status": "error",
     "timestamp": 1552892739147,
     "user": {
      "displayName": "Radhika Tripathi",
      "photoUrl": "https://lh6.googleusercontent.com/-0ql17XDTHu0/AAAAAAAAAAI/AAAAAAAACzA/CLBnaAiwDyQ/s64/photo.jpg",
      "userId": "02247905022242858193"
     },
     "user_tz": -330
    },
    "id": "bdZ25nDob3-b",
    "outputId": "6891bae2-6287-4649-905c-91856fe58e08"
   },
   "outputs": [
    {
     "name": "stdout",
     "output_type": "stream",
     "text": [
      "Atin Gupta\n",
      "\n"
     ]
    }
   ],
   "source": [
    "file_path = os.path.join(data_dir, 'atin.txt')\n",
    "\n",
    "with open(file_path, 'r') as xyz:\n",
    "    for line in xyz:\n",
    "        print(line)"
   ]
  },
  {
   "cell_type": "code",
   "execution_count": 10,
   "metadata": {
    "colab": {
     "base_uri": "https://localhost:8080/",
     "height": 231
    },
    "colab_type": "code",
    "executionInfo": {
     "elapsed": 1343,
     "status": "error",
     "timestamp": 1552892788332,
     "user": {
      "displayName": "Radhika Tripathi",
      "photoUrl": "https://lh6.googleusercontent.com/-0ql17XDTHu0/AAAAAAAAAAI/AAAAAAAACzA/CLBnaAiwDyQ/s64/photo.jpg",
      "userId": "02247905022242858193"
     },
     "user_tz": -330
    },
    "id": "t7vIhFTJb3-j",
    "outputId": "8b8a332b-d65e-4605-e9e7-2763b61f9c6f"
   },
   "outputs": [
    {
     "name": "stdout",
     "output_type": "stream",
     "text": [
      "Atin Gupta\n"
     ]
    }
   ],
   "source": [
    "file_path = os.path.join(data_dir, 'atin.txt')\n",
    "\n",
    "# THIS IS NOT THE PREFERRED WAY. Use With Statement instead. Example is in the next cell\n",
    "simple_file = open(file_path, 'r')\n",
    "for line in simple_file:\n",
    "    print(line.strip())\n",
    "simple_file.close()  # This has to be called explicitly "
   ]
  },
  {
   "cell_type": "markdown",
   "metadata": {
    "colab_type": "text",
    "id": "dKNX0yYeb3-q"
   },
   "source": [
    "## Writing files"
   ]
  },
  {
   "cell_type": "code",
   "execution_count": 11,
   "metadata": {
    "colab": {},
    "colab_type": "code",
    "id": "wmXm_q86b3-s"
   },
   "outputs": [],
   "source": [
    "new_file_path = os.path.join(data_dir, 'new_file.txt')\n",
    "\n",
    "with open(new_file_path, 'w') as my_file:\n",
    "    my_file.write('This is my first file that I wrote with Python.')"
   ]
  },
  {
   "cell_type": "markdown",
   "metadata": {
    "colab_type": "text",
    "id": "_B6qE-6Cb3-0"
   },
   "source": [
    "Now go and check that there is a new_file.txt in the data directory. After that we can delete the file by:"
   ]
  },
  {
   "cell_type": "code",
   "execution_count": 12,
   "metadata": {
    "colab": {},
    "colab_type": "code",
    "id": "WFw4Wbnlb3-1"
   },
   "outputs": [],
   "source": [
    "if os.path.exists(new_file_path):  # make sure it's there\n",
    "    os.remove(new_file_path)"
   ]
  },
  {
   "cell_type": "markdown",
   "metadata": {
    "colab_type": "text",
    "id": "aevLdBh6b3-7"
   },
   "source": [
    "## Python Pickling"
   ]
  },
  {
   "cell_type": "markdown",
   "metadata": {
    "colab_type": "text",
    "id": "O8Y81-URb3-9"
   },
   "source": [
    " - Python pickle module is used for serializing and de-serializing a Python object structure. \n",
    " - Any object in Python can be pickled so that it can be saved on disk.\n",
    " - What pickle does is that it “serializes” the object first before writing it to file.\n",
    " - Pickling is a way to convert a python object (list, dict, etc.) into a character stream.\n",
    " - The idea is that this character stream contains all the information necessary to reconstruct the object in another python script."
   ]
  },
  {
   "cell_type": "code",
   "execution_count": 20,
   "metadata": {
    "colab": {},
    "colab_type": "code",
    "id": "dgYVpfUxb3--"
   },
   "outputs": [],
   "source": [
    "# Python3 program to illustrate store \n",
    "# efficiently using pickle module \n",
    "# Module translates an in-memory Python object \n",
    "# into a serialized byte stream—a string of \n",
    "# bytes that can be written to any file-like object. \n",
    "\n",
    "import pickle \n",
    "\n",
    "def storeData(db):\n",
    "    # Its important to use binary mode \n",
    "    dbfile = open('examplePickle', 'wb') \n",
    "    \n",
    "    # source, destination \n",
    "    pickle.dump(db, dbfile)\n",
    "    dbfile.close() \n",
    "\n",
    "def loadData(): \n",
    "    # for reading also binary mode is important \n",
    "    dbfile = open('examplePickle', 'rb')\n",
    "    db = pickle.load(dbfile) \n",
    "\n",
    "    dbfile.close()\n",
    "    \n",
    "    return db"
   ]
  },
  {
   "cell_type": "code",
   "execution_count": 21,
   "metadata": {
    "colab": {},
    "colab_type": "code",
    "id": "Hv6OQANpb3_E"
   },
   "outputs": [
    {
     "name": "stdout",
     "output_type": "stream",
     "text": [
      "{'Omkar': {'key': 'Omkar', 'name': 'Omkar Pathak', 'age': 21, 'pay': 40000}, 'Jagdish': {'key': 'Jagdish', 'name': 'Jagdish Pathak', 'age': 50, 'pay': 50000}}\n"
     ]
    }
   ],
   "source": [
    "# initializing data to be stored in db \n",
    "Omkar = {'key' : 'Omkar', 'name' : 'Omkar Pathak', \n",
    "'age' : 21, 'pay' : 40000} \n",
    "Jagdish = {'key' : 'Jagdish', 'name' : 'Jagdish Pathak', \n",
    "'age' : 50, 'pay' : 50000} \n",
    "\n",
    "# database \n",
    "db = {} \n",
    "db['Omkar'] = Omkar \n",
    "db['Jagdish'] = Jagdish \n",
    "\n",
    "print(db)\n"
   ]
  },
  {
   "cell_type": "code",
   "execution_count": 22,
   "metadata": {},
   "outputs": [],
   "source": [
    "storeData(db)"
   ]
  },
  {
   "cell_type": "code",
   "execution_count": 23,
   "metadata": {
    "colab": {},
    "colab_type": "code",
    "id": "mBzn7uK3b3_J",
    "outputId": "e7b034c4-8067-4d06-8425-4f201f64db1a"
   },
   "outputs": [
    {
     "name": "stdout",
     "output_type": "stream",
     "text": [
      "Omkar => {'key': 'Omkar', 'name': 'Omkar Pathak', 'age': 21, 'pay': 40000}\n",
      "Jagdish => {'key': 'Jagdish', 'name': 'Jagdish Pathak', 'age': 50, 'pay': 50000}\n"
     ]
    }
   ],
   "source": [
    "atindb = loadData()\n"
   ]
  },
  {
   "cell_type": "code",
   "execution_count": null,
   "metadata": {},
   "outputs": [],
   "source": [
    "print(atindb)"
   ]
  },
  {
   "cell_type": "markdown",
   "metadata": {
    "colab_type": "text",
    "id": "hbyoxmWFb3_Q"
   },
   "source": [
    "### Advantages\n",
    " - Helps in saving complicated data.\n",
    " - Quite easy to use, doesn’t require several lines of code and hence not bulky.\n",
    " - Saved data is not so readable hence provides some data security.\n",
    "\n",
    "### Disadvantages\n",
    " - Non-Python programs may not be able to reconstruct pickled Python objects.\n",
    " - Security risks in unpickling data from malicious sources."
   ]
  },
  {
   "cell_type": "code",
   "execution_count": 0,
   "metadata": {
    "colab": {},
    "colab_type": "code",
    "id": "3_f3qhcFb3_S"
   },
   "outputs": [],
   "source": []
  }
 ],
 "metadata": {
  "colab": {
   "collapsed_sections": [],
   "name": "4. Working with Files and Pickling.ipynb",
   "provenance": [],
   "version": "0.3.2"
  },
  "kernelspec": {
   "display_name": "Python 3",
   "language": "python",
   "name": "python3"
  },
  "language_info": {
   "codemirror_mode": {
    "name": "ipython",
    "version": 3
   },
   "file_extension": ".py",
   "mimetype": "text/x-python",
   "name": "python",
   "nbconvert_exporter": "python",
   "pygments_lexer": "ipython3",
   "version": "3.7.6"
  }
 },
 "nbformat": 4,
 "nbformat_minor": 1
}
