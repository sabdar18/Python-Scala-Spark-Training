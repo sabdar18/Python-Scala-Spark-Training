{
 "cells": [
  {
   "cell_type": "code",
   "execution_count": 1,
   "metadata": {},
   "outputs": [],
   "source": [
    "import logging"
   ]
  },
  {
   "cell_type": "code",
   "execution_count": 2,
   "metadata": {},
   "outputs": [],
   "source": [
    "logging.basicConfig(\n",
    "    filename=\"test_atin.log\",\n",
    "    level=logging.DEBUG,\n",
    "    format=\"%(asctime)s:%(levelname)s:%(funcName)s:%(message)s\"\n",
    "    )"
   ]
  },
  {
   "cell_type": "markdown",
   "metadata": {},
   "source": [
    "<table border=\"1\">\n",
    "<tr class=\"row-odd\"><th class=\"head\">Attribute name</th>\n",
    "<th class=\"head\">Format</th>\n",
    "<th class=\"head\">Description</th>\n",
    "</tr>\n",
    "</thead>\n",
    "<tbody valign=\"top\">\n",
    "<tr class=\"row-even\"><td>args</td>\n",
    "<td>You shouldn’t need to\n",
    "format this yourself.</td>\n",
    "<td>The tuple of arguments merged into <tt class=\"docutils literal\"><span class=\"pre\">msg</span></tt> to\n",
    "produce <tt class=\"docutils literal\"><span class=\"pre\">message</span></tt>.</td>\n",
    "</tr>\n",
    "<tr class=\"row-odd\"><td>asctime</td>\n",
    "<td><tt class=\"docutils literal\"><span class=\"pre\">%(asctime)s</span></tt></td>\n",
    "<td>Human-readable time when the\n",
    "<a class=\"reference internal\" href=\"#logging.LogRecord\" title=\"logging.LogRecord\"><tt class=\"xref py py-class docutils literal\"><span class=\"pre\">LogRecord</span></tt></a> was created.  By default\n",
    "this is of the form ‘2003-07-08 16:49:45,896’\n",
    "(the numbers after the comma are millisecond\n",
    "portion of the time).</td>\n",
    "</tr>\n",
    "<tr class=\"row-even\"><td>created</td>\n",
    "<td><tt class=\"docutils literal\"><span class=\"pre\">%(created)f</span></tt></td>\n",
    "<td>Time when the <a class=\"reference internal\" href=\"#logging.LogRecord\" title=\"logging.LogRecord\"><tt class=\"xref py py-class docutils literal\"><span class=\"pre\">LogRecord</span></tt></a> was created\n",
    "(as returned by <a class=\"reference internal\" href=\"time.html#time.time\" title=\"time.time\"><tt class=\"xref py py-func docutils literal\"><span class=\"pre\">time.time()</span></tt></a>).</td>\n",
    "</tr>\n",
    "<tr class=\"row-odd\"><td>exc_info</td>\n",
    "<td>You shouldn’t need to\n",
    "format this yourself.</td>\n",
    "<td>Exception tuple (à la <tt class=\"docutils literal\"><span class=\"pre\">sys.exc_info</span></tt>) or,\n",
    "if no exception has occurred, <em>None</em>.</td>\n",
    "</tr>\n",
    "<tr class=\"row-even\"><td>filename</td>\n",
    "<td><tt class=\"docutils literal\"><span class=\"pre\">%(filename)s</span></tt></td>\n",
    "<td>Filename portion of <tt class=\"docutils literal\"><span class=\"pre\">pathname</span></tt>.</td>\n",
    "</tr>\n",
    "<tr class=\"row-odd\"><td>funcName</td>\n",
    "<td><tt class=\"docutils literal\"><span class=\"pre\">%(funcName)s</span></tt></td>\n",
    "<td>Name of function containing the logging call.</td>\n",
    "</tr>\n",
    "<tr class=\"row-even\"><td>levelname</td>\n",
    "<td><tt class=\"docutils literal\"><span class=\"pre\">%(levelname)s</span></tt></td>\n",
    "<td>Text logging level for the message\n",
    "(<tt class=\"docutils literal\"><span class=\"pre\">'DEBUG'</span></tt>, <tt class=\"docutils literal\"><span class=\"pre\">'INFO'</span></tt>, <tt class=\"docutils literal\"><span class=\"pre\">'WARNING'</span></tt>,\n",
    "<tt class=\"docutils literal\"><span class=\"pre\">'ERROR'</span></tt>, <tt class=\"docutils literal\"><span class=\"pre\">'CRITICAL'</span></tt>).</td>\n",
    "</tr>\n",
    "<tr class=\"row-odd\"><td>levelno</td>\n",
    "<td><tt class=\"docutils literal\"><span class=\"pre\">%(levelno)s</span></tt></td>\n",
    "<td>Numeric logging level for the message\n",
    "(<tt class=\"xref py py-const docutils literal\"><span class=\"pre\">DEBUG</span></tt>, <tt class=\"xref py py-const docutils literal\"><span class=\"pre\">INFO</span></tt>,\n",
    "<tt class=\"xref py py-const docutils literal\"><span class=\"pre\">WARNING</span></tt>, <tt class=\"xref py py-const docutils literal\"><span class=\"pre\">ERROR</span></tt>,\n",
    "<tt class=\"xref py py-const docutils literal\"><span class=\"pre\">CRITICAL</span></tt>).</td>\n",
    "</tr>\n",
    "<tr class=\"row-even\"><td>lineno</td>\n",
    "<td><tt class=\"docutils literal\"><span class=\"pre\">%(lineno)d</span></tt></td>\n",
    "<td>Source line number where the logging call was\n",
    "issued (if available).</td>\n",
    "</tr>\n",
    "<tr class=\"row-odd\"><td>module</td>\n",
    "<td><tt class=\"docutils literal\"><span class=\"pre\">%(module)s</span></tt></td>\n",
    "<td>Module (name portion of <tt class=\"docutils literal\"><span class=\"pre\">filename</span></tt>).</td>\n",
    "</tr>\n",
    "<tr class=\"row-even\"><td>msecs</td>\n",
    "<td><tt class=\"docutils literal\"><span class=\"pre\">%(msecs)d</span></tt></td>\n",
    "<td>Millisecond portion of the time when the\n",
    "<a class=\"reference internal\" href=\"#logging.LogRecord\" title=\"logging.LogRecord\"><tt class=\"xref py py-class docutils literal\"><span class=\"pre\">LogRecord</span></tt></a> was created.</td>\n",
    "</tr>\n",
    "<tr class=\"row-odd\"><td>message</td>\n",
    "<td><tt class=\"docutils literal\"><span class=\"pre\">%(message)s</span></tt></td>\n",
    "<td>The logged message, computed as <tt class=\"docutils literal\"><span class=\"pre\">msg</span> <span class=\"pre\">%</span>\n",
    "<span class=\"pre\">args</span></tt>. This is set when\n",
    "<a class=\"reference internal\" href=\"#logging.Formatter.format\" title=\"logging.Formatter.format\"><tt class=\"xref py py-meth docutils literal\"><span class=\"pre\">Formatter.format()</span></tt></a> is invoked.</td>\n",
    "</tr>\n",
    "<tr class=\"row-even\"><td>msg</td>\n",
    "<td>You shouldn’t need to\n",
    "format this yourself.</td>\n",
    "<td>The format string passed in the original\n",
    "logging call. Merged with <tt class=\"docutils literal\"><span class=\"pre\">args</span></tt> to\n",
    "produce <tt class=\"docutils literal\"><span class=\"pre\">message</span></tt>, or an arbitrary object\n",
    "(see <a class=\"reference internal\" href=\"../howto/logging.html#arbitrary-object-messages\"><em>Using arbitrary objects as messages</em></a>).</td>\n",
    "</tr>\n",
    "<tr class=\"row-odd\"><td>name</td>\n",
    "<td><tt class=\"docutils literal\"><span class=\"pre\">%(name)s</span></tt></td>\n",
    "<td>Name of the logger used to log the call.</td>\n",
    "</tr>\n",
    "<tr class=\"row-even\"><td>pathname</td>\n",
    "<td><tt class=\"docutils literal\"><span class=\"pre\">%(pathname)s</span></tt></td>\n",
    "<td>Full pathname of the source file where the\n",
    "logging call was issued (if available).</td>\n",
    "</tr>\n",
    "<tr class=\"row-odd\"><td>process</td>\n",
    "<td><tt class=\"docutils literal\"><span class=\"pre\">%(process)d</span></tt></td>\n",
    "<td>Process ID (if available).</td>\n",
    "</tr>\n",
    "<tr class=\"row-even\"><td>processName</td>\n",
    "<td><tt class=\"docutils literal\"><span class=\"pre\">%(processName)s</span></tt></td>\n",
    "<td>Process name (if available).</td>\n",
    "</tr>\n",
    "<tr class=\"row-odd\"><td>relativeCreated</td>\n",
    "<td><tt class=\"docutils literal\"><span class=\"pre\">%(relativeCreated)d</span></tt></td>\n",
    "<td>Time in milliseconds when the LogRecord was\n",
    "created, relative to the time the logging\n",
    "module was loaded.</td>\n",
    "</tr>\n",
    "<tr class=\"row-even\"><td>stack_info</td>\n",
    "<td>You shouldn’t need to\n",
    "format this yourself.</td>\n",
    "<td>Stack frame information (where available)\n",
    "from the bottom of the stack in the current\n",
    "thread, up to and including the stack frame\n",
    "of the logging call which resulted in the\n",
    "creation of this record.</td>\n",
    "</tr>\n",
    "<tr class=\"row-odd\"><td>thread</td>\n",
    "<td><tt class=\"docutils literal\"><span class=\"pre\">%(thread)d</span></tt></td>\n",
    "<td>Thread ID (if available).</td>\n",
    "</tr>\n",
    "<tr class=\"row-even\"><td>threadName</td>\n",
    "<td><tt class=\"docutils literal\"><span class=\"pre\">%(threadName)s</span></tt></td>\n",
    "<td>Thread name (if available).</td>\n",
    "</tr>\n",
    "</tbody>\n",
    "</table>"
   ]
  },
  {
   "cell_type": "markdown",
   "metadata": {},
   "source": [
    " - Level        Numeric value\n",
    " - CRITICAL     50\n",
    " - ERROR        40\n",
    " - WARNING      30\n",
    " - INFO         20\n",
    " - DEBUG        10\n",
    " - NOTSET       0"
   ]
  },
  {
   "cell_type": "code",
   "execution_count": 3,
   "metadata": {},
   "outputs": [],
   "source": [
    "class Pizza():\n",
    "    def __init__(self, name, price):\n",
    "        print(id(self))\n",
    "        self.name = name\n",
    "        self.price = price\n",
    "        logging.debug(\"Pizza created: {} (${})\".format(self.name, self.price))\n",
    "\n",
    "    def make(self, quantity=1):\n",
    "        logging.debug(\"Made {} {} pizza(s)\".format(quantity, self.name))\n",
    "\n",
    "    def eat(self, quantity=1):\n",
    "        logging.debug(\"Ate {} pizza(s)\".format(quantity, self.name))\n"
   ]
  },
  {
   "cell_type": "code",
   "execution_count": 4,
   "metadata": {},
   "outputs": [],
   "source": [
    "def my_function():\n",
    "    print (\"Hi\")\n",
    "    logging.debug(\"Hi\")\n",
    "    "
   ]
  },
  {
   "cell_type": "code",
   "execution_count": 5,
   "metadata": {},
   "outputs": [
    {
     "name": "stdout",
     "output_type": "stream",
     "text": [
      "140626292786448\n",
      "140626292786448\n"
     ]
    }
   ],
   "source": [
    "pizza_01 = Pizza(\"Sicilian\", 18)\n",
    "\n",
    "print(id(pizza_01))\n",
    "\n",
    "pizza_01.make(5)\n",
    "\n",
    "pizza_01.eat(4)\n"
   ]
  },
  {
   "cell_type": "code",
   "execution_count": 6,
   "metadata": {},
   "outputs": [
    {
     "name": "stdout",
     "output_type": "stream",
     "text": [
      "140626292785744\n"
     ]
    }
   ],
   "source": [
    "pizza_02 = Pizza(\"quattro formaggi\", 16)\n",
    "pizza_02.make(2)\n",
    "pizza_02.eat(2)"
   ]
  },
  {
   "cell_type": "code",
   "execution_count": 7,
   "metadata": {},
   "outputs": [
    {
     "name": "stdout",
     "output_type": "stream",
     "text": [
      "Hi\n"
     ]
    }
   ],
   "source": [
    "my_function()"
   ]
  },
  {
   "cell_type": "code",
   "execution_count": 8,
   "metadata": {},
   "outputs": [],
   "source": [
    "logging.debug(\"My log\")"
   ]
  },
  {
   "cell_type": "code",
   "execution_count": 9,
   "metadata": {},
   "outputs": [],
   "source": [
    "logging.error(\"My log info\")"
   ]
  },
  {
   "cell_type": "code",
   "execution_count": null,
   "metadata": {},
   "outputs": [],
   "source": []
  }
 ],
 "metadata": {
  "kernelspec": {
   "display_name": "Python 3",
   "language": "python",
   "name": "python3"
  },
  "language_info": {
   "codemirror_mode": {
    "name": "ipython",
    "version": 3
   },
   "file_extension": ".py",
   "mimetype": "text/x-python",
   "name": "python",
   "nbconvert_exporter": "python",
   "pygments_lexer": "ipython3",
   "version": "3.7.10"
  }
 },
 "nbformat": 4,
 "nbformat_minor": 4
}
