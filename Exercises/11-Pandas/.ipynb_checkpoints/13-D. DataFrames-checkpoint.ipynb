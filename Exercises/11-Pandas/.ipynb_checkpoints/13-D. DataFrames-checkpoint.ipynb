{
 "cells": [
  {
   "cell_type": "markdown",
   "metadata": {
    "colab_type": "text",
    "collapsed": true,
    "id": "c8gXMhs1DWqk"
   },
   "source": [
    "# DataFrames"
   ]
  },
  {
   "cell_type": "code",
   "execution_count": 1,
   "metadata": {
    "colab": {},
    "colab_type": "code",
    "id": "c3Dj3plgDWqu"
   },
   "outputs": [],
   "source": [
    "import pandas as pd\n",
    "import numpy as np"
   ]
  },
  {
   "cell_type": "code",
   "execution_count": 2,
   "metadata": {
    "colab": {},
    "colab_type": "code",
    "id": "wttuJOxlDWq_"
   },
   "outputs": [],
   "source": [
    "from numpy.random import randn"
   ]
  },
  {
   "cell_type": "code",
   "execution_count": 3,
   "metadata": {
    "colab": {
     "base_uri": "https://localhost:8080/",
     "height": 101
    },
    "colab_type": "code",
    "executionInfo": {
     "elapsed": 1198,
     "status": "ok",
     "timestamp": 1559977532707,
     "user": {
      "displayName": "Atin Gupta",
      "photoUrl": "https://lh4.googleusercontent.com/-VN-JLkSccdk/AAAAAAAAAAI/AAAAAAAAH3Q/XCDSdNuOjB0/s64/photo.jpg",
      "userId": "01235820350389977490"
     },
     "user_tz": -330
    },
    "id": "64iIbhVUHKx-",
    "outputId": "72e9d57a-335d-41cc-95e3-d3b41ec2995e"
   },
   "outputs": [
    {
     "data": {
      "text/plain": [
       "array([[ 1.62434536, -0.61175641, -0.52817175, -1.07296862],\n",
       "       [ 0.86540763, -2.3015387 ,  1.74481176, -0.7612069 ],\n",
       "       [ 0.3190391 , -0.24937038,  1.46210794, -2.06014071],\n",
       "       [-0.3224172 , -0.38405435,  1.13376944, -1.09989127],\n",
       "       [-0.17242821, -0.87785842,  0.04221375,  0.58281521]])"
      ]
     },
     "execution_count": 3,
     "metadata": {},
     "output_type": "execute_result"
    }
   ],
   "source": [
    "np.random.seed(1)\n",
    "randn(5,4)"
   ]
  },
  {
   "cell_type": "code",
   "execution_count": 4,
   "metadata": {
    "colab": {},
    "colab_type": "code",
    "id": "Mu1kkhMXDWrL"
   },
   "outputs": [],
   "source": [
    "np.random.seed(102)\n",
    "df = pd.DataFrame(randn(5,4),index='A B C D E'.split(),columns='W X Y Z'.split())"
   ]
  },
  {
   "cell_type": "code",
   "execution_count": 5,
   "metadata": {
    "colab": {
     "base_uri": "https://localhost:8080/",
     "height": 195
    },
    "colab_type": "code",
    "executionInfo": {
     "elapsed": 1185,
     "status": "ok",
     "timestamp": 1559976277951,
     "user": {
      "displayName": "Atin Gupta",
      "photoUrl": "https://lh4.googleusercontent.com/-VN-JLkSccdk/AAAAAAAAAAI/AAAAAAAAH3Q/XCDSdNuOjB0/s64/photo.jpg",
      "userId": "01235820350389977490"
     },
     "user_tz": -330
    },
    "id": "Q4mKr__5DWrX",
    "outputId": "38ea2d89-74e3-4244-8e6a-0391dd5c2970"
   },
   "outputs": [
    {
     "data": {
      "text/html": [
       "<div>\n",
       "<style scoped>\n",
       "    .dataframe tbody tr th:only-of-type {\n",
       "        vertical-align: middle;\n",
       "    }\n",
       "\n",
       "    .dataframe tbody tr th {\n",
       "        vertical-align: top;\n",
       "    }\n",
       "\n",
       "    .dataframe thead th {\n",
       "        text-align: right;\n",
       "    }\n",
       "</style>\n",
       "<table border=\"1\" class=\"dataframe\">\n",
       "  <thead>\n",
       "    <tr style=\"text-align: right;\">\n",
       "      <th></th>\n",
       "      <th>W</th>\n",
       "      <th>X</th>\n",
       "      <th>Y</th>\n",
       "      <th>Z</th>\n",
       "    </tr>\n",
       "  </thead>\n",
       "  <tbody>\n",
       "    <tr>\n",
       "      <th>A</th>\n",
       "      <td>1.668068</td>\n",
       "      <td>0.925862</td>\n",
       "      <td>1.057997</td>\n",
       "      <td>-0.920339</td>\n",
       "    </tr>\n",
       "    <tr>\n",
       "      <th>B</th>\n",
       "      <td>1.299748</td>\n",
       "      <td>0.331183</td>\n",
       "      <td>-0.509845</td>\n",
       "      <td>-0.903099</td>\n",
       "    </tr>\n",
       "    <tr>\n",
       "      <th>C</th>\n",
       "      <td>-0.130016</td>\n",
       "      <td>-2.238203</td>\n",
       "      <td>0.973165</td>\n",
       "      <td>-0.024185</td>\n",
       "    </tr>\n",
       "    <tr>\n",
       "      <th>D</th>\n",
       "      <td>-0.484928</td>\n",
       "      <td>-1.109264</td>\n",
       "      <td>-0.558975</td>\n",
       "      <td>1.042387</td>\n",
       "    </tr>\n",
       "    <tr>\n",
       "      <th>E</th>\n",
       "      <td>-1.712263</td>\n",
       "      <td>0.136120</td>\n",
       "      <td>-0.464444</td>\n",
       "      <td>0.050980</td>\n",
       "    </tr>\n",
       "  </tbody>\n",
       "</table>\n",
       "</div>"
      ],
      "text/plain": [
       "          W         X         Y         Z\n",
       "A  1.668068  0.925862  1.057997 -0.920339\n",
       "B  1.299748  0.331183 -0.509845 -0.903099\n",
       "C -0.130016 -2.238203  0.973165 -0.024185\n",
       "D -0.484928 -1.109264 -0.558975  1.042387\n",
       "E -1.712263  0.136120 -0.464444  0.050980"
      ]
     },
     "execution_count": 5,
     "metadata": {},
     "output_type": "execute_result"
    }
   ],
   "source": [
    "df"
   ]
  },
  {
   "cell_type": "markdown",
   "metadata": {
    "colab_type": "text",
    "id": "j0vfUiGcDWrl"
   },
   "source": [
    "## Selection and Indexing\n",
    "\n",
    "Let's learn the various methods to grab data from a DataFrame"
   ]
  },
  {
   "cell_type": "code",
   "execution_count": 6,
   "metadata": {
    "colab": {
     "base_uri": "https://localhost:8080/",
     "height": 195
    },
    "colab_type": "code",
    "executionInfo": {
     "elapsed": 1128,
     "status": "ok",
     "timestamp": 1559976314155,
     "user": {
      "displayName": "Atin Gupta",
      "photoUrl": "https://lh4.googleusercontent.com/-VN-JLkSccdk/AAAAAAAAAAI/AAAAAAAAH3Q/XCDSdNuOjB0/s64/photo.jpg",
      "userId": "01235820350389977490"
     },
     "user_tz": -330
    },
    "id": "vGpAgBMbDWrq",
    "outputId": "a788b98b-1e7b-4bb0-ff6c-587a72e04ef1"
   },
   "outputs": [
    {
     "data": {
      "text/html": [
       "<div>\n",
       "<style scoped>\n",
       "    .dataframe tbody tr th:only-of-type {\n",
       "        vertical-align: middle;\n",
       "    }\n",
       "\n",
       "    .dataframe tbody tr th {\n",
       "        vertical-align: top;\n",
       "    }\n",
       "\n",
       "    .dataframe thead th {\n",
       "        text-align: right;\n",
       "    }\n",
       "</style>\n",
       "<table border=\"1\" class=\"dataframe\">\n",
       "  <thead>\n",
       "    <tr style=\"text-align: right;\">\n",
       "      <th></th>\n",
       "      <th>W</th>\n",
       "    </tr>\n",
       "  </thead>\n",
       "  <tbody>\n",
       "    <tr>\n",
       "      <th>A</th>\n",
       "      <td>1.668068</td>\n",
       "    </tr>\n",
       "    <tr>\n",
       "      <th>B</th>\n",
       "      <td>1.299748</td>\n",
       "    </tr>\n",
       "    <tr>\n",
       "      <th>C</th>\n",
       "      <td>-0.130016</td>\n",
       "    </tr>\n",
       "    <tr>\n",
       "      <th>D</th>\n",
       "      <td>-0.484928</td>\n",
       "    </tr>\n",
       "    <tr>\n",
       "      <th>E</th>\n",
       "      <td>-1.712263</td>\n",
       "    </tr>\n",
       "  </tbody>\n",
       "</table>\n",
       "</div>"
      ],
      "text/plain": [
       "          W\n",
       "A  1.668068\n",
       "B  1.299748\n",
       "C -0.130016\n",
       "D -0.484928\n",
       "E -1.712263"
      ]
     },
     "execution_count": 6,
     "metadata": {},
     "output_type": "execute_result"
    }
   ],
   "source": [
    "df[  ['W']  ]"
   ]
  },
  {
   "cell_type": "code",
   "execution_count": 7,
   "metadata": {
    "colab": {
     "base_uri": "https://localhost:8080/",
     "height": 195
    },
    "colab_type": "code",
    "executionInfo": {
     "elapsed": 1219,
     "status": "ok",
     "timestamp": 1559976330124,
     "user": {
      "displayName": "Atin Gupta",
      "photoUrl": "https://lh4.googleusercontent.com/-VN-JLkSccdk/AAAAAAAAAAI/AAAAAAAAH3Q/XCDSdNuOjB0/s64/photo.jpg",
      "userId": "01235820350389977490"
     },
     "user_tz": -330
    },
    "id": "wkQHQ_ZBDWr5",
    "outputId": "5aebb861-c96c-4678-90c1-508fb2dd8488"
   },
   "outputs": [
    {
     "data": {
      "text/html": [
       "<div>\n",
       "<style scoped>\n",
       "    .dataframe tbody tr th:only-of-type {\n",
       "        vertical-align: middle;\n",
       "    }\n",
       "\n",
       "    .dataframe tbody tr th {\n",
       "        vertical-align: top;\n",
       "    }\n",
       "\n",
       "    .dataframe thead th {\n",
       "        text-align: right;\n",
       "    }\n",
       "</style>\n",
       "<table border=\"1\" class=\"dataframe\">\n",
       "  <thead>\n",
       "    <tr style=\"text-align: right;\">\n",
       "      <th></th>\n",
       "      <th>W</th>\n",
       "      <th>Z</th>\n",
       "    </tr>\n",
       "  </thead>\n",
       "  <tbody>\n",
       "    <tr>\n",
       "      <th>A</th>\n",
       "      <td>1.668068</td>\n",
       "      <td>-0.920339</td>\n",
       "    </tr>\n",
       "    <tr>\n",
       "      <th>B</th>\n",
       "      <td>1.299748</td>\n",
       "      <td>-0.903099</td>\n",
       "    </tr>\n",
       "    <tr>\n",
       "      <th>C</th>\n",
       "      <td>-0.130016</td>\n",
       "      <td>-0.024185</td>\n",
       "    </tr>\n",
       "    <tr>\n",
       "      <th>D</th>\n",
       "      <td>-0.484928</td>\n",
       "      <td>1.042387</td>\n",
       "    </tr>\n",
       "    <tr>\n",
       "      <th>E</th>\n",
       "      <td>-1.712263</td>\n",
       "      <td>0.050980</td>\n",
       "    </tr>\n",
       "  </tbody>\n",
       "</table>\n",
       "</div>"
      ],
      "text/plain": [
       "          W         Z\n",
       "A  1.668068 -0.920339\n",
       "B  1.299748 -0.903099\n",
       "C -0.130016 -0.024185\n",
       "D -0.484928  1.042387\n",
       "E -1.712263  0.050980"
      ]
     },
     "execution_count": 7,
     "metadata": {},
     "output_type": "execute_result"
    }
   ],
   "source": [
    "# Pass a list of column names\n",
    "df[ ['W','Z'] ]"
   ]
  },
  {
   "cell_type": "code",
   "execution_count": 8,
   "metadata": {
    "colab": {
     "base_uri": "https://localhost:8080/",
     "height": 118
    },
    "colab_type": "code",
    "executionInfo": {
     "elapsed": 1128,
     "status": "ok",
     "timestamp": 1559976410860,
     "user": {
      "displayName": "Atin Gupta",
      "photoUrl": "https://lh4.googleusercontent.com/-VN-JLkSccdk/AAAAAAAAAAI/AAAAAAAAH3Q/XCDSdNuOjB0/s64/photo.jpg",
      "userId": "01235820350389977490"
     },
     "user_tz": -330
    },
    "id": "S7khwPCUDWsI",
    "outputId": "b8e2f6c9-e13d-41a1-ffec-56cf0ef24988"
   },
   "outputs": [
    {
     "data": {
      "text/plain": [
       "A    1.668068\n",
       "B    1.299748\n",
       "C   -0.130016\n",
       "D   -0.484928\n",
       "E   -1.712263\n",
       "Name: W, dtype: float64"
      ]
     },
     "execution_count": 8,
     "metadata": {},
     "output_type": "execute_result"
    }
   ],
   "source": [
    "# SQL Syntax (NOT RECOMMENDED!)\n",
    "df.W"
   ]
  },
  {
   "cell_type": "markdown",
   "metadata": {
    "colab_type": "text",
    "id": "xVgv0MNWDWsk"
   },
   "source": [
    "DataFrame Columns are just Series"
   ]
  },
  {
   "cell_type": "code",
   "execution_count": 9,
   "metadata": {
    "colab": {
     "base_uri": "https://localhost:8080/",
     "height": 34
    },
    "colab_type": "code",
    "executionInfo": {
     "elapsed": 1094,
     "status": "ok",
     "timestamp": 1551794082970,
     "user": {
      "displayName": "Atin Gupta",
      "photoUrl": "https://lh4.googleusercontent.com/-VN-JLkSccdk/AAAAAAAAAAI/AAAAAAAAH3Q/XCDSdNuOjB0/s64/photo.jpg",
      "userId": "01235820350389977490"
     },
     "user_tz": -330
    },
    "id": "6p7gtHTzDWsp",
    "outputId": "966b2d3a-56d8-4d0c-c8e3-1782691fbddd"
   },
   "outputs": [
    {
     "data": {
      "text/plain": [
       "pandas.core.series.Series"
      ]
     },
     "execution_count": 9,
     "metadata": {},
     "output_type": "execute_result"
    }
   ],
   "source": [
    "type(df['W'])"
   ]
  },
  {
   "cell_type": "code",
   "execution_count": null,
   "metadata": {},
   "outputs": [],
   "source": []
  },
  {
   "cell_type": "markdown",
   "metadata": {
    "colab_type": "text",
    "id": "zx8OpkFXDWs8"
   },
   "source": [
    "**Creating a new column:**"
   ]
  },
  {
   "cell_type": "code",
   "execution_count": 10,
   "metadata": {
    "colab": {},
    "colab_type": "code",
    "id": "WVRQk4fBDWs_"
   },
   "outputs": [],
   "source": [
    "df['new'] = df['W'] + df['Y']"
   ]
  },
  {
   "cell_type": "code",
   "execution_count": 11,
   "metadata": {
    "colab": {
     "base_uri": "https://localhost:8080/",
     "height": 195
    },
    "colab_type": "code",
    "executionInfo": {
     "elapsed": 1143,
     "status": "ok",
     "timestamp": 1559976445037,
     "user": {
      "displayName": "Atin Gupta",
      "photoUrl": "https://lh4.googleusercontent.com/-VN-JLkSccdk/AAAAAAAAAAI/AAAAAAAAH3Q/XCDSdNuOjB0/s64/photo.jpg",
      "userId": "01235820350389977490"
     },
     "user_tz": -330
    },
    "id": "LMS-HnaHDWtG",
    "outputId": "55cf3188-3c85-41bf-a5d6-da0ed6a8f1d7"
   },
   "outputs": [
    {
     "data": {
      "text/html": [
       "<div>\n",
       "<style scoped>\n",
       "    .dataframe tbody tr th:only-of-type {\n",
       "        vertical-align: middle;\n",
       "    }\n",
       "\n",
       "    .dataframe tbody tr th {\n",
       "        vertical-align: top;\n",
       "    }\n",
       "\n",
       "    .dataframe thead th {\n",
       "        text-align: right;\n",
       "    }\n",
       "</style>\n",
       "<table border=\"1\" class=\"dataframe\">\n",
       "  <thead>\n",
       "    <tr style=\"text-align: right;\">\n",
       "      <th></th>\n",
       "      <th>W</th>\n",
       "      <th>X</th>\n",
       "      <th>Y</th>\n",
       "      <th>Z</th>\n",
       "      <th>new</th>\n",
       "    </tr>\n",
       "  </thead>\n",
       "  <tbody>\n",
       "    <tr>\n",
       "      <th>A</th>\n",
       "      <td>1.668068</td>\n",
       "      <td>0.925862</td>\n",
       "      <td>1.057997</td>\n",
       "      <td>-0.920339</td>\n",
       "      <td>2.726065</td>\n",
       "    </tr>\n",
       "    <tr>\n",
       "      <th>B</th>\n",
       "      <td>1.299748</td>\n",
       "      <td>0.331183</td>\n",
       "      <td>-0.509845</td>\n",
       "      <td>-0.903099</td>\n",
       "      <td>0.789903</td>\n",
       "    </tr>\n",
       "    <tr>\n",
       "      <th>C</th>\n",
       "      <td>-0.130016</td>\n",
       "      <td>-2.238203</td>\n",
       "      <td>0.973165</td>\n",
       "      <td>-0.024185</td>\n",
       "      <td>0.843149</td>\n",
       "    </tr>\n",
       "    <tr>\n",
       "      <th>D</th>\n",
       "      <td>-0.484928</td>\n",
       "      <td>-1.109264</td>\n",
       "      <td>-0.558975</td>\n",
       "      <td>1.042387</td>\n",
       "      <td>-1.043903</td>\n",
       "    </tr>\n",
       "    <tr>\n",
       "      <th>E</th>\n",
       "      <td>-1.712263</td>\n",
       "      <td>0.136120</td>\n",
       "      <td>-0.464444</td>\n",
       "      <td>0.050980</td>\n",
       "      <td>-2.176707</td>\n",
       "    </tr>\n",
       "  </tbody>\n",
       "</table>\n",
       "</div>"
      ],
      "text/plain": [
       "          W         X         Y         Z       new\n",
       "A  1.668068  0.925862  1.057997 -0.920339  2.726065\n",
       "B  1.299748  0.331183 -0.509845 -0.903099  0.789903\n",
       "C -0.130016 -2.238203  0.973165 -0.024185  0.843149\n",
       "D -0.484928 -1.109264 -0.558975  1.042387 -1.043903\n",
       "E -1.712263  0.136120 -0.464444  0.050980 -2.176707"
      ]
     },
     "execution_count": 11,
     "metadata": {},
     "output_type": "execute_result"
    }
   ],
   "source": [
    "df"
   ]
  },
  {
   "cell_type": "markdown",
   "metadata": {
    "colab_type": "text",
    "id": "pG42c6ouDWtT"
   },
   "source": [
    "** Removing Columns**"
   ]
  },
  {
   "cell_type": "code",
   "execution_count": 12,
   "metadata": {
    "colab": {
     "base_uri": "https://localhost:8080/",
     "height": 195
    },
    "colab_type": "code",
    "executionInfo": {
     "elapsed": 1183,
     "status": "ok",
     "timestamp": 1559976511041,
     "user": {
      "displayName": "Atin Gupta",
      "photoUrl": "https://lh4.googleusercontent.com/-VN-JLkSccdk/AAAAAAAAAAI/AAAAAAAAH3Q/XCDSdNuOjB0/s64/photo.jpg",
      "userId": "01235820350389977490"
     },
     "user_tz": -330
    },
    "id": "ezF7l1i-DWtW",
    "outputId": "2222ce47-e0fa-46e5-97ce-f458425819da"
   },
   "outputs": [
    {
     "data": {
      "text/html": [
       "<div>\n",
       "<style scoped>\n",
       "    .dataframe tbody tr th:only-of-type {\n",
       "        vertical-align: middle;\n",
       "    }\n",
       "\n",
       "    .dataframe tbody tr th {\n",
       "        vertical-align: top;\n",
       "    }\n",
       "\n",
       "    .dataframe thead th {\n",
       "        text-align: right;\n",
       "    }\n",
       "</style>\n",
       "<table border=\"1\" class=\"dataframe\">\n",
       "  <thead>\n",
       "    <tr style=\"text-align: right;\">\n",
       "      <th></th>\n",
       "      <th>W</th>\n",
       "      <th>X</th>\n",
       "      <th>Y</th>\n",
       "      <th>Z</th>\n",
       "    </tr>\n",
       "  </thead>\n",
       "  <tbody>\n",
       "    <tr>\n",
       "      <th>A</th>\n",
       "      <td>1.668068</td>\n",
       "      <td>0.925862</td>\n",
       "      <td>1.057997</td>\n",
       "      <td>-0.920339</td>\n",
       "    </tr>\n",
       "    <tr>\n",
       "      <th>B</th>\n",
       "      <td>1.299748</td>\n",
       "      <td>0.331183</td>\n",
       "      <td>-0.509845</td>\n",
       "      <td>-0.903099</td>\n",
       "    </tr>\n",
       "    <tr>\n",
       "      <th>C</th>\n",
       "      <td>-0.130016</td>\n",
       "      <td>-2.238203</td>\n",
       "      <td>0.973165</td>\n",
       "      <td>-0.024185</td>\n",
       "    </tr>\n",
       "    <tr>\n",
       "      <th>D</th>\n",
       "      <td>-0.484928</td>\n",
       "      <td>-1.109264</td>\n",
       "      <td>-0.558975</td>\n",
       "      <td>1.042387</td>\n",
       "    </tr>\n",
       "    <tr>\n",
       "      <th>E</th>\n",
       "      <td>-1.712263</td>\n",
       "      <td>0.136120</td>\n",
       "      <td>-0.464444</td>\n",
       "      <td>0.050980</td>\n",
       "    </tr>\n",
       "  </tbody>\n",
       "</table>\n",
       "</div>"
      ],
      "text/plain": [
       "          W         X         Y         Z\n",
       "A  1.668068  0.925862  1.057997 -0.920339\n",
       "B  1.299748  0.331183 -0.509845 -0.903099\n",
       "C -0.130016 -2.238203  0.973165 -0.024185\n",
       "D -0.484928 -1.109264 -0.558975  1.042387\n",
       "E -1.712263  0.136120 -0.464444  0.050980"
      ]
     },
     "execution_count": 12,
     "metadata": {},
     "output_type": "execute_result"
    }
   ],
   "source": [
    "df.drop('new',axis=1)"
   ]
  },
  {
   "cell_type": "code",
   "execution_count": 13,
   "metadata": {
    "colab": {
     "base_uri": "https://localhost:8080/",
     "height": 195
    },
    "colab_type": "code",
    "executionInfo": {
     "elapsed": 1194,
     "status": "ok",
     "timestamp": 1559976544244,
     "user": {
      "displayName": "Atin Gupta",
      "photoUrl": "https://lh4.googleusercontent.com/-VN-JLkSccdk/AAAAAAAAAAI/AAAAAAAAH3Q/XCDSdNuOjB0/s64/photo.jpg",
      "userId": "01235820350389977490"
     },
     "user_tz": -330
    },
    "id": "5s1U7amjDWti",
    "outputId": "5a769821-f2aa-46d3-ed9c-f815d24b4dee"
   },
   "outputs": [
    {
     "data": {
      "text/html": [
       "<div>\n",
       "<style scoped>\n",
       "    .dataframe tbody tr th:only-of-type {\n",
       "        vertical-align: middle;\n",
       "    }\n",
       "\n",
       "    .dataframe tbody tr th {\n",
       "        vertical-align: top;\n",
       "    }\n",
       "\n",
       "    .dataframe thead th {\n",
       "        text-align: right;\n",
       "    }\n",
       "</style>\n",
       "<table border=\"1\" class=\"dataframe\">\n",
       "  <thead>\n",
       "    <tr style=\"text-align: right;\">\n",
       "      <th></th>\n",
       "      <th>W</th>\n",
       "      <th>X</th>\n",
       "      <th>Y</th>\n",
       "      <th>Z</th>\n",
       "      <th>new</th>\n",
       "    </tr>\n",
       "  </thead>\n",
       "  <tbody>\n",
       "    <tr>\n",
       "      <th>A</th>\n",
       "      <td>1.668068</td>\n",
       "      <td>0.925862</td>\n",
       "      <td>1.057997</td>\n",
       "      <td>-0.920339</td>\n",
       "      <td>2.726065</td>\n",
       "    </tr>\n",
       "    <tr>\n",
       "      <th>B</th>\n",
       "      <td>1.299748</td>\n",
       "      <td>0.331183</td>\n",
       "      <td>-0.509845</td>\n",
       "      <td>-0.903099</td>\n",
       "      <td>0.789903</td>\n",
       "    </tr>\n",
       "    <tr>\n",
       "      <th>C</th>\n",
       "      <td>-0.130016</td>\n",
       "      <td>-2.238203</td>\n",
       "      <td>0.973165</td>\n",
       "      <td>-0.024185</td>\n",
       "      <td>0.843149</td>\n",
       "    </tr>\n",
       "    <tr>\n",
       "      <th>D</th>\n",
       "      <td>-0.484928</td>\n",
       "      <td>-1.109264</td>\n",
       "      <td>-0.558975</td>\n",
       "      <td>1.042387</td>\n",
       "      <td>-1.043903</td>\n",
       "    </tr>\n",
       "    <tr>\n",
       "      <th>E</th>\n",
       "      <td>-1.712263</td>\n",
       "      <td>0.136120</td>\n",
       "      <td>-0.464444</td>\n",
       "      <td>0.050980</td>\n",
       "      <td>-2.176707</td>\n",
       "    </tr>\n",
       "  </tbody>\n",
       "</table>\n",
       "</div>"
      ],
      "text/plain": [
       "          W         X         Y         Z       new\n",
       "A  1.668068  0.925862  1.057997 -0.920339  2.726065\n",
       "B  1.299748  0.331183 -0.509845 -0.903099  0.789903\n",
       "C -0.130016 -2.238203  0.973165 -0.024185  0.843149\n",
       "D -0.484928 -1.109264 -0.558975  1.042387 -1.043903\n",
       "E -1.712263  0.136120 -0.464444  0.050980 -2.176707"
      ]
     },
     "execution_count": 13,
     "metadata": {},
     "output_type": "execute_result"
    }
   ],
   "source": [
    "# Not inplace unless specified!\n",
    "df"
   ]
  },
  {
   "cell_type": "code",
   "execution_count": 14,
   "metadata": {
    "colab": {},
    "colab_type": "code",
    "id": "gIYdtXvrDWtu"
   },
   "outputs": [],
   "source": [
    "df.drop('new',axis=1,inplace=True)"
   ]
  },
  {
   "cell_type": "code",
   "execution_count": 15,
   "metadata": {
    "colab": {
     "base_uri": "https://localhost:8080/",
     "height": 195
    },
    "colab_type": "code",
    "executionInfo": {
     "elapsed": 1270,
     "status": "ok",
     "timestamp": 1559976593082,
     "user": {
      "displayName": "Atin Gupta",
      "photoUrl": "https://lh4.googleusercontent.com/-VN-JLkSccdk/AAAAAAAAAAI/AAAAAAAAH3Q/XCDSdNuOjB0/s64/photo.jpg",
      "userId": "01235820350389977490"
     },
     "user_tz": -330
    },
    "id": "XwIYdiGmDWt2",
    "outputId": "52b9badc-0b84-40e8-c9a6-9b275d0bab87"
   },
   "outputs": [
    {
     "data": {
      "text/html": [
       "<div>\n",
       "<style scoped>\n",
       "    .dataframe tbody tr th:only-of-type {\n",
       "        vertical-align: middle;\n",
       "    }\n",
       "\n",
       "    .dataframe tbody tr th {\n",
       "        vertical-align: top;\n",
       "    }\n",
       "\n",
       "    .dataframe thead th {\n",
       "        text-align: right;\n",
       "    }\n",
       "</style>\n",
       "<table border=\"1\" class=\"dataframe\">\n",
       "  <thead>\n",
       "    <tr style=\"text-align: right;\">\n",
       "      <th></th>\n",
       "      <th>W</th>\n",
       "      <th>X</th>\n",
       "      <th>Y</th>\n",
       "      <th>Z</th>\n",
       "    </tr>\n",
       "  </thead>\n",
       "  <tbody>\n",
       "    <tr>\n",
       "      <th>A</th>\n",
       "      <td>1.668068</td>\n",
       "      <td>0.925862</td>\n",
       "      <td>1.057997</td>\n",
       "      <td>-0.920339</td>\n",
       "    </tr>\n",
       "    <tr>\n",
       "      <th>B</th>\n",
       "      <td>1.299748</td>\n",
       "      <td>0.331183</td>\n",
       "      <td>-0.509845</td>\n",
       "      <td>-0.903099</td>\n",
       "    </tr>\n",
       "    <tr>\n",
       "      <th>C</th>\n",
       "      <td>-0.130016</td>\n",
       "      <td>-2.238203</td>\n",
       "      <td>0.973165</td>\n",
       "      <td>-0.024185</td>\n",
       "    </tr>\n",
       "    <tr>\n",
       "      <th>D</th>\n",
       "      <td>-0.484928</td>\n",
       "      <td>-1.109264</td>\n",
       "      <td>-0.558975</td>\n",
       "      <td>1.042387</td>\n",
       "    </tr>\n",
       "    <tr>\n",
       "      <th>E</th>\n",
       "      <td>-1.712263</td>\n",
       "      <td>0.136120</td>\n",
       "      <td>-0.464444</td>\n",
       "      <td>0.050980</td>\n",
       "    </tr>\n",
       "  </tbody>\n",
       "</table>\n",
       "</div>"
      ],
      "text/plain": [
       "          W         X         Y         Z\n",
       "A  1.668068  0.925862  1.057997 -0.920339\n",
       "B  1.299748  0.331183 -0.509845 -0.903099\n",
       "C -0.130016 -2.238203  0.973165 -0.024185\n",
       "D -0.484928 -1.109264 -0.558975  1.042387\n",
       "E -1.712263  0.136120 -0.464444  0.050980"
      ]
     },
     "execution_count": 15,
     "metadata": {},
     "output_type": "execute_result"
    }
   ],
   "source": [
    "df"
   ]
  },
  {
   "cell_type": "markdown",
   "metadata": {
    "colab_type": "text",
    "id": "VzexNuUkDWuX"
   },
   "source": [
    "Can also drop rows this way:"
   ]
  },
  {
   "cell_type": "code",
   "execution_count": 16,
   "metadata": {
    "colab": {
     "base_uri": "https://localhost:8080/",
     "height": 166
    },
    "colab_type": "code",
    "executionInfo": {
     "elapsed": 1124,
     "status": "ok",
     "timestamp": 1559976726463,
     "user": {
      "displayName": "Atin Gupta",
      "photoUrl": "https://lh4.googleusercontent.com/-VN-JLkSccdk/AAAAAAAAAAI/AAAAAAAAH3Q/XCDSdNuOjB0/s64/photo.jpg",
      "userId": "01235820350389977490"
     },
     "user_tz": -330
    },
    "id": "SBmfuOBMDWuf",
    "outputId": "602b9dae-117c-4eb9-d460-1453a6cf0c31"
   },
   "outputs": [
    {
     "data": {
      "text/html": [
       "<div>\n",
       "<style scoped>\n",
       "    .dataframe tbody tr th:only-of-type {\n",
       "        vertical-align: middle;\n",
       "    }\n",
       "\n",
       "    .dataframe tbody tr th {\n",
       "        vertical-align: top;\n",
       "    }\n",
       "\n",
       "    .dataframe thead th {\n",
       "        text-align: right;\n",
       "    }\n",
       "</style>\n",
       "<table border=\"1\" class=\"dataframe\">\n",
       "  <thead>\n",
       "    <tr style=\"text-align: right;\">\n",
       "      <th></th>\n",
       "      <th>W</th>\n",
       "      <th>X</th>\n",
       "      <th>Y</th>\n",
       "      <th>Z</th>\n",
       "    </tr>\n",
       "  </thead>\n",
       "  <tbody>\n",
       "    <tr>\n",
       "      <th>A</th>\n",
       "      <td>1.668068</td>\n",
       "      <td>0.925862</td>\n",
       "      <td>1.057997</td>\n",
       "      <td>-0.920339</td>\n",
       "    </tr>\n",
       "    <tr>\n",
       "      <th>B</th>\n",
       "      <td>1.299748</td>\n",
       "      <td>0.331183</td>\n",
       "      <td>-0.509845</td>\n",
       "      <td>-0.903099</td>\n",
       "    </tr>\n",
       "    <tr>\n",
       "      <th>C</th>\n",
       "      <td>-0.130016</td>\n",
       "      <td>-2.238203</td>\n",
       "      <td>0.973165</td>\n",
       "      <td>-0.024185</td>\n",
       "    </tr>\n",
       "    <tr>\n",
       "      <th>D</th>\n",
       "      <td>-0.484928</td>\n",
       "      <td>-1.109264</td>\n",
       "      <td>-0.558975</td>\n",
       "      <td>1.042387</td>\n",
       "    </tr>\n",
       "  </tbody>\n",
       "</table>\n",
       "</div>"
      ],
      "text/plain": [
       "          W         X         Y         Z\n",
       "A  1.668068  0.925862  1.057997 -0.920339\n",
       "B  1.299748  0.331183 -0.509845 -0.903099\n",
       "C -0.130016 -2.238203  0.973165 -0.024185\n",
       "D -0.484928 -1.109264 -0.558975  1.042387"
      ]
     },
     "execution_count": 16,
     "metadata": {},
     "output_type": "execute_result"
    }
   ],
   "source": [
    "df.drop('E',axis=0)"
   ]
  },
  {
   "cell_type": "code",
   "execution_count": 17,
   "metadata": {
    "colab": {
     "base_uri": "https://localhost:8080/",
     "height": 101
    },
    "colab_type": "code",
    "executionInfo": {
     "elapsed": 1176,
     "status": "ok",
     "timestamp": 1559976675604,
     "user": {
      "displayName": "Atin Gupta",
      "photoUrl": "https://lh4.googleusercontent.com/-VN-JLkSccdk/AAAAAAAAAAI/AAAAAAAAH3Q/XCDSdNuOjB0/s64/photo.jpg",
      "userId": "01235820350389977490"
     },
     "user_tz": -330
    },
    "id": "_b-Ci452DWuu",
    "outputId": "bc703c9a-d317-4203-d5aa-91616194082b"
   },
   "outputs": [
    {
     "data": {
      "text/plain": [
       "W    1.668068\n",
       "X    0.925862\n",
       "Y    1.057997\n",
       "Z   -0.920339\n",
       "Name: A, dtype: float64"
      ]
     },
     "execution_count": 17,
     "metadata": {},
     "output_type": "execute_result"
    }
   ],
   "source": [
    "df.loc['A']"
   ]
  },
  {
   "cell_type": "code",
   "execution_count": 18,
   "metadata": {},
   "outputs": [
    {
     "data": {
      "text/plain": [
       "A    1.057997\n",
       "B   -0.509845\n",
       "C    0.973165\n",
       "D   -0.558975\n",
       "E   -0.464444\n",
       "Name: Y, dtype: float64"
      ]
     },
     "execution_count": 18,
     "metadata": {},
     "output_type": "execute_result"
    }
   ],
   "source": [
    "df.iloc[:, 2]"
   ]
  },
  {
   "cell_type": "markdown",
   "metadata": {
    "colab_type": "text",
    "id": "f09U8ofUDWus"
   },
   "source": [
    "** Selecting Rows**"
   ]
  },
  {
   "cell_type": "markdown",
   "metadata": {
    "colab_type": "text",
    "id": "5vhwsIOeDWvA"
   },
   "source": [
    "Or select based off of position instead of label "
   ]
  },
  {
   "cell_type": "code",
   "execution_count": 19,
   "metadata": {
    "colab": {
     "base_uri": "https://localhost:8080/",
     "height": 101
    },
    "colab_type": "code",
    "executionInfo": {
     "elapsed": 1253,
     "status": "ok",
     "timestamp": 1559976698916,
     "user": {
      "displayName": "Atin Gupta",
      "photoUrl": "https://lh4.googleusercontent.com/-VN-JLkSccdk/AAAAAAAAAAI/AAAAAAAAH3Q/XCDSdNuOjB0/s64/photo.jpg",
      "userId": "01235820350389977490"
     },
     "user_tz": -330
    },
    "id": "aCB5TvA9DWvD",
    "outputId": "26e8e245-25c9-40e2-9320-6638b1566e9d"
   },
   "outputs": [
    {
     "data": {
      "text/plain": [
       "W   -0.130016\n",
       "X   -2.238203\n",
       "Y    0.973165\n",
       "Z   -0.024185\n",
       "Name: C, dtype: float64"
      ]
     },
     "execution_count": 19,
     "metadata": {},
     "output_type": "execute_result"
    }
   ],
   "source": [
    "df.iloc[2]"
   ]
  },
  {
   "cell_type": "markdown",
   "metadata": {
    "colab_type": "text",
    "id": "nVMfAX84DWvK"
   },
   "source": [
    "** Selecting subset of rows and columns **"
   ]
  },
  {
   "cell_type": "code",
   "execution_count": 20,
   "metadata": {
    "colab": {
     "base_uri": "https://localhost:8080/",
     "height": 195
    },
    "colab_type": "code",
    "executionInfo": {
     "elapsed": 1290,
     "status": "ok",
     "timestamp": 1559976846342,
     "user": {
      "displayName": "Atin Gupta",
      "photoUrl": "https://lh4.googleusercontent.com/-VN-JLkSccdk/AAAAAAAAAAI/AAAAAAAAH3Q/XCDSdNuOjB0/s64/photo.jpg",
      "userId": "01235820350389977490"
     },
     "user_tz": -330
    },
    "id": "GkWpzOKgDWvL",
    "outputId": "8a84b9e8-fafc-4a19-fe9a-8d9f3635d62b"
   },
   "outputs": [
    {
     "data": {
      "text/html": [
       "<div>\n",
       "<style scoped>\n",
       "    .dataframe tbody tr th:only-of-type {\n",
       "        vertical-align: middle;\n",
       "    }\n",
       "\n",
       "    .dataframe tbody tr th {\n",
       "        vertical-align: top;\n",
       "    }\n",
       "\n",
       "    .dataframe thead th {\n",
       "        text-align: right;\n",
       "    }\n",
       "</style>\n",
       "<table border=\"1\" class=\"dataframe\">\n",
       "  <thead>\n",
       "    <tr style=\"text-align: right;\">\n",
       "      <th></th>\n",
       "      <th>W</th>\n",
       "      <th>X</th>\n",
       "      <th>Y</th>\n",
       "      <th>Z</th>\n",
       "    </tr>\n",
       "  </thead>\n",
       "  <tbody>\n",
       "    <tr>\n",
       "      <th>A</th>\n",
       "      <td>1.668068</td>\n",
       "      <td>0.925862</td>\n",
       "      <td>1.057997</td>\n",
       "      <td>-0.920339</td>\n",
       "    </tr>\n",
       "    <tr>\n",
       "      <th>B</th>\n",
       "      <td>1.299748</td>\n",
       "      <td>0.331183</td>\n",
       "      <td>-0.509845</td>\n",
       "      <td>-0.903099</td>\n",
       "    </tr>\n",
       "    <tr>\n",
       "      <th>C</th>\n",
       "      <td>-0.130016</td>\n",
       "      <td>-2.238203</td>\n",
       "      <td>0.973165</td>\n",
       "      <td>-0.024185</td>\n",
       "    </tr>\n",
       "    <tr>\n",
       "      <th>D</th>\n",
       "      <td>-0.484928</td>\n",
       "      <td>-1.109264</td>\n",
       "      <td>-0.558975</td>\n",
       "      <td>1.042387</td>\n",
       "    </tr>\n",
       "    <tr>\n",
       "      <th>E</th>\n",
       "      <td>-1.712263</td>\n",
       "      <td>0.136120</td>\n",
       "      <td>-0.464444</td>\n",
       "      <td>0.050980</td>\n",
       "    </tr>\n",
       "  </tbody>\n",
       "</table>\n",
       "</div>"
      ],
      "text/plain": [
       "          W         X         Y         Z\n",
       "A  1.668068  0.925862  1.057997 -0.920339\n",
       "B  1.299748  0.331183 -0.509845 -0.903099\n",
       "C -0.130016 -2.238203  0.973165 -0.024185\n",
       "D -0.484928 -1.109264 -0.558975  1.042387\n",
       "E -1.712263  0.136120 -0.464444  0.050980"
      ]
     },
     "execution_count": 20,
     "metadata": {},
     "output_type": "execute_result"
    }
   ],
   "source": [
    "df"
   ]
  },
  {
   "cell_type": "code",
   "execution_count": 21,
   "metadata": {
    "colab": {
     "base_uri": "https://localhost:8080/",
     "height": 34
    },
    "colab_type": "code",
    "executionInfo": {
     "elapsed": 1429,
     "status": "ok",
     "timestamp": 1559976862812,
     "user": {
      "displayName": "Atin Gupta",
      "photoUrl": "https://lh4.googleusercontent.com/-VN-JLkSccdk/AAAAAAAAAAI/AAAAAAAAH3Q/XCDSdNuOjB0/s64/photo.jpg",
      "userId": "01235820350389977490"
     },
     "user_tz": -330
    },
    "id": "3FJb9ebW3YpB",
    "outputId": "85b541ca-0136-4e0c-97f7-62ff60ee2ad8"
   },
   "outputs": [
    {
     "data": {
      "text/plain": [
       "-0.5098449678999922"
      ]
     },
     "execution_count": 21,
     "metadata": {},
     "output_type": "execute_result"
    }
   ],
   "source": [
    "df.loc['B','Y']"
   ]
  },
  {
   "cell_type": "code",
   "execution_count": 22,
   "metadata": {
    "colab": {
     "base_uri": "https://localhost:8080/",
     "height": 106
    },
    "colab_type": "code",
    "executionInfo": {
     "elapsed": 1149,
     "status": "ok",
     "timestamp": 1559976941460,
     "user": {
      "displayName": "Atin Gupta",
      "photoUrl": "https://lh4.googleusercontent.com/-VN-JLkSccdk/AAAAAAAAAAI/AAAAAAAAH3Q/XCDSdNuOjB0/s64/photo.jpg",
      "userId": "01235820350389977490"
     },
     "user_tz": -330
    },
    "id": "pMah-ofCDWvV",
    "outputId": "f05a8c68-4d7e-4649-dff1-82d97f913637"
   },
   "outputs": [
    {
     "data": {
      "text/html": [
       "<div>\n",
       "<style scoped>\n",
       "    .dataframe tbody tr th:only-of-type {\n",
       "        vertical-align: middle;\n",
       "    }\n",
       "\n",
       "    .dataframe tbody tr th {\n",
       "        vertical-align: top;\n",
       "    }\n",
       "\n",
       "    .dataframe thead th {\n",
       "        text-align: right;\n",
       "    }\n",
       "</style>\n",
       "<table border=\"1\" class=\"dataframe\">\n",
       "  <thead>\n",
       "    <tr style=\"text-align: right;\">\n",
       "      <th></th>\n",
       "      <th>W</th>\n",
       "      <th>X</th>\n",
       "    </tr>\n",
       "  </thead>\n",
       "  <tbody>\n",
       "    <tr>\n",
       "      <th>A</th>\n",
       "      <td>1.668068</td>\n",
       "      <td>0.925862</td>\n",
       "    </tr>\n",
       "    <tr>\n",
       "      <th>B</th>\n",
       "      <td>1.299748</td>\n",
       "      <td>0.331183</td>\n",
       "    </tr>\n",
       "  </tbody>\n",
       "</table>\n",
       "</div>"
      ],
      "text/plain": [
       "          W         X\n",
       "A  1.668068  0.925862\n",
       "B  1.299748  0.331183"
      ]
     },
     "execution_count": 22,
     "metadata": {},
     "output_type": "execute_result"
    }
   ],
   "source": [
    "df.loc[ ['A','B'], ['W', 'X'] ]"
   ]
  },
  {
   "cell_type": "markdown",
   "metadata": {
    "colab_type": "text",
    "id": "zF_26-SWDWvd"
   },
   "source": [
    "### Conditional Selection\n",
    "\n",
    "An important feature of pandas is conditional selection using bracket notation, very similar to numpy:"
   ]
  },
  {
   "cell_type": "code",
   "execution_count": 23,
   "metadata": {
    "colab": {
     "base_uri": "https://localhost:8080/",
     "height": 195
    },
    "colab_type": "code",
    "executionInfo": {
     "elapsed": 1133,
     "status": "ok",
     "timestamp": 1559977774310,
     "user": {
      "displayName": "Atin Gupta",
      "photoUrl": "https://lh4.googleusercontent.com/-VN-JLkSccdk/AAAAAAAAAAI/AAAAAAAAH3Q/XCDSdNuOjB0/s64/photo.jpg",
      "userId": "01235820350389977490"
     },
     "user_tz": -330
    },
    "id": "LKFQHAymDWvl",
    "outputId": "5e1f82f4-7470-4379-93ef-b18af5e71e76"
   },
   "outputs": [
    {
     "data": {
      "text/html": [
       "<div>\n",
       "<style scoped>\n",
       "    .dataframe tbody tr th:only-of-type {\n",
       "        vertical-align: middle;\n",
       "    }\n",
       "\n",
       "    .dataframe tbody tr th {\n",
       "        vertical-align: top;\n",
       "    }\n",
       "\n",
       "    .dataframe thead th {\n",
       "        text-align: right;\n",
       "    }\n",
       "</style>\n",
       "<table border=\"1\" class=\"dataframe\">\n",
       "  <thead>\n",
       "    <tr style=\"text-align: right;\">\n",
       "      <th></th>\n",
       "      <th>W</th>\n",
       "      <th>X</th>\n",
       "      <th>Y</th>\n",
       "      <th>Z</th>\n",
       "    </tr>\n",
       "  </thead>\n",
       "  <tbody>\n",
       "    <tr>\n",
       "      <th>A</th>\n",
       "      <td>1.668068</td>\n",
       "      <td>0.925862</td>\n",
       "      <td>1.057997</td>\n",
       "      <td>-0.920339</td>\n",
       "    </tr>\n",
       "    <tr>\n",
       "      <th>B</th>\n",
       "      <td>1.299748</td>\n",
       "      <td>0.331183</td>\n",
       "      <td>-0.509845</td>\n",
       "      <td>-0.903099</td>\n",
       "    </tr>\n",
       "    <tr>\n",
       "      <th>C</th>\n",
       "      <td>-0.130016</td>\n",
       "      <td>-2.238203</td>\n",
       "      <td>0.973165</td>\n",
       "      <td>-0.024185</td>\n",
       "    </tr>\n",
       "    <tr>\n",
       "      <th>D</th>\n",
       "      <td>-0.484928</td>\n",
       "      <td>-1.109264</td>\n",
       "      <td>-0.558975</td>\n",
       "      <td>1.042387</td>\n",
       "    </tr>\n",
       "    <tr>\n",
       "      <th>E</th>\n",
       "      <td>-1.712263</td>\n",
       "      <td>0.136120</td>\n",
       "      <td>-0.464444</td>\n",
       "      <td>0.050980</td>\n",
       "    </tr>\n",
       "  </tbody>\n",
       "</table>\n",
       "</div>"
      ],
      "text/plain": [
       "          W         X         Y         Z\n",
       "A  1.668068  0.925862  1.057997 -0.920339\n",
       "B  1.299748  0.331183 -0.509845 -0.903099\n",
       "C -0.130016 -2.238203  0.973165 -0.024185\n",
       "D -0.484928 -1.109264 -0.558975  1.042387\n",
       "E -1.712263  0.136120 -0.464444  0.050980"
      ]
     },
     "execution_count": 23,
     "metadata": {},
     "output_type": "execute_result"
    }
   ],
   "source": [
    "df"
   ]
  },
  {
   "cell_type": "code",
   "execution_count": 24,
   "metadata": {
    "colab": {
     "base_uri": "https://localhost:8080/",
     "height": 195
    },
    "colab_type": "code",
    "executionInfo": {
     "elapsed": 1197,
     "status": "ok",
     "timestamp": 1559977784387,
     "user": {
      "displayName": "Atin Gupta",
      "photoUrl": "https://lh4.googleusercontent.com/-VN-JLkSccdk/AAAAAAAAAAI/AAAAAAAAH3Q/XCDSdNuOjB0/s64/photo.jpg",
      "userId": "01235820350389977490"
     },
     "user_tz": -330
    },
    "id": "qZJoeOt-DWv1",
    "outputId": "aab0649e-3601-4338-db6e-c31a0d5b402f"
   },
   "outputs": [
    {
     "data": {
      "text/html": [
       "<div>\n",
       "<style scoped>\n",
       "    .dataframe tbody tr th:only-of-type {\n",
       "        vertical-align: middle;\n",
       "    }\n",
       "\n",
       "    .dataframe tbody tr th {\n",
       "        vertical-align: top;\n",
       "    }\n",
       "\n",
       "    .dataframe thead th {\n",
       "        text-align: right;\n",
       "    }\n",
       "</style>\n",
       "<table border=\"1\" class=\"dataframe\">\n",
       "  <thead>\n",
       "    <tr style=\"text-align: right;\">\n",
       "      <th></th>\n",
       "      <th>W</th>\n",
       "      <th>X</th>\n",
       "      <th>Y</th>\n",
       "      <th>Z</th>\n",
       "    </tr>\n",
       "  </thead>\n",
       "  <tbody>\n",
       "    <tr>\n",
       "      <th>A</th>\n",
       "      <td>True</td>\n",
       "      <td>True</td>\n",
       "      <td>True</td>\n",
       "      <td>False</td>\n",
       "    </tr>\n",
       "    <tr>\n",
       "      <th>B</th>\n",
       "      <td>True</td>\n",
       "      <td>True</td>\n",
       "      <td>False</td>\n",
       "      <td>False</td>\n",
       "    </tr>\n",
       "    <tr>\n",
       "      <th>C</th>\n",
       "      <td>False</td>\n",
       "      <td>False</td>\n",
       "      <td>True</td>\n",
       "      <td>False</td>\n",
       "    </tr>\n",
       "    <tr>\n",
       "      <th>D</th>\n",
       "      <td>False</td>\n",
       "      <td>False</td>\n",
       "      <td>False</td>\n",
       "      <td>True</td>\n",
       "    </tr>\n",
       "    <tr>\n",
       "      <th>E</th>\n",
       "      <td>False</td>\n",
       "      <td>True</td>\n",
       "      <td>False</td>\n",
       "      <td>True</td>\n",
       "    </tr>\n",
       "  </tbody>\n",
       "</table>\n",
       "</div>"
      ],
      "text/plain": [
       "       W      X      Y      Z\n",
       "A   True   True   True  False\n",
       "B   True   True  False  False\n",
       "C  False  False   True  False\n",
       "D  False  False  False   True\n",
       "E  False   True  False   True"
      ]
     },
     "execution_count": 24,
     "metadata": {},
     "output_type": "execute_result"
    }
   ],
   "source": [
    "df>0"
   ]
  },
  {
   "cell_type": "code",
   "execution_count": 25,
   "metadata": {
    "colab": {
     "base_uri": "https://localhost:8080/",
     "height": 195
    },
    "colab_type": "code",
    "executionInfo": {
     "elapsed": 1177,
     "status": "ok",
     "timestamp": 1559977815869,
     "user": {
      "displayName": "Atin Gupta",
      "photoUrl": "https://lh4.googleusercontent.com/-VN-JLkSccdk/AAAAAAAAAAI/AAAAAAAAH3Q/XCDSdNuOjB0/s64/photo.jpg",
      "userId": "01235820350389977490"
     },
     "user_tz": -330
    },
    "id": "utE1CZQJDWwG",
    "outputId": "3fc8c037-cda8-4fce-df9b-4f4ab046878c"
   },
   "outputs": [
    {
     "data": {
      "text/html": [
       "<div>\n",
       "<style scoped>\n",
       "    .dataframe tbody tr th:only-of-type {\n",
       "        vertical-align: middle;\n",
       "    }\n",
       "\n",
       "    .dataframe tbody tr th {\n",
       "        vertical-align: top;\n",
       "    }\n",
       "\n",
       "    .dataframe thead th {\n",
       "        text-align: right;\n",
       "    }\n",
       "</style>\n",
       "<table border=\"1\" class=\"dataframe\">\n",
       "  <thead>\n",
       "    <tr style=\"text-align: right;\">\n",
       "      <th></th>\n",
       "      <th>W</th>\n",
       "      <th>X</th>\n",
       "      <th>Y</th>\n",
       "      <th>Z</th>\n",
       "    </tr>\n",
       "  </thead>\n",
       "  <tbody>\n",
       "    <tr>\n",
       "      <th>A</th>\n",
       "      <td>1.668068</td>\n",
       "      <td>0.925862</td>\n",
       "      <td>1.057997</td>\n",
       "      <td>NaN</td>\n",
       "    </tr>\n",
       "    <tr>\n",
       "      <th>B</th>\n",
       "      <td>1.299748</td>\n",
       "      <td>0.331183</td>\n",
       "      <td>NaN</td>\n",
       "      <td>NaN</td>\n",
       "    </tr>\n",
       "    <tr>\n",
       "      <th>C</th>\n",
       "      <td>NaN</td>\n",
       "      <td>NaN</td>\n",
       "      <td>0.973165</td>\n",
       "      <td>NaN</td>\n",
       "    </tr>\n",
       "    <tr>\n",
       "      <th>D</th>\n",
       "      <td>NaN</td>\n",
       "      <td>NaN</td>\n",
       "      <td>NaN</td>\n",
       "      <td>1.042387</td>\n",
       "    </tr>\n",
       "    <tr>\n",
       "      <th>E</th>\n",
       "      <td>NaN</td>\n",
       "      <td>0.136120</td>\n",
       "      <td>NaN</td>\n",
       "      <td>0.050980</td>\n",
       "    </tr>\n",
       "  </tbody>\n",
       "</table>\n",
       "</div>"
      ],
      "text/plain": [
       "          W         X         Y         Z\n",
       "A  1.668068  0.925862  1.057997       NaN\n",
       "B  1.299748  0.331183       NaN       NaN\n",
       "C       NaN       NaN  0.973165       NaN\n",
       "D       NaN       NaN       NaN  1.042387\n",
       "E       NaN  0.136120       NaN  0.050980"
      ]
     },
     "execution_count": 25,
     "metadata": {},
     "output_type": "execute_result"
    }
   ],
   "source": [
    "df[df>0]"
   ]
  },
  {
   "cell_type": "code",
   "execution_count": 26,
   "metadata": {
    "colab": {
     "base_uri": "https://localhost:8080/",
     "height": 106
    },
    "colab_type": "code",
    "executionInfo": {
     "elapsed": 1162,
     "status": "ok",
     "timestamp": 1559977827625,
     "user": {
      "displayName": "Atin Gupta",
      "photoUrl": "https://lh4.googleusercontent.com/-VN-JLkSccdk/AAAAAAAAAAI/AAAAAAAAH3Q/XCDSdNuOjB0/s64/photo.jpg",
      "userId": "01235820350389977490"
     },
     "user_tz": -330
    },
    "id": "l5wmszshDWwM",
    "outputId": "23364d1f-e423-47e8-ced9-cf1ac8342512"
   },
   "outputs": [
    {
     "data": {
      "text/html": [
       "<div>\n",
       "<style scoped>\n",
       "    .dataframe tbody tr th:only-of-type {\n",
       "        vertical-align: middle;\n",
       "    }\n",
       "\n",
       "    .dataframe tbody tr th {\n",
       "        vertical-align: top;\n",
       "    }\n",
       "\n",
       "    .dataframe thead th {\n",
       "        text-align: right;\n",
       "    }\n",
       "</style>\n",
       "<table border=\"1\" class=\"dataframe\">\n",
       "  <thead>\n",
       "    <tr style=\"text-align: right;\">\n",
       "      <th></th>\n",
       "      <th>W</th>\n",
       "      <th>X</th>\n",
       "      <th>Y</th>\n",
       "      <th>Z</th>\n",
       "    </tr>\n",
       "  </thead>\n",
       "  <tbody>\n",
       "    <tr>\n",
       "      <th>A</th>\n",
       "      <td>1.668068</td>\n",
       "      <td>0.925862</td>\n",
       "      <td>1.057997</td>\n",
       "      <td>-0.920339</td>\n",
       "    </tr>\n",
       "    <tr>\n",
       "      <th>C</th>\n",
       "      <td>-0.130016</td>\n",
       "      <td>-2.238203</td>\n",
       "      <td>0.973165</td>\n",
       "      <td>-0.024185</td>\n",
       "    </tr>\n",
       "  </tbody>\n",
       "</table>\n",
       "</div>"
      ],
      "text/plain": [
       "          W         X         Y         Z\n",
       "A  1.668068  0.925862  1.057997 -0.920339\n",
       "C -0.130016 -2.238203  0.973165 -0.024185"
      ]
     },
     "execution_count": 26,
     "metadata": {},
     "output_type": "execute_result"
    }
   ],
   "source": [
    "df[df['Y']>0]"
   ]
  },
  {
   "cell_type": "code",
   "execution_count": 27,
   "metadata": {
    "colab": {
     "base_uri": "https://localhost:8080/",
     "height": 68
    },
    "colab_type": "code",
    "executionInfo": {
     "elapsed": 1335,
     "status": "ok",
     "timestamp": 1551794895466,
     "user": {
      "displayName": "Atin Gupta",
      "photoUrl": "https://lh4.googleusercontent.com/-VN-JLkSccdk/AAAAAAAAAAI/AAAAAAAAH3Q/XCDSdNuOjB0/s64/photo.jpg",
      "userId": "01235820350389977490"
     },
     "user_tz": -330
    },
    "id": "koASHLGXDWwT",
    "outputId": "f516f1ba-1b54-42c6-bc1c-aea21eb9cc9a"
   },
   "outputs": [
    {
     "data": {
      "text/plain": [
       "A    1.057997\n",
       "B   -0.509845\n",
       "Name: Y, dtype: float64"
      ]
     },
     "execution_count": 27,
     "metadata": {},
     "output_type": "execute_result"
    }
   ],
   "source": [
    "df[df['W']>0]['Y']"
   ]
  },
  {
   "cell_type": "code",
   "execution_count": 28,
   "metadata": {
    "colab": {
     "base_uri": "https://localhost:8080/",
     "height": 111
    },
    "colab_type": "code",
    "executionInfo": {
     "elapsed": 1109,
     "status": "ok",
     "timestamp": 1551794910190,
     "user": {
      "displayName": "Atin Gupta",
      "photoUrl": "https://lh4.googleusercontent.com/-VN-JLkSccdk/AAAAAAAAAAI/AAAAAAAAH3Q/XCDSdNuOjB0/s64/photo.jpg",
      "userId": "01235820350389977490"
     },
     "user_tz": -330
    },
    "id": "m8YKKrxaDWwj",
    "outputId": "cc01ff6f-a7e3-4f1a-9e9a-1aca16cd89ab"
   },
   "outputs": [
    {
     "data": {
      "text/html": [
       "<div>\n",
       "<style scoped>\n",
       "    .dataframe tbody tr th:only-of-type {\n",
       "        vertical-align: middle;\n",
       "    }\n",
       "\n",
       "    .dataframe tbody tr th {\n",
       "        vertical-align: top;\n",
       "    }\n",
       "\n",
       "    .dataframe thead th {\n",
       "        text-align: right;\n",
       "    }\n",
       "</style>\n",
       "<table border=\"1\" class=\"dataframe\">\n",
       "  <thead>\n",
       "    <tr style=\"text-align: right;\">\n",
       "      <th></th>\n",
       "      <th>Y</th>\n",
       "      <th>X</th>\n",
       "    </tr>\n",
       "  </thead>\n",
       "  <tbody>\n",
       "    <tr>\n",
       "      <th>A</th>\n",
       "      <td>1.057997</td>\n",
       "      <td>0.925862</td>\n",
       "    </tr>\n",
       "    <tr>\n",
       "      <th>B</th>\n",
       "      <td>-0.509845</td>\n",
       "      <td>0.331183</td>\n",
       "    </tr>\n",
       "  </tbody>\n",
       "</table>\n",
       "</div>"
      ],
      "text/plain": [
       "          Y         X\n",
       "A  1.057997  0.925862\n",
       "B -0.509845  0.331183"
      ]
     },
     "execution_count": 28,
     "metadata": {},
     "output_type": "execute_result"
    }
   ],
   "source": [
    "df[df['W']>0][['Y','X']]"
   ]
  },
  {
   "cell_type": "markdown",
   "metadata": {
    "colab_type": "text",
    "id": "rY7W24H9DWwx"
   },
   "source": [
    "For two conditions you can use | and & with parenthesis:"
   ]
  },
  {
   "cell_type": "code",
   "execution_count": 29,
   "metadata": {
    "colab": {},
    "colab_type": "code",
    "id": "fJ4I9ReVDWwy",
    "outputId": "6bef4e17-269e-4a7f-9191-b45139f01140"
   },
   "outputs": [
    {
     "data": {
      "text/html": [
       "<div>\n",
       "<style scoped>\n",
       "    .dataframe tbody tr th:only-of-type {\n",
       "        vertical-align: middle;\n",
       "    }\n",
       "\n",
       "    .dataframe tbody tr th {\n",
       "        vertical-align: top;\n",
       "    }\n",
       "\n",
       "    .dataframe thead th {\n",
       "        text-align: right;\n",
       "    }\n",
       "</style>\n",
       "<table border=\"1\" class=\"dataframe\">\n",
       "  <thead>\n",
       "    <tr style=\"text-align: right;\">\n",
       "      <th></th>\n",
       "      <th>W</th>\n",
       "      <th>X</th>\n",
       "      <th>Y</th>\n",
       "      <th>Z</th>\n",
       "    </tr>\n",
       "  </thead>\n",
       "  <tbody>\n",
       "    <tr>\n",
       "      <th>A</th>\n",
       "      <td>1.668068</td>\n",
       "      <td>0.925862</td>\n",
       "      <td>1.057997</td>\n",
       "      <td>-0.920339</td>\n",
       "    </tr>\n",
       "  </tbody>\n",
       "</table>\n",
       "</div>"
      ],
      "text/plain": [
       "          W         X         Y         Z\n",
       "A  1.668068  0.925862  1.057997 -0.920339"
      ]
     },
     "execution_count": 29,
     "metadata": {},
     "output_type": "execute_result"
    }
   ],
   "source": [
    "df[(df['W']>0) & (df['Y'] > 1)]"
   ]
  },
  {
   "cell_type": "markdown",
   "metadata": {
    "colab_type": "text",
    "id": "uzE84ZtyDWw6"
   },
   "source": [
    "## More Index Details\n",
    "\n",
    "Let's discuss some more features of indexing, including resetting the index or setting it something else. We'll also talk about index hierarchy!"
   ]
  },
  {
   "cell_type": "code",
   "execution_count": 30,
   "metadata": {
    "colab": {
     "base_uri": "https://localhost:8080/",
     "height": 195
    },
    "colab_type": "code",
    "executionInfo": {
     "elapsed": 1277,
     "status": "ok",
     "timestamp": 1559978258139,
     "user": {
      "displayName": "Atin Gupta",
      "photoUrl": "https://lh4.googleusercontent.com/-VN-JLkSccdk/AAAAAAAAAAI/AAAAAAAAH3Q/XCDSdNuOjB0/s64/photo.jpg",
      "userId": "01235820350389977490"
     },
     "user_tz": -330
    },
    "id": "yhzIJVsUDWw7",
    "outputId": "21c6fda6-a816-414d-c593-df61b0d0c9ba"
   },
   "outputs": [
    {
     "data": {
      "text/html": [
       "<div>\n",
       "<style scoped>\n",
       "    .dataframe tbody tr th:only-of-type {\n",
       "        vertical-align: middle;\n",
       "    }\n",
       "\n",
       "    .dataframe tbody tr th {\n",
       "        vertical-align: top;\n",
       "    }\n",
       "\n",
       "    .dataframe thead th {\n",
       "        text-align: right;\n",
       "    }\n",
       "</style>\n",
       "<table border=\"1\" class=\"dataframe\">\n",
       "  <thead>\n",
       "    <tr style=\"text-align: right;\">\n",
       "      <th></th>\n",
       "      <th>W</th>\n",
       "      <th>X</th>\n",
       "      <th>Y</th>\n",
       "      <th>Z</th>\n",
       "    </tr>\n",
       "  </thead>\n",
       "  <tbody>\n",
       "    <tr>\n",
       "      <th>A</th>\n",
       "      <td>1.668068</td>\n",
       "      <td>0.925862</td>\n",
       "      <td>1.057997</td>\n",
       "      <td>-0.920339</td>\n",
       "    </tr>\n",
       "    <tr>\n",
       "      <th>B</th>\n",
       "      <td>1.299748</td>\n",
       "      <td>0.331183</td>\n",
       "      <td>-0.509845</td>\n",
       "      <td>-0.903099</td>\n",
       "    </tr>\n",
       "    <tr>\n",
       "      <th>C</th>\n",
       "      <td>-0.130016</td>\n",
       "      <td>-2.238203</td>\n",
       "      <td>0.973165</td>\n",
       "      <td>-0.024185</td>\n",
       "    </tr>\n",
       "    <tr>\n",
       "      <th>D</th>\n",
       "      <td>-0.484928</td>\n",
       "      <td>-1.109264</td>\n",
       "      <td>-0.558975</td>\n",
       "      <td>1.042387</td>\n",
       "    </tr>\n",
       "    <tr>\n",
       "      <th>E</th>\n",
       "      <td>-1.712263</td>\n",
       "      <td>0.136120</td>\n",
       "      <td>-0.464444</td>\n",
       "      <td>0.050980</td>\n",
       "    </tr>\n",
       "  </tbody>\n",
       "</table>\n",
       "</div>"
      ],
      "text/plain": [
       "          W         X         Y         Z\n",
       "A  1.668068  0.925862  1.057997 -0.920339\n",
       "B  1.299748  0.331183 -0.509845 -0.903099\n",
       "C -0.130016 -2.238203  0.973165 -0.024185\n",
       "D -0.484928 -1.109264 -0.558975  1.042387\n",
       "E -1.712263  0.136120 -0.464444  0.050980"
      ]
     },
     "execution_count": 30,
     "metadata": {},
     "output_type": "execute_result"
    }
   ],
   "source": [
    "df"
   ]
  },
  {
   "cell_type": "code",
   "execution_count": 31,
   "metadata": {
    "colab": {
     "base_uri": "https://localhost:8080/",
     "height": 195
    },
    "colab_type": "code",
    "executionInfo": {
     "elapsed": 1122,
     "status": "ok",
     "timestamp": 1559978273283,
     "user": {
      "displayName": "Atin Gupta",
      "photoUrl": "https://lh4.googleusercontent.com/-VN-JLkSccdk/AAAAAAAAAAI/AAAAAAAAH3Q/XCDSdNuOjB0/s64/photo.jpg",
      "userId": "01235820350389977490"
     },
     "user_tz": -330
    },
    "id": "Cnff9t5qDWxF",
    "outputId": "ba93a835-e656-47ec-e06d-0a94a75ca08c"
   },
   "outputs": [
    {
     "data": {
      "text/html": [
       "<div>\n",
       "<style scoped>\n",
       "    .dataframe tbody tr th:only-of-type {\n",
       "        vertical-align: middle;\n",
       "    }\n",
       "\n",
       "    .dataframe tbody tr th {\n",
       "        vertical-align: top;\n",
       "    }\n",
       "\n",
       "    .dataframe thead th {\n",
       "        text-align: right;\n",
       "    }\n",
       "</style>\n",
       "<table border=\"1\" class=\"dataframe\">\n",
       "  <thead>\n",
       "    <tr style=\"text-align: right;\">\n",
       "      <th></th>\n",
       "      <th>index</th>\n",
       "      <th>W</th>\n",
       "      <th>X</th>\n",
       "      <th>Y</th>\n",
       "      <th>Z</th>\n",
       "    </tr>\n",
       "  </thead>\n",
       "  <tbody>\n",
       "    <tr>\n",
       "      <th>0</th>\n",
       "      <td>A</td>\n",
       "      <td>1.668068</td>\n",
       "      <td>0.925862</td>\n",
       "      <td>1.057997</td>\n",
       "      <td>-0.920339</td>\n",
       "    </tr>\n",
       "    <tr>\n",
       "      <th>1</th>\n",
       "      <td>B</td>\n",
       "      <td>1.299748</td>\n",
       "      <td>0.331183</td>\n",
       "      <td>-0.509845</td>\n",
       "      <td>-0.903099</td>\n",
       "    </tr>\n",
       "    <tr>\n",
       "      <th>2</th>\n",
       "      <td>C</td>\n",
       "      <td>-0.130016</td>\n",
       "      <td>-2.238203</td>\n",
       "      <td>0.973165</td>\n",
       "      <td>-0.024185</td>\n",
       "    </tr>\n",
       "    <tr>\n",
       "      <th>3</th>\n",
       "      <td>D</td>\n",
       "      <td>-0.484928</td>\n",
       "      <td>-1.109264</td>\n",
       "      <td>-0.558975</td>\n",
       "      <td>1.042387</td>\n",
       "    </tr>\n",
       "    <tr>\n",
       "      <th>4</th>\n",
       "      <td>E</td>\n",
       "      <td>-1.712263</td>\n",
       "      <td>0.136120</td>\n",
       "      <td>-0.464444</td>\n",
       "      <td>0.050980</td>\n",
       "    </tr>\n",
       "  </tbody>\n",
       "</table>\n",
       "</div>"
      ],
      "text/plain": [
       "  index         W         X         Y         Z\n",
       "0     A  1.668068  0.925862  1.057997 -0.920339\n",
       "1     B  1.299748  0.331183 -0.509845 -0.903099\n",
       "2     C -0.130016 -2.238203  0.973165 -0.024185\n",
       "3     D -0.484928 -1.109264 -0.558975  1.042387\n",
       "4     E -1.712263  0.136120 -0.464444  0.050980"
      ]
     },
     "execution_count": 31,
     "metadata": {},
     "output_type": "execute_result"
    }
   ],
   "source": [
    "# Reset to default 0,1...n index\n",
    "df.reset_index()"
   ]
  },
  {
   "cell_type": "code",
   "execution_count": 38,
   "metadata": {
    "colab": {},
    "colab_type": "code",
    "id": "LLRRLktsDWxP"
   },
   "outputs": [],
   "source": [
    "newind = 'CA,NY,WY,OR,CO'.split(',')"
   ]
  },
  {
   "cell_type": "code",
   "execution_count": 39,
   "metadata": {
    "colab": {
     "base_uri": "https://localhost:8080/",
     "height": 34
    },
    "colab_type": "code",
    "executionInfo": {
     "elapsed": 1184,
     "status": "ok",
     "timestamp": 1559978507422,
     "user": {
      "displayName": "Atin Gupta",
      "photoUrl": "https://lh4.googleusercontent.com/-VN-JLkSccdk/AAAAAAAAAAI/AAAAAAAAH3Q/XCDSdNuOjB0/s64/photo.jpg",
      "userId": "01235820350389977490"
     },
     "user_tz": -330
    },
    "id": "T9zaDFGk9IfK",
    "outputId": "d6b533f5-ab5b-4f72-d7b1-174559d15bd7"
   },
   "outputs": [
    {
     "data": {
      "text/plain": [
       "['CA', 'NY', 'WY', 'OR', 'CO']"
      ]
     },
     "execution_count": 39,
     "metadata": {},
     "output_type": "execute_result"
    }
   ],
   "source": [
    "newind"
   ]
  },
  {
   "cell_type": "code",
   "execution_count": 40,
   "metadata": {
    "colab": {},
    "colab_type": "code",
    "id": "jdY3tl8mDWxZ"
   },
   "outputs": [],
   "source": [
    "df['States'] = newind"
   ]
  },
  {
   "cell_type": "code",
   "execution_count": 41,
   "metadata": {
    "colab": {
     "base_uri": "https://localhost:8080/",
     "height": 195
    },
    "colab_type": "code",
    "executionInfo": {
     "elapsed": 1179,
     "status": "ok",
     "timestamp": 1559978669936,
     "user": {
      "displayName": "Atin Gupta",
      "photoUrl": "https://lh4.googleusercontent.com/-VN-JLkSccdk/AAAAAAAAAAI/AAAAAAAAH3Q/XCDSdNuOjB0/s64/photo.jpg",
      "userId": "01235820350389977490"
     },
     "user_tz": -330
    },
    "id": "j4gkyHbyDWxe",
    "outputId": "18355d9a-8f50-4b9c-9ced-be95caad0722"
   },
   "outputs": [
    {
     "data": {
      "text/html": [
       "<div>\n",
       "<style scoped>\n",
       "    .dataframe tbody tr th:only-of-type {\n",
       "        vertical-align: middle;\n",
       "    }\n",
       "\n",
       "    .dataframe tbody tr th {\n",
       "        vertical-align: top;\n",
       "    }\n",
       "\n",
       "    .dataframe thead th {\n",
       "        text-align: right;\n",
       "    }\n",
       "</style>\n",
       "<table border=\"1\" class=\"dataframe\">\n",
       "  <thead>\n",
       "    <tr style=\"text-align: right;\">\n",
       "      <th></th>\n",
       "      <th>W</th>\n",
       "      <th>X</th>\n",
       "      <th>Y</th>\n",
       "      <th>Z</th>\n",
       "      <th>States</th>\n",
       "    </tr>\n",
       "  </thead>\n",
       "  <tbody>\n",
       "    <tr>\n",
       "      <th>A</th>\n",
       "      <td>1.668068</td>\n",
       "      <td>0.925862</td>\n",
       "      <td>1.057997</td>\n",
       "      <td>-0.920339</td>\n",
       "      <td>CA</td>\n",
       "    </tr>\n",
       "    <tr>\n",
       "      <th>B</th>\n",
       "      <td>1.299748</td>\n",
       "      <td>0.331183</td>\n",
       "      <td>-0.509845</td>\n",
       "      <td>-0.903099</td>\n",
       "      <td>NY</td>\n",
       "    </tr>\n",
       "    <tr>\n",
       "      <th>C</th>\n",
       "      <td>-0.130016</td>\n",
       "      <td>-2.238203</td>\n",
       "      <td>0.973165</td>\n",
       "      <td>-0.024185</td>\n",
       "      <td>WY</td>\n",
       "    </tr>\n",
       "    <tr>\n",
       "      <th>D</th>\n",
       "      <td>-0.484928</td>\n",
       "      <td>-1.109264</td>\n",
       "      <td>-0.558975</td>\n",
       "      <td>1.042387</td>\n",
       "      <td>OR</td>\n",
       "    </tr>\n",
       "    <tr>\n",
       "      <th>E</th>\n",
       "      <td>-1.712263</td>\n",
       "      <td>0.136120</td>\n",
       "      <td>-0.464444</td>\n",
       "      <td>0.050980</td>\n",
       "      <td>CO</td>\n",
       "    </tr>\n",
       "  </tbody>\n",
       "</table>\n",
       "</div>"
      ],
      "text/plain": [
       "          W         X         Y         Z States\n",
       "A  1.668068  0.925862  1.057997 -0.920339     CA\n",
       "B  1.299748  0.331183 -0.509845 -0.903099     NY\n",
       "C -0.130016 -2.238203  0.973165 -0.024185     WY\n",
       "D -0.484928 -1.109264 -0.558975  1.042387     OR\n",
       "E -1.712263  0.136120 -0.464444  0.050980     CO"
      ]
     },
     "execution_count": 41,
     "metadata": {},
     "output_type": "execute_result"
    }
   ],
   "source": [
    "df"
   ]
  },
  {
   "cell_type": "code",
   "execution_count": 42,
   "metadata": {
    "colab": {
     "base_uri": "https://localhost:8080/",
     "height": 225
    },
    "colab_type": "code",
    "executionInfo": {
     "elapsed": 1204,
     "status": "ok",
     "timestamp": 1559978672486,
     "user": {
      "displayName": "Atin Gupta",
      "photoUrl": "https://lh4.googleusercontent.com/-VN-JLkSccdk/AAAAAAAAAAI/AAAAAAAAH3Q/XCDSdNuOjB0/s64/photo.jpg",
      "userId": "01235820350389977490"
     },
     "user_tz": -330
    },
    "id": "7tRXPi8bDWxk",
    "outputId": "5561dcb2-94ee-4be7-a17b-8875057217f9"
   },
   "outputs": [
    {
     "data": {
      "text/html": [
       "<div>\n",
       "<style scoped>\n",
       "    .dataframe tbody tr th:only-of-type {\n",
       "        vertical-align: middle;\n",
       "    }\n",
       "\n",
       "    .dataframe tbody tr th {\n",
       "        vertical-align: top;\n",
       "    }\n",
       "\n",
       "    .dataframe thead th {\n",
       "        text-align: right;\n",
       "    }\n",
       "</style>\n",
       "<table border=\"1\" class=\"dataframe\">\n",
       "  <thead>\n",
       "    <tr style=\"text-align: right;\">\n",
       "      <th></th>\n",
       "      <th>W</th>\n",
       "      <th>X</th>\n",
       "      <th>Y</th>\n",
       "      <th>Z</th>\n",
       "    </tr>\n",
       "    <tr>\n",
       "      <th>States</th>\n",
       "      <th></th>\n",
       "      <th></th>\n",
       "      <th></th>\n",
       "      <th></th>\n",
       "    </tr>\n",
       "  </thead>\n",
       "  <tbody>\n",
       "    <tr>\n",
       "      <th>CA</th>\n",
       "      <td>1.668068</td>\n",
       "      <td>0.925862</td>\n",
       "      <td>1.057997</td>\n",
       "      <td>-0.920339</td>\n",
       "    </tr>\n",
       "    <tr>\n",
       "      <th>NY</th>\n",
       "      <td>1.299748</td>\n",
       "      <td>0.331183</td>\n",
       "      <td>-0.509845</td>\n",
       "      <td>-0.903099</td>\n",
       "    </tr>\n",
       "    <tr>\n",
       "      <th>WY</th>\n",
       "      <td>-0.130016</td>\n",
       "      <td>-2.238203</td>\n",
       "      <td>0.973165</td>\n",
       "      <td>-0.024185</td>\n",
       "    </tr>\n",
       "    <tr>\n",
       "      <th>OR</th>\n",
       "      <td>-0.484928</td>\n",
       "      <td>-1.109264</td>\n",
       "      <td>-0.558975</td>\n",
       "      <td>1.042387</td>\n",
       "    </tr>\n",
       "    <tr>\n",
       "      <th>CO</th>\n",
       "      <td>-1.712263</td>\n",
       "      <td>0.136120</td>\n",
       "      <td>-0.464444</td>\n",
       "      <td>0.050980</td>\n",
       "    </tr>\n",
       "  </tbody>\n",
       "</table>\n",
       "</div>"
      ],
      "text/plain": [
       "               W         X         Y         Z\n",
       "States                                        \n",
       "CA      1.668068  0.925862  1.057997 -0.920339\n",
       "NY      1.299748  0.331183 -0.509845 -0.903099\n",
       "WY     -0.130016 -2.238203  0.973165 -0.024185\n",
       "OR     -0.484928 -1.109264 -0.558975  1.042387\n",
       "CO     -1.712263  0.136120 -0.464444  0.050980"
      ]
     },
     "execution_count": 42,
     "metadata": {},
     "output_type": "execute_result"
    }
   ],
   "source": [
    "df.set_index('States')"
   ]
  },
  {
   "cell_type": "code",
   "execution_count": 46,
   "metadata": {
    "colab": {
     "base_uri": "https://localhost:8080/",
     "height": 303
    },
    "colab_type": "code",
    "executionInfo": {
     "elapsed": 1213,
     "status": "error",
     "timestamp": 1559978927355,
     "user": {
      "displayName": "Atin Gupta",
      "photoUrl": "https://lh4.googleusercontent.com/-VN-JLkSccdk/AAAAAAAAAAI/AAAAAAAAH3Q/XCDSdNuOjB0/s64/photo.jpg",
      "userId": "01235820350389977490"
     },
     "user_tz": -330
    },
    "id": "rxBiefPDDWxq",
    "outputId": "0069e529-1b05-40e4-81cb-e48b274a1ad9"
   },
   "outputs": [
    {
     "data": {
      "text/html": [
       "<div>\n",
       "<style scoped>\n",
       "    .dataframe tbody tr th:only-of-type {\n",
       "        vertical-align: middle;\n",
       "    }\n",
       "\n",
       "    .dataframe tbody tr th {\n",
       "        vertical-align: top;\n",
       "    }\n",
       "\n",
       "    .dataframe thead th {\n",
       "        text-align: right;\n",
       "    }\n",
       "</style>\n",
       "<table border=\"1\" class=\"dataframe\">\n",
       "  <thead>\n",
       "    <tr style=\"text-align: right;\">\n",
       "      <th></th>\n",
       "      <th>W</th>\n",
       "      <th>X</th>\n",
       "      <th>Y</th>\n",
       "      <th>Z</th>\n",
       "      <th>States</th>\n",
       "    </tr>\n",
       "  </thead>\n",
       "  <tbody>\n",
       "    <tr>\n",
       "      <th>A</th>\n",
       "      <td>1.668068</td>\n",
       "      <td>0.925862</td>\n",
       "      <td>1.057997</td>\n",
       "      <td>-0.920339</td>\n",
       "      <td>CA</td>\n",
       "    </tr>\n",
       "    <tr>\n",
       "      <th>B</th>\n",
       "      <td>1.299748</td>\n",
       "      <td>0.331183</td>\n",
       "      <td>-0.509845</td>\n",
       "      <td>-0.903099</td>\n",
       "      <td>NY</td>\n",
       "    </tr>\n",
       "    <tr>\n",
       "      <th>C</th>\n",
       "      <td>-0.130016</td>\n",
       "      <td>-2.238203</td>\n",
       "      <td>0.973165</td>\n",
       "      <td>-0.024185</td>\n",
       "      <td>WY</td>\n",
       "    </tr>\n",
       "    <tr>\n",
       "      <th>D</th>\n",
       "      <td>-0.484928</td>\n",
       "      <td>-1.109264</td>\n",
       "      <td>-0.558975</td>\n",
       "      <td>1.042387</td>\n",
       "      <td>OR</td>\n",
       "    </tr>\n",
       "    <tr>\n",
       "      <th>E</th>\n",
       "      <td>-1.712263</td>\n",
       "      <td>0.136120</td>\n",
       "      <td>-0.464444</td>\n",
       "      <td>0.050980</td>\n",
       "      <td>CO</td>\n",
       "    </tr>\n",
       "  </tbody>\n",
       "</table>\n",
       "</div>"
      ],
      "text/plain": [
       "          W         X         Y         Z States\n",
       "A  1.668068  0.925862  1.057997 -0.920339     CA\n",
       "B  1.299748  0.331183 -0.509845 -0.903099     NY\n",
       "C -0.130016 -2.238203  0.973165 -0.024185     WY\n",
       "D -0.484928 -1.109264 -0.558975  1.042387     OR\n",
       "E -1.712263  0.136120 -0.464444  0.050980     CO"
      ]
     },
     "execution_count": 46,
     "metadata": {},
     "output_type": "execute_result"
    }
   ],
   "source": [
    "df"
   ]
  },
  {
   "cell_type": "code",
   "execution_count": 47,
   "metadata": {
    "colab": {},
    "colab_type": "code",
    "id": "4DQ7IuZnDWxz"
   },
   "outputs": [],
   "source": [
    "df.set_index('States',inplace=True)"
   ]
  },
  {
   "cell_type": "code",
   "execution_count": 49,
   "metadata": {
    "colab": {
     "base_uri": "https://localhost:8080/",
     "height": 235
    },
    "colab_type": "code",
    "executionInfo": {
     "elapsed": 1787,
     "status": "ok",
     "timestamp": 1551795172018,
     "user": {
      "displayName": "Atin Gupta",
      "photoUrl": "https://lh4.googleusercontent.com/-VN-JLkSccdk/AAAAAAAAAAI/AAAAAAAAH3Q/XCDSdNuOjB0/s64/photo.jpg",
      "userId": "01235820350389977490"
     },
     "user_tz": -330
    },
    "id": "5Gmozli7DWx6",
    "outputId": "682f824c-9e9a-47bd-f78b-bf0607b44e47"
   },
   "outputs": [
    {
     "data": {
      "text/html": [
       "<div>\n",
       "<style scoped>\n",
       "    .dataframe tbody tr th:only-of-type {\n",
       "        vertical-align: middle;\n",
       "    }\n",
       "\n",
       "    .dataframe tbody tr th {\n",
       "        vertical-align: top;\n",
       "    }\n",
       "\n",
       "    .dataframe thead th {\n",
       "        text-align: right;\n",
       "    }\n",
       "</style>\n",
       "<table border=\"1\" class=\"dataframe\">\n",
       "  <thead>\n",
       "    <tr style=\"text-align: right;\">\n",
       "      <th></th>\n",
       "      <th>W</th>\n",
       "      <th>X</th>\n",
       "      <th>Y</th>\n",
       "      <th>Z</th>\n",
       "    </tr>\n",
       "    <tr>\n",
       "      <th>States</th>\n",
       "      <th></th>\n",
       "      <th></th>\n",
       "      <th></th>\n",
       "      <th></th>\n",
       "    </tr>\n",
       "  </thead>\n",
       "  <tbody>\n",
       "    <tr>\n",
       "      <th>CA</th>\n",
       "      <td>1.668068</td>\n",
       "      <td>0.925862</td>\n",
       "      <td>1.057997</td>\n",
       "      <td>-0.920339</td>\n",
       "    </tr>\n",
       "    <tr>\n",
       "      <th>NY</th>\n",
       "      <td>1.299748</td>\n",
       "      <td>0.331183</td>\n",
       "      <td>-0.509845</td>\n",
       "      <td>-0.903099</td>\n",
       "    </tr>\n",
       "    <tr>\n",
       "      <th>WY</th>\n",
       "      <td>-0.130016</td>\n",
       "      <td>-2.238203</td>\n",
       "      <td>0.973165</td>\n",
       "      <td>-0.024185</td>\n",
       "    </tr>\n",
       "    <tr>\n",
       "      <th>OR</th>\n",
       "      <td>-0.484928</td>\n",
       "      <td>-1.109264</td>\n",
       "      <td>-0.558975</td>\n",
       "      <td>1.042387</td>\n",
       "    </tr>\n",
       "    <tr>\n",
       "      <th>CO</th>\n",
       "      <td>-1.712263</td>\n",
       "      <td>0.136120</td>\n",
       "      <td>-0.464444</td>\n",
       "      <td>0.050980</td>\n",
       "    </tr>\n",
       "  </tbody>\n",
       "</table>\n",
       "</div>"
      ],
      "text/plain": [
       "               W         X         Y         Z\n",
       "States                                        \n",
       "CA      1.668068  0.925862  1.057997 -0.920339\n",
       "NY      1.299748  0.331183 -0.509845 -0.903099\n",
       "WY     -0.130016 -2.238203  0.973165 -0.024185\n",
       "OR     -0.484928 -1.109264 -0.558975  1.042387\n",
       "CO     -1.712263  0.136120 -0.464444  0.050980"
      ]
     },
     "execution_count": 49,
     "metadata": {},
     "output_type": "execute_result"
    }
   ],
   "source": [
    "df"
   ]
  },
  {
   "cell_type": "markdown",
   "metadata": {
    "colab_type": "text",
    "id": "hV9RhiNIDWyF"
   },
   "source": [
    "## Multi-Index and Index Hierarchy\n",
    "\n",
    "Let us go over how to work with Multi-Index, first we'll create a quick example of what a Multi-Indexed DataFrame would look like:"
   ]
  },
  {
   "cell_type": "code",
   "execution_count": 61,
   "metadata": {
    "colab": {},
    "colab_type": "code",
    "id": "ulMR3apUDWyF"
   },
   "outputs": [],
   "source": [
    "# Index Levels\n",
    "outside = ['G1','G1','G1','G2','G2','G2']\n",
    "inside = [1,2,3,1,2,3]\n",
    "hier_index = list(zip(outside,inside))"
   ]
  },
  {
   "cell_type": "code",
   "execution_count": 62,
   "metadata": {},
   "outputs": [
    {
     "data": {
      "text/plain": [
       "[('G1', 1), ('G1', 2), ('G1', 3), ('G2', 1), ('G2', 2), ('G2', 3)]"
      ]
     },
     "execution_count": 62,
     "metadata": {},
     "output_type": "execute_result"
    }
   ],
   "source": [
    "hier_index"
   ]
  },
  {
   "cell_type": "code",
   "execution_count": 55,
   "metadata": {},
   "outputs": [],
   "source": [
    "hier_index = pd.MultiIndex.from_tuples(hier_index)"
   ]
  },
  {
   "cell_type": "code",
   "execution_count": 57,
   "metadata": {
    "colab": {
     "base_uri": "https://localhost:8080/",
     "height": 34
    },
    "colab_type": "code",
    "executionInfo": {
     "elapsed": 1459,
     "status": "ok",
     "timestamp": 1559979006961,
     "user": {
      "displayName": "Atin Gupta",
      "photoUrl": "https://lh4.googleusercontent.com/-VN-JLkSccdk/AAAAAAAAAAI/AAAAAAAAH3Q/XCDSdNuOjB0/s64/photo.jpg",
      "userId": "01235820350389977490"
     },
     "user_tz": -330
    },
    "id": "yz0g4hD2DWyL",
    "outputId": "d2c080d5-c87c-4f83-f067-aa0f30bd1f43"
   },
   "outputs": [
    {
     "data": {
      "text/plain": [
       "MultiIndex([('G1', 1),\n",
       "            ('G1', 2),\n",
       "            ('G1', 3),\n",
       "            ('G2', 1),\n",
       "            ('G2', 2),\n",
       "            ('G2', 3)],\n",
       "           )"
      ]
     },
     "execution_count": 57,
     "metadata": {},
     "output_type": "execute_result"
    }
   ],
   "source": [
    "hier_index"
   ]
  },
  {
   "cell_type": "code",
   "execution_count": 58,
   "metadata": {
    "colab": {},
    "colab_type": "code",
    "id": "lAmFw1aPDWyT",
    "outputId": "4014dbe2-b0e0-41e3-935f-0b1fd191aefd"
   },
   "outputs": [
    {
     "data": {
      "text/html": [
       "<div>\n",
       "<style scoped>\n",
       "    .dataframe tbody tr th:only-of-type {\n",
       "        vertical-align: middle;\n",
       "    }\n",
       "\n",
       "    .dataframe tbody tr th {\n",
       "        vertical-align: top;\n",
       "    }\n",
       "\n",
       "    .dataframe thead th {\n",
       "        text-align: right;\n",
       "    }\n",
       "</style>\n",
       "<table border=\"1\" class=\"dataframe\">\n",
       "  <thead>\n",
       "    <tr style=\"text-align: right;\">\n",
       "      <th></th>\n",
       "      <th></th>\n",
       "      <th>A</th>\n",
       "      <th>B</th>\n",
       "    </tr>\n",
       "  </thead>\n",
       "  <tbody>\n",
       "    <tr>\n",
       "      <th rowspan=\"3\" valign=\"top\">G1</th>\n",
       "      <th>1</th>\n",
       "      <td>1.447899</td>\n",
       "      <td>0.593138</td>\n",
       "    </tr>\n",
       "    <tr>\n",
       "      <th>2</th>\n",
       "      <td>-0.755616</td>\n",
       "      <td>-0.627166</td>\n",
       "    </tr>\n",
       "    <tr>\n",
       "      <th>3</th>\n",
       "      <td>0.884035</td>\n",
       "      <td>0.162718</td>\n",
       "    </tr>\n",
       "    <tr>\n",
       "      <th rowspan=\"3\" valign=\"top\">G2</th>\n",
       "      <th>1</th>\n",
       "      <td>-2.502813</td>\n",
       "      <td>0.410791</td>\n",
       "    </tr>\n",
       "    <tr>\n",
       "      <th>2</th>\n",
       "      <td>0.728750</td>\n",
       "      <td>0.029140</td>\n",
       "    </tr>\n",
       "    <tr>\n",
       "      <th>3</th>\n",
       "      <td>-0.291052</td>\n",
       "      <td>0.314293</td>\n",
       "    </tr>\n",
       "  </tbody>\n",
       "</table>\n",
       "</div>"
      ],
      "text/plain": [
       "             A         B\n",
       "G1 1  1.447899  0.593138\n",
       "   2 -0.755616 -0.627166\n",
       "   3  0.884035  0.162718\n",
       "G2 1 -2.502813  0.410791\n",
       "   2  0.728750  0.029140\n",
       "   3 -0.291052  0.314293"
      ]
     },
     "execution_count": 58,
     "metadata": {},
     "output_type": "execute_result"
    }
   ],
   "source": [
    "df = pd.DataFrame(np.random.randn(6,2),index=hier_index,columns=['A','B'])\n",
    "df"
   ]
  },
  {
   "cell_type": "markdown",
   "metadata": {
    "colab_type": "text",
    "id": "4vFH6LBFDWyn"
   },
   "source": [
    "Now let's show how to index this! For index hierarchy we use df.loc[], if this was on the columns axis, you would just use normal bracket notation df[]. Calling one level of the index returns the sub-dataframe:"
   ]
  },
  {
   "cell_type": "code",
   "execution_count": 59,
   "metadata": {
    "colab": {},
    "colab_type": "code",
    "id": "HoV4URylDWyp",
    "outputId": "f52ab1bf-e394-43cb-f7a5-e33bb4f3f122"
   },
   "outputs": [
    {
     "data": {
      "text/html": [
       "<div>\n",
       "<style scoped>\n",
       "    .dataframe tbody tr th:only-of-type {\n",
       "        vertical-align: middle;\n",
       "    }\n",
       "\n",
       "    .dataframe tbody tr th {\n",
       "        vertical-align: top;\n",
       "    }\n",
       "\n",
       "    .dataframe thead th {\n",
       "        text-align: right;\n",
       "    }\n",
       "</style>\n",
       "<table border=\"1\" class=\"dataframe\">\n",
       "  <thead>\n",
       "    <tr style=\"text-align: right;\">\n",
       "      <th></th>\n",
       "      <th>A</th>\n",
       "      <th>B</th>\n",
       "    </tr>\n",
       "  </thead>\n",
       "  <tbody>\n",
       "    <tr>\n",
       "      <th>1</th>\n",
       "      <td>1.447899</td>\n",
       "      <td>0.593138</td>\n",
       "    </tr>\n",
       "    <tr>\n",
       "      <th>2</th>\n",
       "      <td>-0.755616</td>\n",
       "      <td>-0.627166</td>\n",
       "    </tr>\n",
       "    <tr>\n",
       "      <th>3</th>\n",
       "      <td>0.884035</td>\n",
       "      <td>0.162718</td>\n",
       "    </tr>\n",
       "  </tbody>\n",
       "</table>\n",
       "</div>"
      ],
      "text/plain": [
       "          A         B\n",
       "1  1.447899  0.593138\n",
       "2 -0.755616 -0.627166\n",
       "3  0.884035  0.162718"
      ]
     },
     "execution_count": 59,
     "metadata": {},
     "output_type": "execute_result"
    }
   ],
   "source": [
    "df.loc['G1']"
   ]
  },
  {
   "cell_type": "code",
   "execution_count": 60,
   "metadata": {
    "colab": {},
    "colab_type": "code",
    "id": "PiRXTG6BDWyt",
    "outputId": "e9193a4a-73be-4413-caf6-29d28a55fe7c"
   },
   "outputs": [
    {
     "data": {
      "text/plain": [
       "A    1.447899\n",
       "B    0.593138\n",
       "Name: 1, dtype: float64"
      ]
     },
     "execution_count": 60,
     "metadata": {},
     "output_type": "execute_result"
    }
   ],
   "source": [
    "df.loc['G1'].loc[1]"
   ]
  },
  {
   "cell_type": "code",
   "execution_count": 0,
   "metadata": {
    "colab": {},
    "colab_type": "code",
    "id": "gZC2HUVLDWyy",
    "outputId": "25be17d3-97a9-4b44-a038-efba8fa959c8"
   },
   "outputs": [
    {
     "data": {
      "text/plain": [
       "FrozenList([None, None])"
      ]
     },
     "execution_count": 265,
     "metadata": {
      "tags": []
     },
     "output_type": "execute_result"
    }
   ],
   "source": [
    "df.index.names"
   ]
  },
  {
   "cell_type": "code",
   "execution_count": 0,
   "metadata": {
    "colab": {},
    "colab_type": "code",
    "id": "c-s7iVcwDWy4"
   },
   "outputs": [],
   "source": [
    "df.index.names = ['Group','Num']"
   ]
  },
  {
   "cell_type": "code",
   "execution_count": 0,
   "metadata": {
    "colab": {},
    "colab_type": "code",
    "id": "d7WW0pptDWzM",
    "outputId": "27c64c00-f453-41af-854e-aa992adedf71"
   },
   "outputs": [
    {
     "data": {
      "text/html": [
       "<div>\n",
       "<table border=\"1\" class=\"dataframe\">\n",
       "  <thead>\n",
       "    <tr style=\"text-align: right;\">\n",
       "      <th></th>\n",
       "      <th></th>\n",
       "      <th>A</th>\n",
       "      <th>B</th>\n",
       "    </tr>\n",
       "    <tr>\n",
       "      <th>Group</th>\n",
       "      <th>Num</th>\n",
       "      <th></th>\n",
       "      <th></th>\n",
       "    </tr>\n",
       "  </thead>\n",
       "  <tbody>\n",
       "    <tr>\n",
       "      <th rowspan=\"3\" valign=\"top\">G1</th>\n",
       "      <th>1</th>\n",
       "      <td>0.153661</td>\n",
       "      <td>0.167638</td>\n",
       "    </tr>\n",
       "    <tr>\n",
       "      <th>2</th>\n",
       "      <td>-0.765930</td>\n",
       "      <td>0.962299</td>\n",
       "    </tr>\n",
       "    <tr>\n",
       "      <th>3</th>\n",
       "      <td>0.902826</td>\n",
       "      <td>-0.537909</td>\n",
       "    </tr>\n",
       "    <tr>\n",
       "      <th rowspan=\"3\" valign=\"top\">G2</th>\n",
       "      <th>1</th>\n",
       "      <td>-1.549671</td>\n",
       "      <td>0.435253</td>\n",
       "    </tr>\n",
       "    <tr>\n",
       "      <th>2</th>\n",
       "      <td>1.259904</td>\n",
       "      <td>-0.447898</td>\n",
       "    </tr>\n",
       "    <tr>\n",
       "      <th>3</th>\n",
       "      <td>0.266207</td>\n",
       "      <td>0.412580</td>\n",
       "    </tr>\n",
       "  </tbody>\n",
       "</table>\n",
       "</div>"
      ],
      "text/plain": [
       "                  A         B\n",
       "Group Num                    \n",
       "G1    1    0.153661  0.167638\n",
       "      2   -0.765930  0.962299\n",
       "      3    0.902826 -0.537909\n",
       "G2    1   -1.549671  0.435253\n",
       "      2    1.259904 -0.447898\n",
       "      3    0.266207  0.412580"
      ]
     },
     "execution_count": 267,
     "metadata": {
      "tags": []
     },
     "output_type": "execute_result"
    }
   ],
   "source": [
    "df"
   ]
  },
  {
   "cell_type": "code",
   "execution_count": 0,
   "metadata": {
    "colab": {},
    "colab_type": "code",
    "id": "JLu0oOTMDWzR",
    "outputId": "2e83b59b-33da-4d6d-da26-11a015848678"
   },
   "outputs": [
    {
     "data": {
      "text/html": [
       "<div>\n",
       "<table border=\"1\" class=\"dataframe\">\n",
       "  <thead>\n",
       "    <tr style=\"text-align: right;\">\n",
       "      <th></th>\n",
       "      <th>A</th>\n",
       "      <th>B</th>\n",
       "    </tr>\n",
       "    <tr>\n",
       "      <th>Num</th>\n",
       "      <th></th>\n",
       "      <th></th>\n",
       "    </tr>\n",
       "  </thead>\n",
       "  <tbody>\n",
       "    <tr>\n",
       "      <th>1</th>\n",
       "      <td>0.153661</td>\n",
       "      <td>0.167638</td>\n",
       "    </tr>\n",
       "    <tr>\n",
       "      <th>2</th>\n",
       "      <td>-0.765930</td>\n",
       "      <td>0.962299</td>\n",
       "    </tr>\n",
       "    <tr>\n",
       "      <th>3</th>\n",
       "      <td>0.902826</td>\n",
       "      <td>-0.537909</td>\n",
       "    </tr>\n",
       "  </tbody>\n",
       "</table>\n",
       "</div>"
      ],
      "text/plain": [
       "            A         B\n",
       "Num                    \n",
       "1    0.153661  0.167638\n",
       "2   -0.765930  0.962299\n",
       "3    0.902826 -0.537909"
      ]
     },
     "execution_count": 270,
     "metadata": {
      "tags": []
     },
     "output_type": "execute_result"
    }
   ],
   "source": [
    "df.xs('G1')"
   ]
  },
  {
   "cell_type": "code",
   "execution_count": 0,
   "metadata": {
    "colab": {},
    "colab_type": "code",
    "id": "8DTpNGDYDWzb",
    "outputId": "0d086f67-be94-48fe-8fd2-61528171bbd3"
   },
   "outputs": [
    {
     "data": {
      "text/plain": [
       "A    0.153661\n",
       "B    0.167638\n",
       "Name: (G1, 1), dtype: float64"
      ]
     },
     "execution_count": 271,
     "metadata": {
      "tags": []
     },
     "output_type": "execute_result"
    }
   ],
   "source": [
    "df.xs(['G1',1])"
   ]
  },
  {
   "cell_type": "code",
   "execution_count": 0,
   "metadata": {
    "colab": {},
    "colab_type": "code",
    "id": "sXpUVULYDWzl",
    "outputId": "b760765d-edae-4186-fe7b-0c0258d4bddd"
   },
   "outputs": [
    {
     "data": {
      "text/html": [
       "<div>\n",
       "<table border=\"1\" class=\"dataframe\">\n",
       "  <thead>\n",
       "    <tr style=\"text-align: right;\">\n",
       "      <th></th>\n",
       "      <th>A</th>\n",
       "      <th>B</th>\n",
       "    </tr>\n",
       "    <tr>\n",
       "      <th>Group</th>\n",
       "      <th></th>\n",
       "      <th></th>\n",
       "    </tr>\n",
       "  </thead>\n",
       "  <tbody>\n",
       "    <tr>\n",
       "      <th>G1</th>\n",
       "      <td>0.153661</td>\n",
       "      <td>0.167638</td>\n",
       "    </tr>\n",
       "    <tr>\n",
       "      <th>G2</th>\n",
       "      <td>-1.549671</td>\n",
       "      <td>0.435253</td>\n",
       "    </tr>\n",
       "  </tbody>\n",
       "</table>\n",
       "</div>"
      ],
      "text/plain": [
       "              A         B\n",
       "Group                    \n",
       "G1     0.153661  0.167638\n",
       "G2    -1.549671  0.435253"
      ]
     },
     "execution_count": 273,
     "metadata": {
      "tags": []
     },
     "output_type": "execute_result"
    }
   ],
   "source": [
    "df.xs(1,level='Num')"
   ]
  },
  {
   "cell_type": "markdown",
   "metadata": {
    "colab_type": "text",
    "id": "W4PiVjfkDWzp"
   },
   "source": [
    "# Great Job!"
   ]
  },
  {
   "cell_type": "code",
   "execution_count": 0,
   "metadata": {
    "colab": {},
    "colab_type": "code",
    "id": "fOhW7Eyu2rGW"
   },
   "outputs": [],
   "source": []
  }
 ],
 "metadata": {
  "colab": {
   "name": "13-D. DataFrames.ipynb",
   "provenance": [],
   "version": "0.3.2"
  },
  "kernelspec": {
   "display_name": "Python 3",
   "language": "python",
   "name": "python3"
  },
  "language_info": {
   "codemirror_mode": {
    "name": "ipython",
    "version": 3
   },
   "file_extension": ".py",
   "mimetype": "text/x-python",
   "name": "python",
   "nbconvert_exporter": "python",
   "pygments_lexer": "ipython3",
   "version": "3.7.10"
  }
 },
 "nbformat": 4,
 "nbformat_minor": 1
}
