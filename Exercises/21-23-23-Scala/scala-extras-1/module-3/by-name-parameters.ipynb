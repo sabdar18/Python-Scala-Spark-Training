{
 "cells": [
  {
   "cell_type": "markdown",
   "metadata": {},
   "source": [
    "![](../static/scala.jpg)"
   ]
  },
  {
   "cell_type": "markdown",
   "metadata": {},
   "source": [
    "## By Name Parameters\n"
   ]
  },
  {
   "cell_type": "markdown",
   "metadata": {},
   "source": [
    "You may pass a parameter to a function in two ways:\n",
    "* by-value: the expression correspondent to the parameter is evaluated right before the function execution\n",
    "* by-name: the expression correspondent to the parameter is evaluated in each use inside the function\n",
    "\n",
    "Especification:\n",
    "* by-value parameter: x: Int\n",
    "* by-name parameter: x: => Int"
   ]
  },
  {
   "cell_type": "code",
   "execution_count": 6,
   "metadata": {
    "collapsed": true
   },
   "outputs": [],
   "source": [
    "def currentTime(): Long = System.nanoTime"
   ]
  },
  {
   "cell_type": "code",
   "execution_count": 10,
   "metadata": {},
   "outputs": [
    {
     "name": "stdout",
     "output_type": "stream",
     "text": [
      "time is 132701315609958\n",
      "time is 132701315609958\n"
     ]
    }
   ],
   "source": [
    "// by-value parameters\n",
    "def byValueFn(time: Long) {\n",
    "  println(s\"time is $time\")\n",
    "  (1 to 100000).foreach(x => x+1)\n",
    "  println(s\"time is $time\")\n",
    "}\n",
    "\n",
    "byValueFn(currentTime())"
   ]
  },
  {
   "cell_type": "code",
   "execution_count": 11,
   "metadata": {},
   "outputs": [
    {
     "name": "stdout",
     "output_type": "stream",
     "text": [
      "time is 132796973706072\n",
      "time is 132796978203039\n"
     ]
    }
   ],
   "source": [
    "// by-name parameters\n",
    "def byNameFn(time: => Long) {\n",
    "  println(s\"time is $time\")\n",
    "  (1 to 100000).foreach(x => x+1)\n",
    "  println(s\"time is $time\")\n",
    "}\n",
    "\n",
    "byNameFn(currentTime())"
   ]
  }
 ],
 "metadata": {
  "kernelspec": {
   "display_name": "spylon-kernel",
   "language": "scala",
   "name": "spylon-kernel"
  },
  "language_info": {
   "codemirror_mode": "text/x-scala",
   "file_extension": ".scala",
   "help_links": [
    {
     "text": "MetaKernel Magics",
     "url": "https://metakernel.readthedocs.io/en/latest/source/README.html"
    }
   ],
   "mimetype": "text/x-scala",
   "name": "scala",
   "pygments_lexer": "scala",
   "version": "0.4.1"
  }
 },
 "nbformat": 4,
 "nbformat_minor": 2
}
