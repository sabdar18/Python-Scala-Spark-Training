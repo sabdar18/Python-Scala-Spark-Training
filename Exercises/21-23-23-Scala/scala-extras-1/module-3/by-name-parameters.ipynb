{
 "cells": [
  {
   "cell_type": "markdown",
   "metadata": {},
   "source": [
    "![](../static/scala.jpg)"
   ]
  },
  {
   "cell_type": "markdown",
   "metadata": {},
   "source": [
    "## By Name Parameters\n"
   ]
  },
  {
   "cell_type": "markdown",
   "metadata": {},
   "source": [
    "You may pass a parameter to a function in two ways:\n",
    "* by-value: the expression correspondent to the parameter is evaluated right before the function execution\n",
    "* by-name: the expression correspondent to the parameter is evaluated in each use inside the function\n",
    "\n",
    "Especification:\n",
    "* by-value parameter: x: Int\n",
    "* by-name parameter: x: => Int"
   ]
  },
  {
   "cell_type": "code",
   "execution_count": 2,
   "metadata": {},
   "outputs": [
    {
     "data": {
      "text/plain": [
       "currentTime: ()Long\n"
      ]
     },
     "execution_count": 2,
     "metadata": {},
     "output_type": "execute_result"
    }
   ],
   "source": [
    "def currentTime(): Long = System.nanoTime"
   ]
  },
  {
   "cell_type": "code",
   "execution_count": 3,
   "metadata": {},
   "outputs": [
    {
     "data": {
      "text/plain": [
       "res0: Long = 37924330181293\n"
      ]
     },
     "execution_count": 3,
     "metadata": {},
     "output_type": "execute_result"
    }
   ],
   "source": [
    "currentTime"
   ]
  },
  {
   "cell_type": "code",
   "execution_count": 7,
   "metadata": {},
   "outputs": [
    {
     "name": "stdout",
     "output_type": "stream",
     "text": [
      "time is 38079049024388\n",
      "time is 38079049024388\n"
     ]
    },
    {
     "data": {
      "text/plain": [
       "byValueFn: (time: Long)Unit\n"
      ]
     },
     "execution_count": 7,
     "metadata": {},
     "output_type": "execute_result"
    }
   ],
   "source": [
    "// by-value parameters\n",
    "def byValueFn(time: Long) {\n",
    "  println(s\"time is $time\")\n",
    "  \n",
    "  (1 to 100000).foreach(x => x+1)\n",
    "    \n",
    "  println(s\"time is $time\")\n",
    "}\n",
    "\n",
    "byValueFn(currentTime())"
   ]
  },
  {
   "cell_type": "code",
   "execution_count": 13,
   "metadata": {},
   "outputs": [
    {
     "name": "stdout",
     "output_type": "stream",
     "text": [
      "time is 38251156395532\n",
      "time is 38251161868896\n"
     ]
    },
    {
     "data": {
      "text/plain": [
       "byNameFn: (time: => Long)Unit\n",
       "ct: Long = 38251155963327\n"
      ]
     },
     "execution_count": 13,
     "metadata": {},
     "output_type": "execute_result"
    }
   ],
   "source": [
    "// by-name parameters\n",
    "def byNameFn(time: => Long) {\n",
    "  println(s\"time is $time\")\n",
    "    \n",
    "  (1 to 100000).foreach(x => x+1)\n",
    "\n",
    "  println(s\"time is $time\")\n",
    "}\n",
    "\n",
    "var ct = currentTime\n",
    "byNameFn(currentTime)"
   ]
  },
  {
   "cell_type": "code",
   "execution_count": null,
   "metadata": {},
   "outputs": [],
   "source": []
  }
 ],
 "metadata": {
  "kernelspec": {
   "display_name": "spylon-kernel",
   "language": "scala",
   "name": "spylon-kernel"
  },
  "language_info": {
   "codemirror_mode": "text/x-scala",
   "file_extension": ".scala",
   "help_links": [
    {
     "text": "MetaKernel Magics",
     "url": "https://metakernel.readthedocs.io/en/latest/source/README.html"
    }
   ],
   "mimetype": "text/x-scala",
   "name": "scala",
   "pygments_lexer": "scala",
   "version": "0.4.1"
  }
 },
 "nbformat": 4,
 "nbformat_minor": 2
}
