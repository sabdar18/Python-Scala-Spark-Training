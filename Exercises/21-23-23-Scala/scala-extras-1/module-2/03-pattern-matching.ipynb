{
 "cells": [
  {
   "cell_type": "markdown",
   "metadata": {},
   "source": [
    "![](../static/scala.jpg)"
   ]
  },
  {
   "cell_type": "markdown",
   "metadata": {},
   "source": [
    "## Pattern Matching"
   ]
  },
  {
   "cell_type": "code",
   "execution_count": 1,
   "metadata": {},
   "outputs": [
    {
     "data": {
      "text/plain": [
       "Intitializing Scala interpreter ..."
      ]
     },
     "metadata": {},
     "output_type": "display_data"
    },
    {
     "data": {
      "text/plain": [
       "Spark Web UI available at http://bae5ef2081fd:4054\n",
       "SparkContext available as 'sc' (version = 3.0.0-preview2, master = local[*], app id = local-1620465662387)\n",
       "SparkSession available as 'spark'\n"
      ]
     },
     "metadata": {},
     "output_type": "display_data"
    },
    {
     "data": {
      "text/plain": [
       "i: Int = 8\n"
      ]
     },
     "execution_count": 1,
     "metadata": {},
     "output_type": "execute_result"
    }
   ],
   "source": [
    "// first think \"Pattern matching\" like a switch in Java\n",
    "val i = 8"
   ]
  },
  {
   "cell_type": "code",
   "execution_count": 3,
   "metadata": {},
   "outputs": [
    {
     "data": {
      "text/plain": [
       "month: String = August\n",
       "res1: String = August\n"
      ]
     },
     "execution_count": 3,
     "metadata": {},
     "output_type": "execute_result"
    }
   ],
   "source": [
    "val month = i match {\n",
    "    case 1  => \"January\"\n",
    "    case 2  => \"February\"\n",
    "    case 3  => \"March\"\n",
    "    case 4  => \"April\"\n",
    "    case 5  => \"May\"\n",
    "    case 6  => \"June\"\n",
    "    case 7  => \"July\"\n",
    "    case 8  => \"August\"\n",
    "    case 9  => \"September\"\n",
    "    case 10 => \"October\"\n",
    "    case 11 => \"November\"\n",
    "    case 12 => \"December\"\n",
    "    case _  => \"Invalid month\"  // the default, catch-all\n",
    "\n",
    "}\n",
    "month"
   ]
  },
  {
   "cell_type": "code",
   "execution_count": 6,
   "metadata": {},
   "outputs": [
    {
     "name": "stdout",
     "output_type": "stream",
     "text": [
      "pufff\n"
     ]
    },
    {
     "data": {
      "text/plain": [
       "i: Int = 20\n"
      ]
     },
     "execution_count": 6,
     "metadata": {},
     "output_type": "execute_result"
    }
   ],
   "source": [
    "// You may combine options\n",
    "var i = 20\n",
    "i match {\n",
    "    case 1 | 3 | 5 | 7 | 9 => println(\"odd\")\n",
    "    case 2 | 4 | 6 | 8 | 10 => println(\"even\")\n",
    "    case _ => println(\"pufff\")\n",
    "}"
   ]
  },
  {
   "cell_type": "code",
   "execution_count": 28,
   "metadata": {},
   "outputs": [
    {
     "name": "stdout",
     "output_type": "stream",
     "text": [
      "even\n"
     ]
    }
   ],
   "source": [
    "i match {\n",
    "    case 1 => println(\"odd\") \n",
    "    case 3 => println(\"odd\")\n",
    "    case 5 | 7 | 9 => println(\"odd\")\n",
    "    case 2 | 4 | 6 | 8 | 10 => println(\"even\")\n",
    "}\n"
   ]
  },
  {
   "cell_type": "code",
   "execution_count": 9,
   "metadata": {},
   "outputs": [],
   "source": [
    "val st: Any = true"
   ]
  },
  {
   "cell_type": "code",
   "execution_count": 10,
   "metadata": {},
   "outputs": [
    {
     "data": {
      "text/plain": [
       "Boolean"
      ]
     },
     "execution_count": 10,
     "metadata": {},
     "output_type": "execute_result"
    }
   ],
   "source": [
    "st match {\n",
    "    case s: String => \"String\"\n",
    "    case i: Int => \"Int\"\n",
    "    case b: Boolean => \"Boolean\"\n",
    "    case l: List[_] => \"List\"\n",
    "    case _ => \"Unknown\"\n",
    "}"
   ]
  },
  {
   "cell_type": "code",
   "execution_count": 10,
   "metadata": {},
   "outputs": [
    {
     "data": {
      "text/plain": [
       "start0: (l: List[Int])Boolean\n"
      ]
     },
     "execution_count": 10,
     "metadata": {},
     "output_type": "execute_result"
    }
   ],
   "source": [
    "def start0(l: List[Int]): Boolean = {\n",
    "  l match {\n",
    "    case 0 :: 10 :: _ => true\n",
    "    case _ => false\n",
    "  }\n",
    "}"
   ]
  },
  {
   "cell_type": "code",
   "execution_count": 12,
   "metadata": {},
   "outputs": [
    {
     "data": {
      "text/plain": [
       "res7: Boolean = false\n"
      ]
     },
     "execution_count": 12,
     "metadata": {},
     "output_type": "execute_result"
    }
   ],
   "source": [
    "start0(List(0, 15,1,0))"
   ]
  },
  {
   "cell_type": "code",
   "execution_count": null,
   "metadata": {},
   "outputs": [],
   "source": []
  }
 ],
 "metadata": {
  "kernelspec": {
   "display_name": "spylon-kernel",
   "language": "scala",
   "name": "spylon-kernel"
  },
  "language_info": {
   "codemirror_mode": "text/x-scala",
   "file_extension": ".scala",
   "help_links": [
    {
     "text": "MetaKernel Magics",
     "url": "https://metakernel.readthedocs.io/en/latest/source/README.html"
    }
   ],
   "mimetype": "text/x-scala",
   "name": "scala",
   "pygments_lexer": "scala",
   "version": "0.4.1"
  }
 },
 "nbformat": 4,
 "nbformat_minor": 2
}
