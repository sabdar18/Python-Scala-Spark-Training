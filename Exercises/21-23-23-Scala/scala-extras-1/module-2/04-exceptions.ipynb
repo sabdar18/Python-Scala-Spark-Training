{
 "cells": [
  {
   "cell_type": "markdown",
   "metadata": {},
   "source": [
    "![](../static/scala.jpg)"
   ]
  },
  {
   "cell_type": "markdown",
   "metadata": {},
   "source": [
    "# Exceptions"
   ]
  },
  {
   "cell_type": "markdown",
   "metadata": {},
   "source": [
    "Sometimes a function may return an **Exception** instead of return a normal value"
   ]
  },
  {
   "cell_type": "code",
   "execution_count": 2,
   "metadata": {},
   "outputs": [
    {
     "data": {
      "text/plain": [
       "Name: java.lang.RuntimeException\n",
       "Message: x must be positive\n",
       "StackTrace: "
      ]
     },
     "execution_count": 2,
     "metadata": {},
     "output_type": "execute_result"
    }
   ],
   "source": [
    "val x = -10.0\n",
    "if (x > 0) Math.log(x) else throw new RuntimeException(\"x must be positive\")"
   ]
  },
  {
   "cell_type": "markdown",
   "metadata": {},
   "source": [
    "The function's caller can handle the exception (try-catch) or allows the propagation of the exception to its caller (simply by terminate the execution)"
   ]
  },
  {
   "cell_type": "markdown",
   "metadata": {},
   "source": [
    "## Handling exceptions"
   ]
  },
  {
   "cell_type": "code",
   "execution_count": 3,
   "metadata": {},
   "outputs": [
    {
     "name": "stdout",
     "output_type": "stream",
     "text": [
      "Runtime Exception java.lang.ArithmeticException: / by zero\n"
     ]
    },
    {
     "data": {
      "text/plain": [
       "()"
      ]
     },
     "execution_count": 3,
     "metadata": {},
     "output_type": "execute_result"
    }
   ],
   "source": [
    "// By using try-catch\n",
    "try {\n",
    "  1/0\n",
    "} catch {\n",
    "  case ex: RuntimeException => println(s\"Runtime Exception ${ex.toString}\")\n",
    "}"
   ]
  },
  {
   "cell_type": "markdown",
   "metadata": {},
   "source": [
    "## Finally clause"
   ]
  },
  {
   "cell_type": "markdown",
   "metadata": {},
   "source": [
    "Use **finally** to execute code no matter how the code terminates: either returning an exception or not. \n",
    "\n",
    "Examples: to close an open file, to "
   ]
  },
  {
   "cell_type": "code",
   "execution_count": 5,
   "metadata": {},
   "outputs": [
    {
     "name": "stdout",
     "output_type": "stream",
     "text": [
      "Exception: java.lang.ArithmeticException: / by zero\n"
     ]
    }
   ],
   "source": [
    "// Closing the file in any \n",
    "\n",
    "import scala.io.Source\n",
    "\n",
    "val myFile = \"05-exceptions.ipynb\"\n",
    "val buffer = Source.fromFile(myFile)\n",
    "\n",
    "try {\n",
    "  for(line <- buffer.getLines) {\n",
    "    // Processing the line\n",
    "    1/0\n",
    "    println(line.toUpperCase)\n",
    "  }\n",
    "} catch {\n",
    "  case ex: Exception => println(s\"Exception: ${ex.toString}\")\n",
    "} finally {\n",
    "  buffer.close\n",
    "}"
   ]
  },
  {
   "cell_type": "code",
   "execution_count": null,
   "metadata": {
    "collapsed": true
   },
   "outputs": [],
   "source": []
  }
 ],
 "metadata": {
  "kernelspec": {
   "display_name": "spylon-kernel",
   "language": "scala",
   "name": "spylon-kernel"
  },
  "language_info": {
   "codemirror_mode": "text/x-scala",
   "file_extension": ".scala",
   "help_links": [
    {
     "text": "MetaKernel Magics",
     "url": "https://metakernel.readthedocs.io/en/latest/source/README.html"
    }
   ],
   "mimetype": "text/x-scala",
   "name": "scala",
   "pygments_lexer": "scala",
   "version": "0.4.1"
  }
 },
 "nbformat": 4,
 "nbformat_minor": 2
}
