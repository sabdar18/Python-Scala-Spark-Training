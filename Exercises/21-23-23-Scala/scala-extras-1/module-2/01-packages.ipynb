{
 "cells": [
  {
   "cell_type": "markdown",
   "metadata": {},
   "source": [
    "![](../static/scala.jpg)"
   ]
  },
  {
   "cell_type": "markdown",
   "metadata": {},
   "source": [
    "## Packages"
   ]
  },
  {
   "cell_type": "markdown",
   "metadata": {},
   "source": [
    "To create Scala packages (similar to Java): declaring a package name at the top of the file\n",
    "~~~scala\n",
    "package foo.mypackage\n",
    "\n",
    "class Foo {\n",
    "  override def toString = \"I'm foo.mypackage.Foo\"\n",
    "}\n",
    "~~~"
   ]
  },
  {
   "cell_type": "code",
   "execution_count": 11,
   "metadata": {
    "collapsed": true
   },
   "outputs": [],
   "source": [
    "/*\n",
    "Packages imported by default:\n",
    "java.lang._\n",
    "scala._\n",
    "scala.Predef._\n",
    "*/\n",
    "\n",
    "// Import examples:\n",
    "\n",
    "// import one class\n",
    "import java.io.File\n",
    "\n",
    "// import every class in a package\n",
    "import java.io._"
   ]
  },
  {
   "cell_type": "code",
   "execution_count": 12,
   "metadata": {
    "collapsed": true
   },
   "outputs": [],
   "source": [
    "// import multiple classes from a package (version 1)\n",
    "import java.io.{File, IOException, FileNotFoundException}\n",
    "\n",
    "// import multiple classes from a package (version 2)\n",
    "import java.io.File\n",
    "import java.io.FileNotFoundException\n",
    "import java.io.IOException"
   ]
  },
  {
   "cell_type": "code",
   "execution_count": 1,
   "metadata": {},
   "outputs": [
    {
     "data": {
      "text/plain": [
       "2017-03-30"
      ]
     },
     "execution_count": 1,
     "metadata": {},
     "output_type": "execute_result"
    }
   ],
   "source": [
    "// Creating a class alias during import\n",
    "import java.util.{Date => UtilDate}\n",
    "import java.sql.{Date => SqlDate}\n",
    "\n",
    "// later ...\n",
    "val date = new SqlDate(System.currentTimeMillis())\n",
    "date.toString"
   ]
  }
 ],
 "metadata": {
  "kernelspec": {
   "display_name": "spylon-kernel",
   "language": "scala",
   "name": "spylon-kernel"
  },
  "language_info": {
   "codemirror_mode": "text/x-scala",
   "file_extension": ".scala",
   "help_links": [
    {
     "text": "MetaKernel Magics",
     "url": "https://metakernel.readthedocs.io/en/latest/source/README.html"
    }
   ],
   "mimetype": "text/x-scala",
   "name": "scala",
   "pygments_lexer": "scala",
   "version": "0.4.1"
  }
 },
 "nbformat": 4,
 "nbformat_minor": 2
}
