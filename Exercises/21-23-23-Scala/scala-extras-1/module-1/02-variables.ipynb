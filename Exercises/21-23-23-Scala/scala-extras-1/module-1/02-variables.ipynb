{
 "cells": [
  {
   "cell_type": "markdown",
   "metadata": {},
   "source": [
    "![](../static/scala.jpg)\n"
   ]
  },
  {
   "cell_type": "markdown",
   "metadata": {},
   "source": [
    "## Variables and Functions\n",
    "\n",
    "Scala has two kind of variables: **val**s and **var**s\n",
    "\n",
    "Once initialized, a **val** can never be reassigned (similar to final variable in Java)\n",
    "~~~scala\n",
    "val x = 10\n",
    "x = 11 //error\n",
    "~~~\n",
    "\n",
    "A **var** can be reassigned during its lifetime (similar to non-final variable in Java)\n",
    "~~~scala\n",
    "var x = 10\n",
    "...\n",
    "x=11 //Ok\n",
    "...\n",
    "x=12 //Ok\n",
    "~~~"
   ]
  },
  {
   "cell_type": "code",
   "execution_count": 1,
   "metadata": {},
   "outputs": [
    {
     "data": {
      "text/plain": [
       "Intitializing Scala interpreter ..."
      ]
     },
     "metadata": {},
     "output_type": "display_data"
    },
    {
     "data": {
      "text/plain": [
       "Spark Web UI available at http://bae5ef2081fd:4046\n",
       "SparkContext available as 'sc' (version = 3.0.0-preview2, master = local[*], app id = local-1620446611512)\n",
       "SparkSession available as 'spark'\n"
      ]
     },
     "metadata": {},
     "output_type": "display_data"
    },
    {
     "data": {
      "text/plain": [
       "st: String = Hello World\n"
      ]
     },
     "execution_count": 1,
     "metadata": {},
     "output_type": "execute_result"
    }
   ],
   "source": [
    "// val\n",
    "val st = \"Hello World\""
   ]
  },
  {
   "cell_type": "code",
   "execution_count": 2,
   "metadata": {},
   "outputs": [
    {
     "data": {
      "text/plain": [
       "70"
      ]
     },
     "execution_count": 2,
     "metadata": {},
     "output_type": "execute_result"
    }
   ],
   "source": [
    "// In contrast to Java, in Scala you specify a variable's type after its name separate by a colon\n",
    "val st2: java.lang.String = \"Hello World\"\n",
    "\n",
    "// Since java.lang types are visible with their simple names in Scala, you may write:\n",
    "val st3: String = \"Hello World\"\n",
    "\n",
    "val x = 70.1123233333\n",
    "x"
   ]
  },
  {
   "cell_type": "code",
   "execution_count": 3,
   "metadata": {},
   "outputs": [
    {
     "data": {
      "text/plain": [
       "Dame 140 euros"
      ]
     },
     "execution_count": 3,
     "metadata": {},
     "output_type": "execute_result"
    }
   ],
   "source": [
    "// String Interpolation\n",
    "val st2 = s\"Dame ${x*2} euros\"\n",
    "st2"
   ]
  },
  {
   "cell_type": "code",
   "execution_count": 8,
   "metadata": {},
   "outputs": [
    {
     "data": {
      "text/plain": [
       "class java.lang.String"
      ]
     },
     "execution_count": 8,
     "metadata": {},
     "output_type": "execute_result"
    }
   ],
   "source": [
    "//Type inference: Scala's ability to figure out types you leave off\n",
    "st.getClass"
   ]
  },
  {
   "cell_type": "code",
   "execution_count": 4,
   "metadata": {},
   "outputs": [
    {
     "data": {
      "text/plain": [
       "Name: Compile Error\n",
       "Message: <console>:20: error: reassignment to val\n",
       "       st = \"Goodbye!\"\n",
       "          ^\n",
       "StackTrace: "
      ]
     },
     "execution_count": 4,
     "metadata": {},
     "output_type": "execute_result"
    }
   ],
   "source": [
    "// But we can't reasign it\n",
    "st = \"Goodbye!\""
   ]
  },
  {
   "cell_type": "code",
   "execution_count": 5,
   "metadata": {},
   "outputs": [
    {
     "name": "stdout",
     "output_type": "stream",
     "text": [
      "Hello World"
     ]
    }
   ],
   "source": [
    "// We may use st but can't reassign it\n",
    "print(st)"
   ]
  },
  {
   "cell_type": "code",
   "execution_count": 12,
   "metadata": {},
   "outputs": [
    {
     "name": "stdout",
     "output_type": "stream",
     "text": [
      "Hello World\n",
      "Goodbye!\n"
     ]
    }
   ],
   "source": [
    "// If we need reasigment we should use a var\n",
    "var st = \"Hello World\"\n",
    "println(st)\n",
    "st = \"Goodbye!\"\n",
    "println(st)"
   ]
  },
  {
   "cell_type": "markdown",
   "metadata": {
    "slideshow": {
     "slide_type": "-"
    }
   },
   "source": [
    "#### Data Types\n",
    "Scala has all the same data types as Java, with the same memory footprint and precision\n",
    "\n",
    "|Data Type  |Precision|\n",
    "|-----------|:-------:|\n",
    "|**Byte**   | 8 bit signed value. Range from -128 to 127 |\n",
    "|**Short**  | 16 bit signed value. Range from -32768 to 32767 |\n",
    "|**Int**    | 32 bit signed value. Range from -2147483648 to 2147483647 |\n",
    "|**Long**   | 64 bit signed value. Range from -9223372036854775808 to 9223372036854775807 |\n",
    "|**Float**  | 32 bit IEEE 754 single-precision float |\n",
    "|**Double** | 64 bit IEEE 754 double-precision float |\n",
    "|**Char**   | 16 bit unsigned Unicode character |\n",
    "|**String** | A sequence of Chars |\n",
    "|**Boolean**|Either the literal true or the literal false |\n"
   ]
  },
  {
   "cell_type": "code",
   "execution_count": 7,
   "metadata": {},
   "outputs": [
    {
     "name": "stdout",
     "output_type": "stream",
     "text": [
      "true\n",
      "false\n",
      "true\n",
      "false\n"
     ]
    }
   ],
   "source": [
    "// Boolean\n",
    "val b1 = true\n",
    "println(b1)\n",
    "println(b1 && false)\n",
    "println(b1 || false)\n",
    "println(!b1)"
   ]
  },
  {
   "cell_type": "code",
   "execution_count": 8,
   "metadata": {},
   "outputs": [
    {
     "name": "stdout",
     "output_type": "stream",
     "text": [
      "true\n",
      "true\n"
     ]
    }
   ],
   "source": [
    "// What is the difference between && and &?\n",
    "println(b1 | false)  //evaluates both operands\n",
    "println(true || b1) //short-circuit evaluation"
   ]
  },
  {
   "cell_type": "code",
   "execution_count": 1,
   "metadata": {},
   "outputs": [
    {
     "data": {
      "text/plain": [
       "Jejeje"
      ]
     },
     "execution_count": 1,
     "metadata": {},
     "output_type": "execute_result"
    }
   ],
   "source": [
    "// Arrays\n",
    "val a = Array(\"1\", \"2\", \"3\")\n",
    "a(0) = \"Jejeje\"\n",
    "a(0)"
   ]
  },
  {
   "cell_type": "code",
   "execution_count": 3,
   "metadata": {},
   "outputs": [
    {
     "data": {
      "text/plain": [
       "words: Array[String] = Array(Hi, Thanks, Please, Scala!)\n"
      ]
     },
     "execution_count": 3,
     "metadata": {},
     "output_type": "execute_result"
    }
   ],
   "source": [
    "val words = Array(\"Hi\", \"Thanks\", \"Please\", \"Scala!\")"
   ]
  },
  {
   "cell_type": "code",
   "execution_count": 4,
   "metadata": {},
   "outputs": [
    {
     "data": {
      "text/plain": [
       "res1: Int = 4\n"
      ]
     },
     "execution_count": 4,
     "metadata": {},
     "output_type": "execute_result"
    }
   ],
   "source": [
    "words.length"
   ]
  },
  {
   "cell_type": "code",
   "execution_count": 5,
   "metadata": {},
   "outputs": [
    {
     "data": {
      "text/plain": [
       "res2: Array[String] = Array(Scala!, Please, Thanks, Hi)\n"
      ]
     },
     "execution_count": 5,
     "metadata": {},
     "output_type": "execute_result"
    }
   ],
   "source": [
    "words.reverse"
   ]
  },
  {
   "cell_type": "code",
   "execution_count": 9,
   "metadata": {},
   "outputs": [
    {
     "data": {
      "text/plain": [
       "res6: String = Bueno bueno: Hi;Thanks;Please;Scala!!!!\n"
      ]
     },
     "execution_count": 9,
     "metadata": {},
     "output_type": "execute_result"
    }
   ],
   "source": [
    "words.mkString(\"Bueno bueno: \", \";\", \"!!!\")"
   ]
  }
 ],
 "metadata": {
  "kernelspec": {
   "display_name": "spylon-kernel",
   "language": "scala",
   "name": "spylon-kernel"
  },
  "language_info": {
   "codemirror_mode": "text/x-scala",
   "file_extension": ".scala",
   "help_links": [
    {
     "text": "MetaKernel Magics",
     "url": "https://metakernel.readthedocs.io/en/latest/source/README.html"
    }
   ],
   "mimetype": "text/x-scala",
   "name": "scala",
   "pygments_lexer": "scala",
   "version": "0.4.1"
  }
 },
 "nbformat": 4,
 "nbformat_minor": 2
}
