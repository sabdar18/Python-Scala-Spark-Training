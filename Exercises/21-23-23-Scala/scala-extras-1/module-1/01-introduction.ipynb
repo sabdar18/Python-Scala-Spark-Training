{
 "cells": [
  {
   "cell_type": "markdown",
   "metadata": {},
   "source": [
    "![](../static/scala.jpg)"
   ]
  },
  {
   "cell_type": "markdown",
   "metadata": {},
   "source": [
    "## Introduction"
   ]
  },
  {
   "cell_type": "markdown",
   "metadata": {},
   "source": [
    "### Scala\n",
    "* Scala = Scalable language (grows with the demands of its users. Fits: Scripting, Applications and Enterprise Applications)\n",
    "* Modern language (Martin Odersky, 2004), that combines **Functional Programming** with **Object Oriented Programming**\n",
    "* Compiles to Bytecode and runs on JVM (full interoperability with Java)\n"
   ]
  },
  {
   "cell_type": "markdown",
   "metadata": {
    "slideshow": {
     "slide_type": "-"
    }
   },
   "source": [
    "### Examples\n",
    "\n",
    "#### Hello World!\n",
    "~~~scala\n",
    "object MyApp extends App {\n",
    "    println(\"Hello World!\")\n",
    "}\n",
    "~~~\n",
    "\n",
    "Equivalent in Java:\n",
    "~~~java\n",
    "public class MyApp {\n",
    "    public static void main(String[] args) {\n",
    "        System.out.println(\"Hello World!\");\n",
    "    }\n",
    "}\n",
    "~~~\n"
   ]
  },
  {
   "cell_type": "code",
   "execution_count": 1,
   "metadata": {},
   "outputs": [
    {
     "data": {
      "text/plain": [
       "1"
      ]
     },
     "execution_count": 1,
     "metadata": {},
     "output_type": "execute_result"
    }
   ],
   "source": [
    "// This is a comment: from double slash until the endline\n",
    "\n",
    "/* This is a multiline \n",
    "comment\n",
    "*/\n",
    "1"
   ]
  },
  {
   "cell_type": "code",
   "execution_count": 1,
   "metadata": {},
   "outputs": [
    {
     "data": {
      "text/plain": [
       "3"
      ]
     },
     "execution_count": 1,
     "metadata": {},
     "output_type": "execute_result"
    }
   ],
   "source": [
    "// In Scala everything is an Object (No primitive types as in Java)\n",
    "1+4/2"
   ]
  },
  {
   "cell_type": "code",
   "execution_count": 2,
   "metadata": {},
   "outputs": [
    {
     "data": {
      "text/plain": [
       "3"
      ]
     },
     "execution_count": 2,
     "metadata": {},
     "output_type": "execute_result"
    }
   ],
   "source": [
    "// Expression 1+4/2 is equivalent to 1.+(4./(2))\n",
    "1.+(4./(2))"
   ]
  },
  {
   "cell_type": "code",
   "execution_count": 3,
   "metadata": {},
   "outputs": [
    {
     "name": "stdout",
     "output_type": "stream",
     "text": [
      "Hola\n",
      "Mundo\n",
      "Bye\n"
     ]
    }
   ],
   "source": [
    "// Simpler syntaxis\n",
    "// Semicolons at the end of sentences are optional, except for several sentences in the same line\n",
    "println(\"Hola\")\n",
    "println(\"Mundo\"); println(\"Bye\")\n"
   ]
  },
  {
   "cell_type": "code",
   "execution_count": 2,
   "metadata": {
    "scrolled": true
   },
   "outputs": [
    {
     "name": "stdout",
     "output_type": "stream",
     "text": [
      "int\n",
      "false\n",
      "true\n",
      "false\n"
     ]
    },
    {
     "data": {
      "text/plain": [
       "class java.lang.String"
      ]
     },
     "execution_count": 2,
     "metadata": {},
     "output_type": "execute_result"
    }
   ],
   "source": [
    "//Expression Types\n",
    "println(1.getClass)\n",
    "println(1.isInstanceOf[Boolean])\n",
    "println(1.isInstanceOf[Any])\n",
    "println(1.isInstanceOf[Double])\n",
    "\"Hi\".getClass()"
   ]
  },
  {
   "cell_type": "markdown",
   "metadata": {},
   "source": [
    "### More features of Scala\n",
    "* Concise (line number reductions in a factor of ten compared with Java)\n",
    "* Statically typed (no verbosity)\n",
    "* High level (Rising the level of abstractions. See next example)"
   ]
  },
  {
   "cell_type": "code",
   "execution_count": 1,
   "metadata": {},
   "outputs": [
    {
     "data": {
      "text/plain": [
       "Intitializing Scala interpreter ..."
      ]
     },
     "metadata": {},
     "output_type": "display_data"
    },
    {
     "data": {
      "text/plain": [
       "Spark Web UI available at http://bae5ef2081fd:4043\n",
       "SparkContext available as 'sc' (version = 3.0.0-preview2, master = local[*], app id = local-1620445997752)\n",
       "SparkSession available as 'spark'\n"
      ]
     },
     "metadata": {},
     "output_type": "display_data"
    },
    {
     "data": {
      "text/plain": [
       "word: String = hola Mundo\n"
      ]
     },
     "execution_count": 1,
     "metadata": {},
     "output_type": "execute_result"
    }
   ],
   "source": [
    "// We want to know if the word contains an uppercase\n",
    "val word  = \"hola Mundo\""
   ]
  },
  {
   "cell_type": "code",
   "execution_count": 2,
   "metadata": {},
   "outputs": [
    {
     "data": {
      "text/plain": [
       "wordHasUpperCase: Boolean = true\n",
       "i: Int = 6\n",
       "res0: Boolean = true\n"
      ]
     },
     "execution_count": 2,
     "metadata": {},
     "output_type": "execute_result"
    }
   ],
   "source": [
    "// Scala (like in Java)\n",
    "var wordHasUpperCase = false\n",
    "var i = 0\n",
    "while (i< word.length && !wordHasUpperCase) {\n",
    "  if (Character.isUpperCase(word.charAt(i))) {\n",
    "    wordHasUpperCase = true\n",
    "  }\n",
    "  i += 1\n",
    "}\n",
    "\n",
    "wordHasUpperCase"
   ]
  },
  {
   "cell_type": "code",
   "execution_count": 18,
   "metadata": {},
   "outputs": [
    {
     "data": {
      "text/plain": [
       "word: String = Atin\n"
      ]
     },
     "execution_count": 18,
     "metadata": {},
     "output_type": "execute_result"
    }
   ],
   "source": [
    "var word = \"Atin\""
   ]
  },
  {
   "cell_type": "code",
   "execution_count": 21,
   "metadata": {},
   "outputs": [
    {
     "data": {
      "text/plain": [
       "res13: Boolean = true\n"
      ]
     },
     "execution_count": 21,
     "metadata": {},
     "output_type": "execute_result"
    }
   ],
   "source": [
    "// Scala\n",
    "word.exists(_.isUpper)\n",
    "word.exists(x => x.isUpper)"
   ]
  },
  {
   "cell_type": "code",
   "execution_count": 10,
   "metadata": {},
   "outputs": [
    {
     "data": {
      "text/plain": [
       "res7: Boolean = true\n"
      ]
     },
     "execution_count": 10,
     "metadata": {},
     "output_type": "execute_result"
    }
   ],
   "source": [
    "word.exists(x => x.isUpper)"
   ]
  }
 ],
 "metadata": {
  "kernelspec": {
   "display_name": "spylon-kernel",
   "language": "scala",
   "name": "spylon-kernel"
  },
  "language_info": {
   "codemirror_mode": "text/x-scala",
   "file_extension": ".scala",
   "help_links": [
    {
     "text": "MetaKernel Magics",
     "url": "https://metakernel.readthedocs.io/en/latest/source/README.html"
    }
   ],
   "mimetype": "text/x-scala",
   "name": "scala",
   "pygments_lexer": "scala",
   "version": "0.4.1"
  }
 },
 "nbformat": 4,
 "nbformat_minor": 2
}
