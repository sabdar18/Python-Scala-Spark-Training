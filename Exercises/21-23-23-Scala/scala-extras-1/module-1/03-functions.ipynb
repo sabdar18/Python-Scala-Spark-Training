{
 "cells": [
  {
   "cell_type": "markdown",
   "metadata": {},
   "source": [
    "![](../static/scala.jpg)\n"
   ]
  },
  {
   "cell_type": "markdown",
   "metadata": {},
   "source": [
    "### Functions\n",
    "To define a function in Scala we use reserved word **def**\n",
    "~~~scala\n",
    "def sum(x:Int, y:Int): Int = {\n",
    "  x+y\n",
    "}\n",
    "~~~\n",
    "Where:\n",
    "* **def**: reserved word, starts a function definition\n",
    "* **sum**: function name\n",
    "* **(x:Int, y:Int)**: parameter list in parentheses\n",
    "* **Int**: function's result type\n",
    "* **=**: equals sign\n",
    "* **{...}**: function body in curly braces \n",
    "\n",
    "> Please, notice **return** word is not required"
   ]
  },
  {
   "cell_type": "code",
   "execution_count": 2,
   "metadata": {
    "collapsed": true
   },
   "outputs": [],
   "source": [
    "// Let's define some functions \n",
    "def sum(x:Int, y:Int): Int = x+y\n",
    "def max(x:Int, y:Int): Int = if (x<y) y else x\n",
    "def min(x:Int, y:Int): Int = sum(x,y) - max(x,y)"
   ]
  },
  {
   "cell_type": "code",
   "execution_count": 3,
   "metadata": {},
   "outputs": [
    {
     "name": "stdout",
     "output_type": "stream",
     "text": [
      "21\n",
      "10\n"
     ]
    },
    {
     "data": {
      "text/plain": [
       "5"
      ]
     },
     "execution_count": 3,
     "metadata": {},
     "output_type": "execute_result"
    }
   ],
   "source": [
    "// Let's evaluate some functions\n",
    "println(sum(10,11))\n",
    "println(max(5,10))\n",
    "min(5,10)"
   ]
  },
  {
   "cell_type": "code",
   "execution_count": 4,
   "metadata": {},
   "outputs": [],
   "source": [
    "// Recursive functions (Requires explicit function's result type)\n",
    "def factorial(n: Int): Int = {\n",
    "   if (n==0) 1\n",
    "    else n*factorial(n-1)\n",
    "}"
   ]
  },
  {
   "cell_type": "code",
   "execution_count": null,
   "metadata": {
    "collapsed": true
   },
   "outputs": [],
   "source": [
    "factorial(10)"
   ]
  },
  {
   "cell_type": "code",
   "execution_count": 6,
   "metadata": {
    "slideshow": {
     "slide_type": "-"
    }
   },
   "outputs": [],
   "source": [
    "// Functions as arguments\n",
    "def sum(x:Int, y:Int): Int = x+y\n",
    "def prod(x:Int, y:Int): Int = x*y\n",
    "\n",
    "def combines(x1:Int, y1:Int, x2:Int, y2:Int, op1:(Int,Int)=>Int, op2:(Int,Int)=>Int): Int = op2(op1(x1,y1), op1(x2,y2))\n",
    "\n",
    "type Fn2Ints = (Int, Int) => Int\n",
    "def combines2(x1:Int, y1:Int, x2:Int, y2:Int, op1: Fn2Ints, op2: Fn2Ints): Int = op2(op1(x1,y1), op1(x2,y2))"
   ]
  },
  {
   "cell_type": "code",
   "execution_count": 7,
   "metadata": {},
   "outputs": [
    {
     "name": "stdout",
     "output_type": "stream",
     "text": [
      "12\n"
     ]
    },
    {
     "data": {
      "text/plain": [
       "12"
      ]
     },
     "execution_count": 7,
     "metadata": {},
     "output_type": "execute_result"
    }
   ],
   "source": [
    "// (1+3) * (2+1) => 12\n",
    "println(combines1(1,3,2,1, sum, prod))\n",
    "combines2(1,3,2,1, sum, prod)"
   ]
  },
  {
   "cell_type": "code",
   "execution_count": 20,
   "metadata": {},
   "outputs": [
    {
     "data": {
      "text/plain": [
       "6"
      ]
     },
     "execution_count": 20,
     "metadata": {},
     "output_type": "execute_result"
    }
   ],
   "source": [
    "// (1+2) + (3+0) => 6\n",
    "combines(2,3,1,0, sum, sum)"
   ]
  },
  {
   "cell_type": "code",
   "execution_count": 21,
   "metadata": {},
   "outputs": [
    {
     "data": {
      "text/plain": [
       "6"
      ]
     },
     "execution_count": 21,
     "metadata": {},
     "output_type": "execute_result"
    }
   ],
   "source": [
    "// (1*2) + (3*0) => 3\n",
    "combines(2,3,1,0, prod, sum)"
   ]
  },
  {
   "cell_type": "code",
   "execution_count": 22,
   "metadata": {
    "slideshow": {
     "slide_type": "-"
    }
   },
   "outputs": [
    {
     "data": {
      "text/plain": [
       "0"
      ]
     },
     "execution_count": 22,
     "metadata": {},
     "output_type": "execute_result"
    }
   ],
   "source": [
    "// (1*2) * (3*0) => 0\n",
    "combines(2,3,1,0, prod, prod)"
   ]
  },
  {
   "cell_type": "code",
   "execution_count": 10,
   "metadata": {},
   "outputs": [
    {
     "data": {
      "text/plain": [
       "<function1>"
      ]
     },
     "execution_count": 10,
     "metadata": {},
     "output_type": "execute_result"
    }
   ],
   "source": [
    "// Anonymous functions\n",
    "(x:Int) => x+1"
   ]
  },
  {
   "cell_type": "code",
   "execution_count": 16,
   "metadata": {},
   "outputs": [
    {
     "data": {
      "text/plain": [
       "<function2>"
      ]
     },
     "execution_count": 16,
     "metadata": {},
     "output_type": "execute_result"
    }
   ],
   "source": [
    "// Anonymous functions\n",
    "(x:Int,y:Int) => x+y"
   ]
  },
  {
   "cell_type": "code",
   "execution_count": 12,
   "metadata": {},
   "outputs": [
    {
     "data": {
      "text/plain": [
       "12"
      ]
     },
     "execution_count": 12,
     "metadata": {},
     "output_type": "execute_result"
    }
   ],
   "source": [
    "// Using function inc()\n",
    "val inc = (x:Int) => x+1\n",
    "inc(11)"
   ]
  },
  {
   "cell_type": "code",
   "execution_count": 13,
   "metadata": {},
   "outputs": [
    {
     "data": {
      "text/plain": [
       "Array(1, 2, 3, 4, 5, 6)"
      ]
     },
     "execution_count": 13,
     "metadata": {},
     "output_type": "execute_result"
    }
   ],
   "source": [
    "// Array of Int\n",
    "val A = Array(1,2,3,4,5,6)\n",
    "A"
   ]
  },
  {
   "cell_type": "code",
   "execution_count": 17,
   "metadata": {},
   "outputs": [
    {
     "data": {
      "text/plain": [
       "Array(3, 6, 9, 12, 15, 18)"
      ]
     },
     "execution_count": 17,
     "metadata": {},
     "output_type": "execute_result"
    }
   ],
   "source": [
    "// passing inc() as argument to map()\n",
    "//val B = \n",
    "val B = A.map(x => x*3) //B\n",
    "B"
   ]
  },
  {
   "cell_type": "code",
   "execution_count": 26,
   "metadata": {},
   "outputs": [
    {
     "data": {
      "text/plain": [
       "Array(5, 8, 11, 14, 17, 20)"
      ]
     },
     "execution_count": 26,
     "metadata": {},
     "output_type": "execute_result"
    }
   ],
   "source": [
    "// Previous example is the same as:\n",
    "A.map(x => 3*x+2) //A.map(x => inc(x))"
   ]
  },
  {
   "cell_type": "code",
   "execution_count": 34,
   "metadata": {},
   "outputs": [
    {
     "data": {
      "text/plain": [
       "Array(1, 4, 9, 16, 25, 36)"
      ]
     },
     "execution_count": 34,
     "metadata": {},
     "output_type": "execute_result"
    }
   ],
   "source": [
    "// Another example of anonymous function\n",
    "val y = A.map(x => x*x)"
   ]
  },
  {
   "cell_type": "code",
   "execution_count": 19,
   "metadata": {},
   "outputs": [
    {
     "data": {
      "text/plain": [
       "-14"
      ]
     },
     "execution_count": 19,
     "metadata": {},
     "output_type": "execute_result"
    }
   ],
   "source": [
    "// We may use nested functions (auxiliar functions)\n",
    "// Next code is just for illustrate nested functions (functional version is better and also checks)\n",
    "def min(a: Array[Int]): Int = {\n",
    "\n",
    "    def minor(x: Int, y:Int) = if (x<y) x else y\n",
    "    \n",
    "    var i = 1\n",
    "    var xmin = a(0)\n",
    "    while (i<a.size) {\n",
    "        xmin = minor(xmin, a(i))\n",
    "        i += 1\n",
    "    }\n",
    "    xmin\n",
    "}\n",
    "min(Array(1,-14,-5,-2,-3,3,7))"
   ]
  },
  {
   "cell_type": "code",
   "execution_count": 21,
   "metadata": {
    "collapsed": true
   },
   "outputs": [],
   "source": [
    "val l = Array(1,3,-2,3,11,-1,-9,12,11)"
   ]
  },
  {
   "cell_type": "code",
   "execution_count": 22,
   "metadata": {},
   "outputs": [
    {
     "name": "stdout",
     "output_type": "stream",
     "text": [
      "1\n",
      "3\n",
      "3\n",
      "11\n",
      "12\n",
      "11\n"
     ]
    }
   ],
   "source": [
    "// \"loop with while; decide with if\"\n",
    "var i = 0\n",
    "while (i<l.size) {\n",
    "    if (l(i) >= 0) println(l(i))\n",
    "    i += 1\n",
    "}"
   ]
  },
  {
   "cell_type": "code",
   "execution_count": 23,
   "metadata": {},
   "outputs": [
    {
     "name": "stdout",
     "output_type": "stream",
     "text": [
      "1\n",
      "3\n",
      "3\n",
      "11\n",
      "12\n",
      "11\n"
     ]
    }
   ],
   "source": [
    "// \"iterate with foreach and for\"\n",
    "l.filter(x => x>=0).foreach(x => println(x))"
   ]
  },
  {
   "cell_type": "code",
   "execution_count": 8,
   "metadata": {},
   "outputs": [
    {
     "name": "stdout",
     "output_type": "stream",
     "text": [
      "1\n",
      "3\n",
      "3\n",
      "11\n",
      "12\n",
      "11\n"
     ]
    }
   ],
   "source": [
    "for(x <- l) {\n",
    "    if (x>=0) println(x)\n",
    "}"
   ]
  },
  {
   "cell_type": "code",
   "execution_count": null,
   "metadata": {
    "collapsed": true
   },
   "outputs": [],
   "source": []
  }
 ],
 "metadata": {
  "kernelspec": {
   "display_name": "spylon-kernel",
   "language": "scala",
   "name": "spylon-kernel"
  },
  "language_info": {
   "codemirror_mode": "text/x-scala",
   "file_extension": ".scala",
   "help_links": [
    {
     "text": "MetaKernel Magics",
     "url": "https://metakernel.readthedocs.io/en/latest/source/README.html"
    }
   ],
   "mimetype": "text/x-scala",
   "name": "scala",
   "pygments_lexer": "scala",
   "version": "0.4.1"
  }
 },
 "nbformat": 4,
 "nbformat_minor": 2
}
