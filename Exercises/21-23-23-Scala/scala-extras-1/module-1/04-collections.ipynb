{
 "cells": [
  {
   "cell_type": "markdown",
   "metadata": {},
   "source": [
    "![](../static/scala.jpg)"
   ]
  },
  {
   "cell_type": "markdown",
   "metadata": {},
   "source": [
    "## Collections\n",
    "\n",
    "In the previous topic we work with Arrays. An Array is an special kind of collection"
   ]
  },
  {
   "cell_type": "code",
   "execution_count": 1,
   "metadata": {
    "slideshow": {
     "slide_type": "-"
    }
   },
   "outputs": [
    {
     "data": {
      "text/plain": [
       "Intitializing Scala interpreter ..."
      ]
     },
     "metadata": {},
     "output_type": "display_data"
    },
    {
     "data": {
      "text/plain": [
       "Spark Web UI available at http://bae5ef2081fd:4048\n",
       "SparkContext available as 'sc' (version = 3.0.0-preview2, master = local[*], app id = local-1620451155723)\n",
       "SparkSession available as 'spark'\n"
      ]
     },
     "metadata": {},
     "output_type": "display_data"
    },
    {
     "name": "stdout",
     "output_type": "stream",
     "text": [
      "Ana\n",
      "Maria\n",
      "Daniela\n"
     ]
    },
    {
     "data": {
      "text/plain": [
       "a: Array[String] = Array(Ana, Maria, Daniela)\n"
      ]
     },
     "execution_count": 1,
     "metadata": {},
     "output_type": "execute_result"
    }
   ],
   "source": [
    "// Print array's elements\n",
    "val a = Array(\"Ana\", \"Maria\", \"Daniela\")\n",
    "a.foreach(println)"
   ]
  },
  {
   "cell_type": "markdown",
   "metadata": {
    "slideshow": {
     "slide_type": "-"
    }
   },
   "source": [
    "#### Scala has several classes to work with collections. Most of them are \"traversable\" and \"iterable\"\n",
    "We may divide this set in three subsets:\n",
    "* Seq\n",
    "* Set\n",
    "* Map\n",
    "> By another hand, some classes comes in two flavours: mutables and inmutables"
   ]
  },
  {
   "cell_type": "markdown",
   "metadata": {
    "collapsed": true,
    "slideshow": {
     "slide_type": "-"
    }
   },
   "source": [
    "### Vector and List are Seq\n",
    "* **Vector** is an IndexedSeq\n",
    "* **List** is a LinearSeq\n"
   ]
  },
  {
   "cell_type": "code",
   "execution_count": 2,
   "metadata": {},
   "outputs": [
    {
     "data": {
      "text/plain": [
       "v: Vector[Int] = Vector(1, 2, 3, 4, 5)\n",
       "res1: Vector[Int] = Vector(1, 2, 3, 4, 5)\n"
      ]
     },
     "execution_count": 2,
     "metadata": {},
     "output_type": "execute_result"
    }
   ],
   "source": [
    "// Vector\n",
    "val v: Vector[Int] = Vector(1,2,3,4,5)\n",
    "v"
   ]
  },
  {
   "cell_type": "code",
   "execution_count": 3,
   "metadata": {},
   "outputs": [
    {
     "data": {
      "text/plain": [
       "1"
      ]
     },
     "execution_count": 3,
     "metadata": {},
     "output_type": "execute_result"
    }
   ],
   "source": [
    "// Accesing elements (first element has index 0)\n",
    "v(0)"
   ]
  },
  {
   "cell_type": "code",
   "execution_count": 4,
   "metadata": {},
   "outputs": [
    {
     "data": {
      "text/plain": [
       "Vector(4, 7, 10, 13, 16)"
      ]
     },
     "execution_count": 4,
     "metadata": {},
     "output_type": "execute_result"
    }
   ],
   "source": [
    "// As a collection: map() \n",
    "// for example: v -> 3*v+1\n",
    "v.map(x => 3*x+1)"
   ]
  },
  {
   "cell_type": "code",
   "execution_count": 2,
   "metadata": {},
   "outputs": [
    {
     "data": {
      "text/plain": [
       "List(6, 2, 3, 4, 5, 6, 1, 2, 3, 4, 5)"
      ]
     },
     "execution_count": 2,
     "metadata": {},
     "output_type": "execute_result"
    }
   ],
   "source": [
    "// List creation\n",
    "// list1 and list2 are equal, but list2 was created by prepending elements to the list (Nil is the empty list)\n",
    "val list1 = List(1,2,3,4,5)\n",
    "val list2 = 6 :: 2 :: 3 :: 4 :: 5 :: 6 :: list1\n",
    "list2"
   ]
  },
  {
   "cell_type": "code",
   "execution_count": 3,
   "metadata": {},
   "outputs": [
    {
     "data": {
      "text/plain": [
       "res2: List[Any] = List(List(1, 3, 5), 9, 8, 7)\n"
      ]
     },
     "execution_count": 3,
     "metadata": {},
     "output_type": "execute_result"
    }
   ],
   "source": [
    "// There are several useful operations on Lists (similar to other collections)\n",
    "// To concatenate two lists :::\n",
    "List(1,3,5) ::: List(9,8,7)"
   ]
  },
  {
   "cell_type": "code",
   "execution_count": 9,
   "metadata": {},
   "outputs": [
    {
     "data": {
      "text/plain": [
       "3"
      ]
     },
     "execution_count": 9,
     "metadata": {},
     "output_type": "execute_result"
    }
   ],
   "source": [
    "// To return the element with a specific index (first element has index 0)\n",
    "list1(2)"
   ]
  },
  {
   "cell_type": "code",
   "execution_count": 10,
   "metadata": {},
   "outputs": [
    {
     "data": {
      "text/plain": [
       "1"
      ]
     },
     "execution_count": 10,
     "metadata": {},
     "output_type": "execute_result"
    }
   ],
   "source": [
    "// Return the first element of a list\n",
    "list1.head"
   ]
  },
  {
   "cell_type": "code",
   "execution_count": 13,
   "metadata": {},
   "outputs": [
    {
     "data": {
      "text/plain": [
       "List(1, 2, 3, 4)"
      ]
     },
     "execution_count": 13,
     "metadata": {},
     "output_type": "execute_result"
    }
   ],
   "source": [
    "// Return the rest of element of a list but the first one\n",
    "// Please notice that: list1 == list1.head :: list2.tail\n",
    "list1.tail"
   ]
  },
  {
   "cell_type": "code",
   "execution_count": 14,
   "metadata": {},
   "outputs": [
    {
     "data": {
      "text/plain": [
       "List(1, 2, 3)"
      ]
     },
     "execution_count": 14,
     "metadata": {},
     "output_type": "execute_result"
    }
   ],
   "source": [
    "// Return the list without the first two elements (also there are the dropRigth() function)\n",
    "list1.dropRight(3)"
   ]
  },
  {
   "cell_type": "code",
   "execution_count": 16,
   "metadata": {},
   "outputs": [],
   "source": [
    "// To filter the list: return sublist with elements that fullfils a condition\n",
    "val list2 = list1.filter(x => x%3==0)"
   ]
  },
  {
   "cell_type": "code",
   "execution_count": 3,
   "metadata": {},
   "outputs": [
    {
     "data": {
      "text/plain": [
       "List(1.0, 1.4142135623730951, 1.7320508075688772, 2.0, 2.23606797749979)"
      ]
     },
     "execution_count": 3,
     "metadata": {},
     "output_type": "execute_result"
    }
   ],
   "source": [
    "// Return a transformed list\n",
    "val listx = list1.map(x => Math.sqrt(x))\n",
    "listx"
   ]
  },
  {
   "cell_type": "code",
   "execution_count": 20,
   "metadata": {},
   "outputs": [
    {
     "name": "stdout",
     "output_type": "stream",
     "text": [
      "1\n",
      "2\n",
      "3\n",
      "4\n",
      "5\n"
     ]
    }
   ],
   "source": [
    "// Execute an action on each element in the list\n",
    "list1.foreach(x => println(x))"
   ]
  },
  {
   "cell_type": "code",
   "execution_count": 20,
   "metadata": {},
   "outputs": [
    {
     "data": {
      "text/plain": [
       "List(5, 4, 3, 2, 1)"
      ]
     },
     "execution_count": 20,
     "metadata": {},
     "output_type": "execute_result"
    }
   ],
   "source": [
    "// Reverse the list\n",
    "list1.reverse"
   ]
  },
  {
   "cell_type": "markdown",
   "metadata": {},
   "source": [
    "### Set and Maps\n",
    "\n",
    "Set and Map can be mutable or immutable"
   ]
  },
  {
   "cell_type": "code",
   "execution_count": 4,
   "metadata": {},
   "outputs": [
    {
     "data": {
      "text/plain": [
       "div3: scala.collection.immutable.Set[Int] = Set(0, 3, 6, 9)\n",
       "div2: scala.collection.immutable.Set[Int] = Set(0, 6, 2, 8, 4)\n"
      ]
     },
     "execution_count": 4,
     "metadata": {},
     "output_type": "execute_result"
    }
   ],
   "source": [
    "// Sets\n",
    "val div3 = Set(0,3,6,9)\n",
    "val div2 = Set(0,2,4,6,8)"
   ]
  },
  {
   "cell_type": "code",
   "execution_count": 5,
   "metadata": {},
   "outputs": [
    {
     "data": {
      "text/plain": [
       "res3: Boolean = true\n"
      ]
     },
     "execution_count": 5,
     "metadata": {},
     "output_type": "execute_result"
    }
   ],
   "source": [
    "// Contains some element?\n",
    "div2.contains(2) //div2(2)"
   ]
  },
  {
   "cell_type": "code",
   "execution_count": 6,
   "metadata": {},
   "outputs": [
    {
     "data": {
      "text/plain": [
       "div2or3: scala.collection.immutable.Set[Int] = Set(0, 6, 9, 2, 3, 8, 4)\n",
       "res4: scala.collection.immutable.Set[Int] = Set(0, 6, 9, 2, 3, 8, 4)\n"
      ]
     },
     "execution_count": 6,
     "metadata": {},
     "output_type": "execute_result"
    }
   ],
   "source": [
    "// Set union\n",
    "val div2or3 = div3.union(div2) // div3 | div2\n",
    "div2or3"
   ]
  },
  {
   "cell_type": "code",
   "execution_count": 7,
   "metadata": {},
   "outputs": [
    {
     "data": {
      "text/plain": [
       "div6: scala.collection.immutable.Set[Int] = Set(0, 6)\n"
      ]
     },
     "execution_count": 7,
     "metadata": {},
     "output_type": "execute_result"
    }
   ],
   "source": [
    "// Set intersection\n",
    "val div6 = div3.intersect(div2) // div3 & div2"
   ]
  },
  {
   "cell_type": "code",
   "execution_count": 8,
   "metadata": {},
   "outputs": [
    {
     "data": {
      "text/plain": [
       "div2no3: scala.collection.immutable.Set[Int] = Set(2, 8, 4)\n",
       "res5: scala.collection.immutable.Set[Int] = Set(2, 8, 4)\n"
      ]
     },
     "execution_count": 8,
     "metadata": {},
     "output_type": "execute_result"
    }
   ],
   "source": [
    "// Set difference\n",
    "val div2no3 = div2.diff(div3) // div2 &~ div3\n",
    "div2no3"
   ]
  },
  {
   "cell_type": "code",
   "execution_count": 9,
   "metadata": {},
   "outputs": [
    {
     "data": {
      "text/plain": [
       "mdiv2: scala.collection.mutable.Set[Int] = Set(0, 2, 6, 4, 8)\n"
      ]
     },
     "execution_count": 9,
     "metadata": {},
     "output_type": "execute_result"
    }
   ],
   "source": [
    "// Mutable sets\n",
    "val mdiv2: collection.mutable.Set[Int] = collection.mutable.Set(0,2,4,6,8)"
   ]
  },
  {
   "cell_type": "code",
   "execution_count": 10,
   "metadata": {},
   "outputs": [
    {
     "data": {
      "text/plain": [
       "res6: scala.collection.mutable.Set[Int] = Set(0, 2, 6, 10, 4, 8)\n"
      ]
     },
     "execution_count": 10,
     "metadata": {},
     "output_type": "execute_result"
    }
   ],
   "source": [
    "// Adding elements \n",
    "mdiv2 += 10\n",
    "mdiv2"
   ]
  },
  {
   "cell_type": "code",
   "execution_count": 11,
   "metadata": {},
   "outputs": [
    {
     "data": {
      "text/plain": [
       "s3: scala.collection.mutable.Set[Int] = Set(0, 12, 16, 2, 6, 10, 4, 14, 8)\n",
       "res7: scala.collection.mutable.Set[Int] = Set(0, 12, 16, 2, 6, 10, 4, 14, 8)\n"
      ]
     },
     "execution_count": 11,
     "metadata": {},
     "output_type": "execute_result"
    }
   ],
   "source": [
    "val s3 = mdiv2 ++ collection.mutable.Set(12, 14, 16)\n",
    "s3"
   ]
  },
  {
   "cell_type": "code",
   "execution_count": 15,
   "metadata": {},
   "outputs": [
    {
     "data": {
      "text/plain": [
       "res10: scala.collection.mutable.Set[Int] = Set(0, 15, 2, 6, 10, 4, 8)\n"
      ]
     },
     "execution_count": 15,
     "metadata": {},
     "output_type": "execute_result"
    }
   ],
   "source": [
    "mdiv2 += 15\n",
    "mdiv2"
   ]
  },
  {
   "cell_type": "code",
   "execution_count": 13,
   "metadata": {},
   "outputs": [
    {
     "ename": "<console>",
     "evalue": "26: error: reassignment to val",
     "output_type": "error",
     "traceback": [
      "<console>:26: error: reassignment to val",
      "       mdiv2 = collection.mutable.Set(20,22,24)",
      "             ^",
      ""
     ]
    }
   ],
   "source": [
    "mdiv2 = collection.mutable.Set(20,22,24)"
   ]
  },
  {
   "cell_type": "code",
   "execution_count": 14,
   "metadata": {},
   "outputs": [
    {
     "data": {
      "text/plain": [
       "res9: scala.collection.mutable.Set[Int] = Set(0, 2, 6, 10, 4, 8)\n"
      ]
     },
     "execution_count": 14,
     "metadata": {},
     "output_type": "execute_result"
    }
   ],
   "source": [
    "mdiv2"
   ]
  },
  {
   "cell_type": "code",
   "execution_count": 129,
   "metadata": {},
   "outputs": [
    {
     "data": {
      "text/plain": [
       "TreeSet(2, 3, 5, 7, 11, 13, 17)"
      ]
     },
     "execution_count": 129,
     "metadata": {},
     "output_type": "execute_result"
    }
   ],
   "source": [
    "// Convert an ordinary set to a sorted-set\n",
    "val set1 = Set(13, 11, 2, 3, 5, 17, 7)\n",
    "val set2 = collection.immutable.SortedSet[Int]() ++ set1\n",
    "set2"
   ]
  },
  {
   "cell_type": "code",
   "execution_count": 130,
   "metadata": {},
   "outputs": [
    {
     "data": {
      "text/plain": [
       "ArrayBuffer(2, 3, 5, 7, 11, 13, 17)"
      ]
     },
     "execution_count": 130,
     "metadata": {},
     "output_type": "execute_result"
    }
   ],
   "source": [
    "// \n",
    "set1.toSeq.sorted"
   ]
  },
  {
   "cell_type": "markdown",
   "metadata": {},
   "source": [
    "### Map"
   ]
  },
  {
   "cell_type": "code",
   "execution_count": 17,
   "metadata": {},
   "outputs": [
    {
     "data": {
      "text/plain": [
       "roman: scala.collection.immutable.Map[Int,String] = Map(5 -> V, 10 -> X, 1 -> I, 6 -> VI, 9 -> IX, 2 -> II, 7 -> VII, 3 -> III, 8 -> VIII, 4 -> IV)\n"
      ]
     },
     "execution_count": 17,
     "metadata": {},
     "output_type": "execute_result"
    }
   ],
   "source": [
    "// Map\n",
    "val roman = Map(1->\"I\", 2->\"II\", 3->\"III\", 4->\"IV\", 5->\"V\", 6->\"VI\", 7->\"VII\", 8->\"VIII\", 9->\"IX\", 10->\"X\")"
   ]
  },
  {
   "cell_type": "code",
   "execution_count": 18,
   "metadata": {},
   "outputs": [
    {
     "data": {
      "text/plain": [
       "res12: String = V\n"
      ]
     },
     "execution_count": 18,
     "metadata": {},
     "output_type": "execute_result"
    }
   ],
   "source": [
    "roman(5)"
   ]
  },
  {
   "cell_type": "code",
   "execution_count": 19,
   "metadata": {},
   "outputs": [
    {
     "data": {
      "text/plain": [
       "res13: Option[String] = Some(V)\n"
      ]
     },
     "execution_count": 19,
     "metadata": {},
     "output_type": "execute_result"
    }
   ],
   "source": [
    "roman.get(5)"
   ]
  },
  {
   "cell_type": "code",
   "execution_count": 20,
   "metadata": {},
   "outputs": [
    {
     "name": "stdout",
     "output_type": "stream",
     "text": [
      "???\n"
     ]
    }
   ],
   "source": [
    "//println(roman.get(11))\n",
    "println(roman.getOrElse(15, \"???\"))"
   ]
  },
  {
   "cell_type": "code",
   "execution_count": 21,
   "metadata": {},
   "outputs": [
    {
     "data": {
      "text/plain": [
       "res15: Boolean = false\n"
      ]
     },
     "execution_count": 21,
     "metadata": {},
     "output_type": "execute_result"
    }
   ],
   "source": [
    "roman.contains(15)"
   ]
  },
  {
   "cell_type": "code",
   "execution_count": 22,
   "metadata": {},
   "outputs": [
    {
     "name": "stdout",
     "output_type": "stream",
     "text": [
      "5 -> V\n",
      "10 -> X\n",
      "1 -> I\n",
      "6 -> VI\n",
      "9 -> IX\n",
      "2 -> II\n",
      "7 -> VII\n",
      "3 -> III\n",
      "8 -> VIII\n",
      "4 -> IV\n"
     ]
    }
   ],
   "source": [
    "roman.keys\n",
    "roman.keys.foreach(x => println(s\"$x -> ${roman(x)}\"))"
   ]
  },
  {
   "cell_type": "code",
   "execution_count": 26,
   "metadata": {},
   "outputs": [
    {
     "data": {
      "text/plain": [
       "res20: String = 5 -> V,10 -> X,1 -> I,6 -> VI,9 -> IX,2 -> II,7 -> VII,3 -> III,8 -> VIII,4 -> IV\n"
      ]
     },
     "execution_count": 26,
     "metadata": {},
     "output_type": "execute_result"
    }
   ],
   "source": [
    "roman.mkString(\",\")"
   ]
  },
  {
   "cell_type": "markdown",
   "metadata": {},
   "source": [
    "### Tuples"
   ]
  },
  {
   "cell_type": "code",
   "execution_count": 25,
   "metadata": {},
   "outputs": [
    {
     "data": {
      "text/plain": [
       "45"
      ]
     },
     "execution_count": 25,
     "metadata": {},
     "output_type": "execute_result"
    }
   ],
   "source": [
    "// Tuple is another container object \n",
    "// Are immutable and can contain different types of elements \n",
    "// Fields in a tuple are accessing by: _1, _2, etc\n",
    "val personData = (\"John\", \"USA\", 45, 90000)\n",
    "personData._3"
   ]
  },
  {
   "cell_type": "code",
   "execution_count": 26,
   "metadata": {},
   "outputs": [
    {
     "name": "stdout",
     "output_type": "stream",
     "text": [
      "class scala.Tuple4\n"
     ]
    },
    {
     "data": {
      "text/plain": [
       "Name: Compile Error\n",
       "Message: <console>:2: error: too many elements for tuple: 23, allowed: 22\n",
       "val t23 = (1,2,3,4,5,6,7,8,9,10,11,12,13,14,15,16,17,18,19,20,21,22,23)\n",
       "          ^\n",
       "StackTrace: "
      ]
     },
     "execution_count": 26,
     "metadata": {},
     "output_type": "execute_result"
    }
   ],
   "source": [
    "// Number of elements limited to 22: (Tuple1, Tuple2... Tuple22)\n",
    "println(personData.getClass())\n",
    "\n",
    "val t23 = (1,2,3,4,5,6,7,8,9,10,11,12,13,14,15,16,17,18,19,20,21,22,23)\n",
    "t23"
   ]
  },
  {
   "cell_type": "code",
   "execution_count": 27,
   "metadata": {},
   "outputs": [
    {
     "data": {
      "text/plain": [
       "John"
      ]
     },
     "execution_count": 27,
     "metadata": {},
     "output_type": "execute_result"
    }
   ],
   "source": [
    "// Assigning to variables the tuple elements\n",
    "val (name, country, age, salary) = personData\n",
    "name"
   ]
  },
  {
   "cell_type": "code",
   "execution_count": 28,
   "metadata": {},
   "outputs": [
    {
     "name": "stdout",
     "output_type": "stream",
     "text": [
      "John\n",
      "USA\n",
      "45\n",
      "90000\n"
     ]
    }
   ],
   "source": [
    "// Iterate over a tuple elements\n",
    "personData.productIterator.foreach(x => println(x))"
   ]
  },
  {
   "cell_type": "code",
   "execution_count": null,
   "metadata": {
    "collapsed": true
   },
   "outputs": [],
   "source": []
  }
 ],
 "metadata": {
  "kernelspec": {
   "display_name": "spylon-kernel",
   "language": "scala",
   "name": "spylon-kernel"
  },
  "language_info": {
   "codemirror_mode": "text/x-scala",
   "file_extension": ".scala",
   "help_links": [
    {
     "text": "MetaKernel Magics",
     "url": "https://metakernel.readthedocs.io/en/latest/source/README.html"
    }
   ],
   "mimetype": "text/x-scala",
   "name": "scala",
   "pygments_lexer": "scala",
   "version": "0.4.1"
  }
 },
 "nbformat": 4,
 "nbformat_minor": 2
}
