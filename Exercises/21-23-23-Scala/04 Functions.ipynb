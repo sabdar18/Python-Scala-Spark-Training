{
 "cells": [
  {
   "cell_type": "markdown",
   "metadata": {},
   "source": [
    "# Functions\n",
    "\n",
    "In functional programming a ***pure function*** is one that:\n",
    "\n",
    "* Has one or more input parameters\n",
    "* Performs calculations using only the input parameters\n",
    "* Returns a value\n",
    "* Always returns the same value for the same input\n",
    "* Does not use or affect any data outside the function\n",
    "* Is not affected by any data outside the function"
   ]
  },
  {
   "cell_type": "code",
   "execution_count": 5,
   "metadata": {},
   "outputs": [
    {
     "data": {
      "text/plain": [
       "hi: String\n",
       "res4: String = hi\n"
      ]
     },
     "execution_count": 5,
     "metadata": {},
     "output_type": "execute_result"
    }
   ],
   "source": [
    "def hi = \"hi\"\n",
    "\n",
    "hi"
   ]
  },
  {
   "cell_type": "code",
   "execution_count": 6,
   "metadata": {},
   "outputs": [
    {
     "data": {
      "text/plain": [
       "hi: String\n",
       "res5: String = hi\n"
      ]
     },
     "execution_count": 6,
     "metadata": {},
     "output_type": "execute_result"
    }
   ],
   "source": [
    "def hi: String = \"hi\"\n",
    "\n",
    "hi"
   ]
  },
  {
   "cell_type": "code",
   "execution_count": 9,
   "metadata": {},
   "outputs": [
    {
     "data": {
      "text/plain": [
       "multiplier: (x: Int, y: Int)Int\n",
       "res6: Int = 42\n"
      ]
     },
     "execution_count": 9,
     "metadata": {},
     "output_type": "execute_result"
    }
   ],
   "source": [
    "def multiplier(x: Int, y: Int): Int = { x * y }\n",
    "\n",
    "multiplier(6, 7)"
   ]
  },
  {
   "cell_type": "markdown",
   "metadata": {},
   "source": [
    " - Final line is the return value of the function\n",
    " - You can use the return keyword to specify a function’s return value explicitly and exit the function\n"
   ]
  },
  {
   "cell_type": "code",
   "execution_count": 7,
   "metadata": {},
   "outputs": [
    {
     "data": {
      "text/plain": [
       "defined \u001b[32mfunction\u001b[39m \u001b[36msafeTrim\u001b[39m"
      ]
     },
     "execution_count": 7,
     "metadata": {},
     "output_type": "execute_result"
    }
   ],
   "source": [
    "def safeTrim(s: String): String = {\n",
    "    if (s == null) return null\n",
    "    s.trim()\n",
    "}"
   ]
  },
  {
   "cell_type": "markdown",
   "metadata": {},
   "source": [
    "## Procedures\n",
    "\n",
    " - A function that doesn’t have a return value. \n",
    " - Here is a simple logging procedure, defined with an implicit return type and then with an explict return type:"
   ]
  },
  {
   "cell_type": "code",
   "execution_count": 23,
   "metadata": {},
   "outputs": [
    {
     "name": "stdout",
     "output_type": "stream",
     "text": [
      "Got value 2.23\n"
     ]
    },
    {
     "data": {
      "text/plain": [
       "log: (d: Double)Unit\n"
      ]
     },
     "execution_count": 23,
     "metadata": {},
     "output_type": "execute_result"
    }
   ],
   "source": [
    "//def log(d: Double) = println(f\"Got value $d.2f\")\n",
    "\n",
    "def log(d: Double): Unit = println(f\"Got value $d%.2f\")\n",
    "\n",
    "log(2.233555)"
   ]
  },
  {
   "cell_type": "markdown",
   "metadata": {},
   "source": [
    "## Functions with Empty Parentheses\n",
    "\n",
    "An alternate way to define and invoke an input-less function (one which has no input parameters) is with empty parentheses. You might find this style preferable because it clearly distinguishes the function from a value.\n",
    "\n",
    "> `def identifier()[: type] = expression`\n",
    "\n",
    "You can invoke such a function using empty parentheses as well, or choose to leave them off:"
   ]
  },
  {
   "cell_type": "code",
   "execution_count": 29,
   "metadata": {},
   "outputs": [
    {
     "data": {
      "text/plain": [
       "hi: ()String\n",
       "res26: String = hi\n"
      ]
     },
     "execution_count": 29,
     "metadata": {},
     "output_type": "execute_result"
    }
   ],
   "source": [
    "def hi(): String = \"hi\"\n",
    "\n",
    "hi()\n"
   ]
  },
  {
   "cell_type": "code",
   "execution_count": 30,
   "metadata": {},
   "outputs": [
    {
     "data": {
      "text/plain": [
       "res27: String = hi\n"
      ]
     },
     "execution_count": 30,
     "metadata": {},
     "output_type": "execute_result"
    }
   ],
   "source": [
    "hi"
   ]
  },
  {
   "cell_type": "markdown",
   "metadata": {},
   "source": [
    "## Function Invocation with Expression Blocks\n",
    "\n",
    " - When invoking functions using a single parameter, you can choose to use an expression block surrounded with curly braces to send the parameter instead of surrounding the value with parentheses\n",
    " - Using an expression block to invoke a function makes it possible to handle calculations or other actions and then call the function with the return value of the block.\n"
   ]
  },
  {
   "cell_type": "code",
   "execution_count": null,
   "metadata": {},
   "outputs": [],
   "source": [
    "def formatEuro(amt: Double) = f\"$amt%.2f\"\n",
    "\n",
    "formatEuro(3.4465)\n",
    "\n",
    "formatEuro {val rate = 1.32; 0.235 + 0.7123 + rate * 5.32}"
   ]
  },
  {
   "cell_type": "markdown",
   "metadata": {},
   "source": [
    "## Recursive Functions\n",
    "\n",
    "A ***recursive*** function is one that may invoke itself"
   ]
  },
  {
   "cell_type": "code",
   "execution_count": 7,
   "metadata": {},
   "outputs": [
    {
     "data": {
      "text/plain": [
       "defined \u001b[32mfunction\u001b[39m \u001b[36mpower\u001b[39m\n",
       "\u001b[36mres6_1\u001b[39m: \u001b[32mLong\u001b[39m = \u001b[32m256L\u001b[39m\n",
       "\u001b[36mres6_2\u001b[39m: \u001b[32mLong\u001b[39m = \u001b[32m2L\u001b[39m\n",
       "\u001b[36mres6_3\u001b[39m: \u001b[32mLong\u001b[39m = \u001b[32m1L\u001b[39m"
      ]
     },
     "execution_count": 7,
     "metadata": {},
     "output_type": "execute_result"
    }
   ],
   "source": [
    "def power(x: Int, n: Int): Long = {\n",
    "    if (n >= 1) {\n",
    "        x * power(x, n - 1)\n",
    "    }\n",
    "    else {\n",
    "        1\n",
    "    }\n",
    "}\n",
    "\n",
    "power(2, 8)\n",
    "power(2, 1)\n",
    "power(2, 0)"
   ]
  },
  {
   "cell_type": "markdown",
   "metadata": {},
   "source": [
    "## Calling Functions with Named Parameters"
   ]
  },
  {
   "cell_type": "code",
   "execution_count": 12,
   "metadata": {},
   "outputs": [
    {
     "data": {
      "text/plain": [
       "defined \u001b[32mfunction\u001b[39m \u001b[36mgreet\u001b[39m\n",
       "\u001b[36mgreeting1\u001b[39m: \u001b[32mString\u001b[39m = \u001b[32m\"Ms Brown\"\u001b[39m\n",
       "\u001b[36mgreeting2\u001b[39m: \u001b[32mString\u001b[39m = \u001b[32m\"Mr Brown\"\u001b[39m"
      ]
     },
     "execution_count": 12,
     "metadata": {},
     "output_type": "execute_result"
    }
   ],
   "source": [
    "def greet(prefix: String, name: String) = s\"$prefix $name\"\n",
    "\n",
    "val greeting1 = greet(\"Ms\", \"Brown\")\n",
    "\n",
    "val greeting2 = greet(name = \"Brown\", prefix = \"Mr\")"
   ]
  },
  {
   "cell_type": "code",
   "execution_count": 13,
   "metadata": {},
   "outputs": [
    {
     "data": {
      "text/plain": [
       "defined \u001b[32mfunction\u001b[39m \u001b[36mgreet\u001b[39m\n",
       "\u001b[36mgreeting1\u001b[39m: \u001b[32mString\u001b[39m = \u001b[32m\"Paul\"\u001b[39m"
      ]
     },
     "execution_count": 13,
     "metadata": {},
     "output_type": "execute_result"
    }
   ],
   "source": [
    "def greet(prefix: String = \"\", name: String) = s\"$prefix$name\"\n",
    "\n",
    "val greeting1 = greet(name = \"Paul\")"
   ]
  },
  {
   "cell_type": "markdown",
   "metadata": {},
   "source": [
    "This is pretty useful, except it would be better to be able to call the function without having to specify the parameter name. By reorganizing the function so that the required parameter comes first, we can call it without using a parameter name:"
   ]
  },
  {
   "cell_type": "code",
   "execution_count": 14,
   "metadata": {},
   "outputs": [
    {
     "data": {
      "text/plain": [
       "defined \u001b[32mfunction\u001b[39m \u001b[36mgreet\u001b[39m\n",
       "\u001b[36mgreeting2\u001b[39m: \u001b[32mString\u001b[39m = \u001b[32m\"Olga\"\u001b[39m"
      ]
     },
     "execution_count": 14,
     "metadata": {},
     "output_type": "execute_result"
    }
   ],
   "source": [
    "def greet(name: String, prefix: String = \"\") = s\"$prefix$name\"\n",
    "\n",
    "val greeting2 = greet(\"Olga\")"
   ]
  },
  {
   "cell_type": "markdown",
   "metadata": {},
   "source": [
    "## Methods and Operators"
   ]
  },
  {
   "cell_type": "code",
   "execution_count": 31,
   "metadata": {},
   "outputs": [
    {
     "data": {
      "text/plain": [
       "s: String = vacation.jpg\n",
       "isJPG: Boolean = true\n"
      ]
     },
     "execution_count": 31,
     "metadata": {},
     "output_type": "execute_result"
    }
   ],
   "source": [
    "val s = \"vacation.jpg\"\n",
    "\n",
    "val isJPG = s.endsWith(\".jpg\")"
   ]
  },
  {
   "cell_type": "code",
   "execution_count": 32,
   "metadata": {},
   "outputs": [
    {
     "data": {
      "text/plain": [
       "res28: Boolean = true\n"
      ]
     },
     "execution_count": 32,
     "metadata": {},
     "output_type": "execute_result"
    }
   ],
   "source": [
    "s endsWith \".jpg\""
   ]
  },
  {
   "cell_type": "markdown",
   "metadata": {},
   "source": [
    "Invoking a Method with Operator Notation:\n",
    "\n",
    "> `object method parameter`\n",
    "\n",
    "A more precise term for this notation would be ***infix operator notation***, because the operator (the object’s method) is located in between the two operands."
   ]
  },
  {
   "cell_type": "code",
   "execution_count": 5,
   "metadata": {},
   "outputs": [
    {
     "data": {
      "text/plain": [
       "res2: Boolean = true\n"
      ]
     },
     "execution_count": 5,
     "metadata": {},
     "output_type": "execute_result"
    }
   ],
   "source": [
    "s endsWith \".jpg\""
   ]
  },
  {
   "cell_type": "code",
   "execution_count": 41,
   "metadata": {},
   "outputs": [
    {
     "data": {
      "text/plain": [
       "\u001b[36md\u001b[39m: \u001b[32mDouble\u001b[39m = \u001b[32m81.093\u001b[39m\n",
       "\u001b[36mres40_1\u001b[39m: \u001b[32mInt\u001b[39m = \u001b[32m1\u001b[39m"
      ]
     },
     "execution_count": 41,
     "metadata": {},
     "output_type": "execute_result"
    }
   ],
   "source": [
    "val d = 81.093\n",
    "\n",
    "d compare 18"
   ]
  }
 ],
 "metadata": {
  "kernelspec": {
   "display_name": "spylon-kernel",
   "language": "scala",
   "name": "spylon-kernel"
  },
  "language_info": {
   "codemirror_mode": "text/x-scala",
   "file_extension": ".scala",
   "help_links": [
    {
     "text": "MetaKernel Magics",
     "url": "https://metakernel.readthedocs.io/en/latest/source/README.html"
    }
   ],
   "mimetype": "text/x-scala",
   "name": "scala",
   "pygments_lexer": "scala",
   "version": "0.4.1"
  }
 },
 "nbformat": 4,
 "nbformat_minor": 4
}
