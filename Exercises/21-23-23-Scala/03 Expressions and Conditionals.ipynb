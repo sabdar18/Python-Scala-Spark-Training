{
 "cells": [
  {
   "cell_type": "markdown",
   "metadata": {},
   "source": [
    "## Expressions\n",
    "An *expression* is a single unit of code that returns a value."
   ]
  },
  {
   "cell_type": "code",
   "execution_count": 1,
   "metadata": {},
   "outputs": [
    {
     "data": {
      "text/plain": [
       "Intitializing Scala interpreter ..."
      ]
     },
     "metadata": {},
     "output_type": "display_data"
    },
    {
     "data": {
      "text/plain": [
       "Spark Web UI available at http://bae5ef2081fd:4043\n",
       "SparkContext available as 'sc' (version = 3.0.0-preview2, master = local[*], app id = local-1620453246932)\n",
       "SparkSession available as 'spark'\n"
      ]
     },
     "metadata": {},
     "output_type": "display_data"
    },
    {
     "data": {
      "text/plain": [
       "res0: String = hello\n"
      ]
     },
     "execution_count": 1,
     "metadata": {},
     "output_type": "execute_result"
    }
   ],
   "source": [
    "\"hello\""
   ]
  },
  {
   "cell_type": "code",
   "execution_count": 2,
   "metadata": {},
   "outputs": [
    {
     "data": {
      "text/plain": [
       "res1: String = hello\n"
      ]
     },
     "execution_count": 2,
     "metadata": {},
     "output_type": "execute_result"
    }
   ],
   "source": [
    "\"hel\" + 'l' + \"o\""
   ]
  },
  {
   "cell_type": "markdown",
   "metadata": {},
   "source": [
    "### Defining Values and Variables with Expressions\n",
    "**Syntax**\n",
    "\n",
    "```val <identifier>[: <type>] = <expression>\n",
    "var <identifier>[: <type>] = <expression>```"
   ]
  },
  {
   "cell_type": "code",
   "execution_count": 3,
   "metadata": {},
   "outputs": [
    {
     "data": {
      "text/plain": [
       "x: Int = 100\n",
       "amount: Int = 110\n"
      ]
     },
     "execution_count": 3,
     "metadata": {},
     "output_type": "execute_result"
    }
   ],
   "source": [
    "val x = 5 * 20; val amount = x + 10"
   ]
  },
  {
   "cell_type": "markdown",
   "metadata": {},
   "source": [
    "#### Expression Blocks"
   ]
  },
  {
   "cell_type": "code",
   "execution_count": 6,
   "metadata": {},
   "outputs": [
    {
     "data": {
      "text/plain": [
       "amount: Int = 110\n"
      ]
     },
     "execution_count": 6,
     "metadata": {},
     "output_type": "execute_result"
    }
   ],
   "source": [
    "val amount = \n",
    "{\n",
    "    val x = 5 * 20\n",
    "    x + 10\n",
    "}"
   ]
  },
  {
   "cell_type": "code",
   "execution_count": 7,
   "metadata": {},
   "outputs": [
    {
     "data": {
      "text/plain": [
       "result: Boolean = false\n"
      ]
     },
     "execution_count": 7,
     "metadata": {},
     "output_type": "execute_result"
    }
   ],
   "source": [
    "// Now go back to the exercise in chapter 2\n",
    "val result: Boolean = {val flag = false; flag}"
   ]
  },
  {
   "cell_type": "code",
   "execution_count": 25,
   "metadata": {},
   "outputs": [
    {
     "data": {
      "text/plain": [
       "nested: Int = 6\n"
      ]
     },
     "execution_count": 25,
     "metadata": {},
     "output_type": "execute_result"
    }
   ],
   "source": [
    "val nested = \n",
    "{ \n",
    "  val a = 1;\n",
    "  { \n",
    "     val b = a * 2;\n",
    "     { \n",
    "        val c = b + 4; c\n",
    "     }\n",
    "  }\n",
    "}"
   ]
  },
  {
   "cell_type": "code",
   "execution_count": 22,
   "metadata": {},
   "outputs": [
    {
     "data": {
      "text/plain": [
       "strName: String = Atin\n",
       "age: Int = 40\n"
      ]
     },
     "execution_count": 22,
     "metadata": {},
     "output_type": "execute_result"
    }
   ],
   "source": [
    "var strName = \"Atin\"\n",
    "var age = 40"
   ]
  },
  {
   "cell_type": "markdown",
   "metadata": {},
   "source": [
    "#### Statements\n",
    "An expression that doesn't return a value - it return type of `Unit`, which is the type that indicates the lack of a value."
   ]
  },
  {
   "cell_type": "markdown",
   "metadata": {},
   "source": [
    "### If...Else Expression Blocks\n",
    "**Syntax: Using an If Expression**\n",
    "\n",
    "`if (<Boolean expression>) <expression>`"
   ]
  },
  {
   "cell_type": "code",
   "execution_count": 31,
   "metadata": {},
   "outputs": [
    {
     "name": "stdout",
     "output_type": "stream",
     "text": [
      "Atin"
     ]
    }
   ],
   "source": [
    "if (47 % 3 < 0) print(\"Not a multiple of 3\") else print(\"Atin\")"
   ]
  },
  {
   "cell_type": "code",
   "execution_count": 34,
   "metadata": {},
   "outputs": [
    {
     "data": {
      "text/plain": [
       "result: Any = ()\n"
      ]
     },
     "execution_count": 34,
     "metadata": {},
     "output_type": "execute_result"
    }
   ],
   "source": [
    "val result = if ( false ) \"what does this return?\""
   ]
  },
  {
   "cell_type": "markdown",
   "metadata": {},
   "source": [
    "#### If-Else Expressions\n",
    "```if (<Boolean expression>) <expression>\n",
    "else <expression>```"
   ]
  },
  {
   "cell_type": "code",
   "execution_count": 35,
   "metadata": {},
   "outputs": [
    {
     "data": {
      "text/plain": [
       "x: Int = 10\n",
       "y: Int = 20\n"
      ]
     },
     "execution_count": 35,
     "metadata": {},
     "output_type": "execute_result"
    }
   ],
   "source": [
    "val x = 10; val y = 20"
   ]
  },
  {
   "cell_type": "code",
   "execution_count": 36,
   "metadata": {},
   "outputs": [
    {
     "data": {
      "text/plain": [
       "max: Int = 20\n"
      ]
     },
     "execution_count": 36,
     "metadata": {},
     "output_type": "execute_result"
    }
   ],
   "source": [
    "val max = if (x > y) x else y"
   ]
  },
  {
   "cell_type": "markdown",
   "metadata": {},
   "source": [
    "## Match Expressions\n",
    "These are akin to C's and Java's \"switch\" statements\n",
    "\n",
    "**Syntax**\n",
    "```<expression> match {\n",
    "case <pattern match> => <expression>\n",
    "[case ...]```"
   ]
  },
  {
   "cell_type": "code",
   "execution_count": 39,
   "metadata": {},
   "outputs": [
    {
     "data": {
      "text/plain": [
       "status: Int = 200\n"
      ]
     },
     "execution_count": 39,
     "metadata": {},
     "output_type": "execute_result"
    }
   ],
   "source": [
    "val status = 200"
   ]
  },
  {
   "cell_type": "code",
   "execution_count": 40,
   "metadata": {},
   "outputs": [
    {
     "data": {
      "text/plain": [
       "message: String = okay\n"
      ]
     },
     "execution_count": 40,
     "metadata": {},
     "output_type": "execute_result"
    }
   ],
   "source": [
    "val message = \n",
    "\n",
    "status match {\n",
    "    case 200 =>\n",
    "        \"okay\"\n",
    "    case 400 => {\n",
    "        println(\"ERROR - we called the service incorrectly\")\n",
    "        \"error\"\n",
    "    }\n",
    "    case 500 => {\n",
    "        println(\"ERROR - the service encountered an error\")\n",
    "        \"error\"\n",
    "    }\n",
    "}"
   ]
  },
  {
   "cell_type": "markdown",
   "metadata": {},
   "source": [
    "#### Syntax: A Pattern Alternative\n",
    "`case <pattern 1> | <pattern 2> .. => <one or more expression>`"
   ]
  },
  {
   "cell_type": "code",
   "execution_count": 41,
   "metadata": {},
   "outputs": [
    {
     "data": {
      "text/plain": [
       "day: String = MON\n"
      ]
     },
     "execution_count": 41,
     "metadata": {},
     "output_type": "execute_result"
    }
   ],
   "source": [
    "val day = \"MON\""
   ]
  },
  {
   "cell_type": "code",
   "execution_count": 42,
   "metadata": {},
   "outputs": [
    {
     "data": {
      "text/plain": [
       "kind: String = weekday\n"
      ]
     },
     "execution_count": 42,
     "metadata": {},
     "output_type": "execute_result"
    }
   ],
   "source": [
    "val kind = \n",
    "\n",
    "day match {\n",
    "    case \"MON\" | \"TUE\" | \"WED\" | \"THU\" | \"FRI\" => \n",
    "        \"weekday\"\n",
    "    case \"SAT\" | \"SUN\" =>\n",
    "        \"weekend\"\n",
    "}"
   ]
  },
  {
   "cell_type": "markdown",
   "metadata": {},
   "source": [
    "### Matching with Wildcard Patterns\n",
    "#### Syntax: A Value Binding Pattern\n",
    "`case <identifier> => <one or more expressions>`"
   ]
  },
  {
   "cell_type": "code",
   "execution_count": 50,
   "metadata": {},
   "outputs": [
    {
     "data": {
      "text/plain": [
       "message: String = Atin\n"
      ]
     },
     "execution_count": 50,
     "metadata": {},
     "output_type": "execute_result"
    }
   ],
   "source": [
    "val message = \"Atin\""
   ]
  },
  {
   "cell_type": "code",
   "execution_count": 52,
   "metadata": {},
   "outputs": [
    {
     "ename": "scala.MatchError",
     "evalue": " Atin (of class java.lang.String)",
     "output_type": "error",
     "traceback": [
      "scala.MatchError: Atin (of class java.lang.String)",
      "  ... 36 elided",
      ""
     ]
    }
   ],
   "source": [
    "val status = \n",
    "\n",
    "message match {\n",
    "    case \"Ok\" => 200\n",
    "    case \"ok\" => 201\n",
    "    case other => {\n",
    "        println(s\"Couldn't parse $other\")\n",
    "        -1\n",
    "    }\n",
    "}"
   ]
  },
  {
   "cell_type": "markdown",
   "metadata": {},
   "source": [
    "#### Syntax: A Wildcard Operator Pattern\n",
    "`case _ => <one or more expressions>`"
   ]
  },
  {
   "cell_type": "code",
   "execution_count": 69,
   "metadata": {},
   "outputs": [
    {
     "name": "stdout",
     "output_type": "stream",
     "text": [
      "Couldn't parse Atin\n"
     ]
    },
    {
     "data": {
      "text/plain": [
       "message: String = Atin\n",
       "status: Any = -1\n"
      ]
     },
     "execution_count": 69,
     "metadata": {},
     "output_type": "execute_result"
    }
   ],
   "source": [
    "val message = \"Atin\"\n",
    "val status = message match {\n",
    "   \n",
    "    \n",
    "    case \"Ok\" => 200\n",
    "    \n",
    "    case _: String => { \n",
    "        println(s\"Couldn't parse $message\")\n",
    "        -1\n",
    "    }\n",
    "\n",
    "    case other => \"other\"\n",
    "\n",
    "}"
   ]
  },
  {
   "cell_type": "markdown",
   "metadata": {},
   "source": [
    "### Matching with Pattern Guards\n",
    "#### Syntax: A Pattern Guard\n",
    "`case <pattern> if <Boolean expression> => <one or more expressions>`"
   ]
  },
  {
   "cell_type": "code",
   "execution_count": 10,
   "metadata": {},
   "outputs": [
    {
     "data": {
      "text/plain": [
       "response: String = Atin Gupta\n"
      ]
     },
     "execution_count": 10,
     "metadata": {},
     "output_type": "execute_result"
    }
   ],
   "source": [
    "val response: String = \"Atin Gupta\""
   ]
  },
  {
   "cell_type": "code",
   "execution_count": 11,
   "metadata": {},
   "outputs": [
    {
     "name": "stdout",
     "output_type": "stream",
     "text": [
      "Received 'Atin Gupta'\n"
     ]
    },
    {
     "data": {
      "text/plain": [
       "<console>:31: warning: patterns after a variable pattern cannot match (SLS 8.1.1)\n",
       "If you intended to match against variable name in class $iw, you must use backticks, like: case `name` =>\n",
       "           case name => println(s\"Received '$name'\")\n",
       "                ^\n",
       "<console>:32: warning: unreachable code due to variable pattern 'name' on line 31\n",
       "If you intended to match against variable otherName in class $iw, you must use backticks, like: case `otherName` =>\n",
       "           case otherName => println(\"Error! Received a null response\")\n",
       "                                    ^\n",
       "<console>:32: warning: unreachable code\n",
       "           case otherName => println(\"Error! Received a null response\")\n",
       "                                    ^\n",
       "name: String = Atin Gupta\n",
       "otherName: String = Divya\n"
      ]
     },
     "execution_count": 11,
     "metadata": {},
     "output_type": "execute_result"
    }
   ],
   "source": [
    "var name = \"Atin Gupta\"\n",
    "var otherName = \"Divya\"\n",
    "response match {\n",
    "    case name => println(s\"Received '$name'\")\n",
    "    case otherName => println(\"Error! Received a null response\")\n",
    "}"
   ]
  },
  {
   "cell_type": "code",
   "execution_count": 20,
   "metadata": {},
   "outputs": [
    {
     "name": "stdout",
     "output_type": "stream",
     "text": [
      "Error! Received other response\n"
     ]
    },
    {
     "data": {
      "text/plain": [
       "response: String = Atin Gupta\n"
      ]
     },
     "execution_count": 20,
     "metadata": {},
     "output_type": "execute_result"
    }
   ],
   "source": [
    "var response = \"Atin Gupta\"\n",
    "response match {\n",
    "    case t if t == \"Atin\" => println(s\"Received '$t'\")\n",
    "    \n",
    "    case \"Atin Gupta\" => println(s\"Error! Received other response\")\n",
    "}"
   ]
  },
  {
   "cell_type": "markdown",
   "metadata": {},
   "source": [
    "### Matching Types with Pattern Variables\n",
    "#### Specifying a Pattern variable\n",
    "`case <identifier>: <type> => <one or more expression>`"
   ]
  },
  {
   "cell_type": "code",
   "execution_count": 12,
   "metadata": {},
   "outputs": [
    {
     "data": {
      "text/plain": [
       "y: Any = 123.238\n"
      ]
     },
     "execution_count": 12,
     "metadata": {},
     "output_type": "execute_result"
    }
   ],
   "source": [
    "val y: Any = 123.238"
   ]
  },
  {
   "cell_type": "code",
   "execution_count": 16,
   "metadata": {},
   "outputs": [
    {
     "data": {
      "text/plain": [
       "res9: String = 123.238\n"
      ]
     },
     "execution_count": 16,
     "metadata": {},
     "output_type": "execute_result"
    }
   ],
   "source": [
    "y match {\n",
    "    case x: String => s\"'x'\"\n",
    "    case x: Double => f\"$x%.3f\"\n",
    "    case x: Float => f\"$x%.3f\"\n",
    "    case x: Long => s\"${x}l\"\n",
    "    case x: Int => s\"${x}i\"\n",
    "}"
   ]
  },
  {
   "cell_type": "markdown",
   "metadata": {},
   "source": [
    "## Loops\n",
    "#### Syntax: Defining a Numeric Range\n",
    "`<starting integer> [to|until} <ending integer> [by increment]`\n",
    "#### Syntax: Iterating with a Basic For-Loop\n",
    "`for (<identifier> <- <iterator>) [yield] [<expression>]`"
   ]
  },
  {
   "cell_type": "code",
   "execution_count": 14,
   "metadata": {},
   "outputs": [
    {
     "name": "stdout",
     "output_type": "stream",
     "text": [
      "Day 1:\n",
      "Day 2:\n",
      "Day 3:\n",
      "Day 4:\n",
      "Day 5:\n",
      "Day 6:\n",
      "Day 7:\n"
     ]
    }
   ],
   "source": [
    "for (x <- 1 to 7) {println(s\"Day $x:\")}"
   ]
  },
  {
   "cell_type": "code",
   "execution_count": 15,
   "metadata": {},
   "outputs": [
    {
     "data": {
      "text/plain": [
       "\u001b[36mres14\u001b[39m: \u001b[32mcollection\u001b[39m.\u001b[32mimmutable\u001b[39m.\u001b[32mIndexedSeq\u001b[39m[\u001b[32mString\u001b[39m] = \u001b[33mVector\u001b[39m(\u001b[32m\"Day 1:\"\u001b[39m, \u001b[32m\"Day 2:\"\u001b[39m, \u001b[32m\"Day 3:\"\u001b[39m, \u001b[32m\"Day 4:\"\u001b[39m, \u001b[32m\"Day 5:\"\u001b[39m, \u001b[32m\"Day 6:\"\u001b[39m, \u001b[32m\"Day 7:\"\u001b[39m)"
      ]
     },
     "execution_count": 15,
     "metadata": {},
     "output_type": "execute_result"
    }
   ],
   "source": [
    "for (x <- 1 to 7) yield {s\"Day $x:\" }"
   ]
  },
  {
   "cell_type": "code",
   "execution_count": 16,
   "metadata": {},
   "outputs": [
    {
     "name": "stdout",
     "output_type": "stream",
     "text": [
      "Day 1:, Day 2:, Day 3:, Day 4:, Day 5:, Day 6:, Day 7:, "
     ]
    }
   ],
   "source": [
    "for (day <- res14) print(day + \", \")"
   ]
  },
  {
   "cell_type": "markdown",
   "metadata": {},
   "source": [
    "### Iterator Guards\n",
    "Also known as a filter adds an `if` expression to an interator.\n",
    "#### Syntax: An Iterator Guard\n",
    "`for (<identifier> <- <iterator> if <Boolean expression>)...`"
   ]
  },
  {
   "cell_type": "code",
   "execution_count": 17,
   "metadata": {},
   "outputs": [
    {
     "data": {
      "text/plain": [
       "\u001b[36mthrees\u001b[39m: \u001b[32mcollection\u001b[39m.\u001b[32mimmutable\u001b[39m.\u001b[32mIndexedSeq\u001b[39m[\u001b[32mInt\u001b[39m] = \u001b[33mVector\u001b[39m(\u001b[32m3\u001b[39m, \u001b[32m6\u001b[39m, \u001b[32m9\u001b[39m, \u001b[32m12\u001b[39m, \u001b[32m15\u001b[39m, \u001b[32m18\u001b[39m)"
      ]
     },
     "execution_count": 17,
     "metadata": {},
     "output_type": "execute_result"
    }
   ],
   "source": [
    "val threes = for (i <- 1 to 20 if i % 3 == 0) yield i"
   ]
  },
  {
   "cell_type": "code",
   "execution_count": 13,
   "metadata": {},
   "outputs": [
    {
     "data": {
      "text/plain": [
       "quote: String = Faith,Hope,A,Charity\n"
      ]
     },
     "execution_count": 13,
     "metadata": {},
     "output_type": "execute_result"
    }
   ],
   "source": [
    "val quote = \"Faith,Hope,A,Charity\""
   ]
  },
  {
   "cell_type": "code",
   "execution_count": 15,
   "metadata": {},
   "outputs": [
    {
     "name": "stdout",
     "output_type": "stream",
     "text": [
      "Faith\n",
      "Hope\n",
      "Charity\n"
     ]
    }
   ],
   "source": [
    "for { strVal <- quote.split(\",\")\n",
    "    if strVal != null\n",
    "    if strVal.size > 1\n",
    "}\n",
    "{println(strVal)}"
   ]
  },
  {
   "cell_type": "code",
   "execution_count": 3,
   "metadata": {},
   "outputs": [
    {
     "name": "stdout",
     "output_type": "stream",
     "text": [
      "(1, 1) (1, 2) (1, 3) (2, 1) (2, 2) (2, 3) "
     ]
    }
   ],
   "source": [
    "for { x <- 1 to 2\n",
    "    y <- 1 to 3}\n",
    "{print(s\"($x, $y) \")}"
   ]
  },
  {
   "cell_type": "markdown",
   "metadata": {},
   "source": [
    "### Value Binding\n",
    "`for (<identifier> <- <iterator>; <identifier> = <expression>)...`"
   ]
  },
  {
   "cell_type": "code",
   "execution_count": 4,
   "metadata": {},
   "outputs": [
    {
     "data": {
      "text/plain": [
       "\u001b[36mpowerOf2\u001b[39m: \u001b[32mcollection\u001b[39m.\u001b[32mimmutable\u001b[39m.\u001b[32mIndexedSeq\u001b[39m[\u001b[32mInt\u001b[39m] = \u001b[33mVector\u001b[39m(\u001b[32m1\u001b[39m, \u001b[32m2\u001b[39m, \u001b[32m4\u001b[39m, \u001b[32m8\u001b[39m, \u001b[32m16\u001b[39m, \u001b[32m32\u001b[39m, \u001b[32m64\u001b[39m, \u001b[32m128\u001b[39m, \u001b[32m256\u001b[39m)"
      ]
     },
     "execution_count": 4,
     "metadata": {},
     "output_type": "execute_result"
    }
   ],
   "source": [
    "val powerOf2 = for (i <- 0 to 8; pow = 1 << i) yield pow"
   ]
  },
  {
   "cell_type": "markdown",
   "metadata": {},
   "source": [
    "### While and Do/While Loops\n",
    "`while (<Boolean expression>) statement`"
   ]
  },
  {
   "cell_type": "code",
   "execution_count": 5,
   "metadata": {},
   "outputs": [
    {
     "data": {
      "text/plain": [
       "\u001b[36mx\u001b[39m: \u001b[32mInt\u001b[39m = \u001b[32m0\u001b[39m"
      ]
     },
     "execution_count": 5,
     "metadata": {},
     "output_type": "execute_result"
    }
   ],
   "source": [
    "var x = 10; while (x > 0) x -= 1"
   ]
  },
  {
   "cell_type": "markdown",
   "metadata": {},
   "source": [
    "### Exercise 1\n",
    " - Given a string name, write a match expression that will return the same string if\n",
    "nonempty, or else the string “n/a” if it is empty."
   ]
  },
  {
   "cell_type": "code",
   "execution_count": 13,
   "metadata": {},
   "outputs": [
    {
     "data": {
      "text/plain": [
       "\u001b[36mname\u001b[39m: \u001b[32mString\u001b[39m = \u001b[32m\"Hello\"\u001b[39m"
      ]
     },
     "execution_count": 13,
     "metadata": {},
     "output_type": "execute_result"
    }
   ],
   "source": [
    "val name = \"Hello\""
   ]
  },
  {
   "cell_type": "code",
   "execution_count": 14,
   "metadata": {},
   "outputs": [
    {
     "data": {
      "text/plain": [
       "\u001b[36mrepeat\u001b[39m: \u001b[32mString\u001b[39m = \u001b[32m\"Hello\"\u001b[39m"
      ]
     },
     "execution_count": 14,
     "metadata": {},
     "output_type": "execute_result"
    }
   ],
   "source": [
    "val repeat = name match {\n",
    "    case s if (!s.isEmpty) => name\n",
    "    case _ => \"n/a\"\n",
    "}"
   ]
  },
  {
   "cell_type": "markdown",
   "metadata": {},
   "source": [
    "### Exercise 2\n",
    " - Given a double amount, write an expression to return “greater” if it is more than\n",
    "zero, “same” if it equals zero, and “less” if it is less than zero. Can you write this with\n",
    "if..else blocks? How about with match expressions?"
   ]
  },
  {
   "cell_type": "code",
   "execution_count": 21,
   "metadata": {},
   "outputs": [
    {
     "data": {
      "text/plain": [
       "\u001b[36mamount\u001b[39m: \u001b[32mDouble\u001b[39m = \u001b[32m0.0\u001b[39m"
      ]
     },
     "execution_count": 21,
     "metadata": {},
     "output_type": "execute_result"
    }
   ],
   "source": [
    "val amount: Double = 0.0"
   ]
  },
  {
   "cell_type": "code",
   "execution_count": 22,
   "metadata": {},
   "outputs": [
    {
     "data": {
      "text/plain": [
       "\u001b[36mstatus\u001b[39m: \u001b[32mString\u001b[39m = \u001b[32m\"same\"\u001b[39m"
      ]
     },
     "execution_count": 22,
     "metadata": {},
     "output_type": "execute_result"
    }
   ],
   "source": [
    "val status = amount match {\n",
    "    case s if (s > 0) => \"greater\"\n",
    "    case s if (s < 0) => \"less\"\n",
    "    case _ => \"same\"\n",
    "}"
   ]
  },
  {
   "cell_type": "code",
   "execution_count": 23,
   "metadata": {},
   "outputs": [
    {
     "data": {
      "text/plain": [
       "\u001b[36mstatus\u001b[39m: \u001b[32mString\u001b[39m = \u001b[32m\"same\"\u001b[39m"
      ]
     },
     "execution_count": 23,
     "metadata": {},
     "output_type": "execute_result"
    }
   ],
   "source": [
    "val status = if (amount > 0) \"greater\" else if (amount < 0 ) \"lesser\" else \"same\""
   ]
  },
  {
   "cell_type": "markdown",
   "metadata": {},
   "source": [
    "### Exercise 3\n",
    " - Write an expression to convert one of the input values cyan, magenta, yellow to\n",
    "their six-char hexadecimal equivalents in string form. What can you do to handle\n",
    "error conditions?"
   ]
  },
  {
   "cell_type": "code",
   "execution_count": 30,
   "metadata": {},
   "outputs": [
    {
     "data": {
      "text/plain": [
       "\u001b[36mname\u001b[39m: \u001b[32mString\u001b[39m = \u001b[32m\"hello\"\u001b[39m"
      ]
     },
     "execution_count": 30,
     "metadata": {},
     "output_type": "execute_result"
    }
   ],
   "source": [
    "val name: String = \"hello\""
   ]
  },
  {
   "cell_type": "code",
   "execution_count": 31,
   "metadata": {},
   "outputs": [
    {
     "name": "stdout",
     "output_type": "stream",
     "text": [
      "Invalid input\n"
     ]
    },
    {
     "data": {
      "text/plain": [
       "\u001b[36mcode\u001b[39m: \u001b[32mAny\u001b[39m = -1"
      ]
     },
     "execution_count": 31,
     "metadata": {},
     "output_type": "execute_result"
    }
   ],
   "source": [
    "// TODO: How to catch exceptions? e.g. entry not a string?\n",
    "val code = name match {\n",
    "    case \"cyan\" => \"00ffff\"\n",
    "    case \"magenta\" => \"ff00ff\"\n",
    "    case \"yellow\" => \"ffff00\"\n",
    "    case _ => {\n",
    "        println(\"Invalid input\")\n",
    "        -1\n",
    "    }\n",
    "}"
   ]
  },
  {
   "cell_type": "code",
   "execution_count": null,
   "metadata": {
    "collapsed": true
   },
   "outputs": [],
   "source": []
  }
 ],
 "metadata": {
  "kernelspec": {
   "display_name": "spylon-kernel",
   "language": "scala",
   "name": "spylon-kernel"
  },
  "language_info": {
   "codemirror_mode": "text/x-scala",
   "file_extension": ".scala",
   "help_links": [
    {
     "text": "MetaKernel Magics",
     "url": "https://metakernel.readthedocs.io/en/latest/source/README.html"
    }
   ],
   "mimetype": "text/x-scala",
   "name": "scala",
   "pygments_lexer": "scala",
   "version": "0.4.1"
  },
  "varInspector": {
   "cols": {
    "lenName": 16,
    "lenType": 16,
    "lenVar": 40
   },
   "kernels_config": {
    "python": {
     "delete_cmd_postfix": "",
     "delete_cmd_prefix": "del ",
     "library": "var_list.py",
     "varRefreshCmd": "print(var_dic_list())"
    },
    "r": {
     "delete_cmd_postfix": ") ",
     "delete_cmd_prefix": "rm(",
     "library": "var_list.r",
     "varRefreshCmd": "cat(var_dic_list()) "
    }
   },
   "types_to_exclude": [
    "module",
    "function",
    "builtin_function_or_method",
    "instance",
    "_Feature"
   ],
   "window_display": false
  }
 },
 "nbformat": 4,
 "nbformat_minor": 2
}
