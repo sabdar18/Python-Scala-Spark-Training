{
 "cells": [
  {
   "cell_type": "markdown",
   "metadata": {},
   "source": [
    "# Working with Data: Literals, Values, Variables and Type"
   ]
  },
  {
   "cell_type": "markdown",
   "metadata": {},
   "source": [
    "### Booleans"
   ]
  },
  {
   "cell_type": "code",
   "execution_count": 1,
   "metadata": {},
   "outputs": [
    {
     "data": {
      "text/plain": [
       "Intitializing Scala interpreter ..."
      ]
     },
     "metadata": {},
     "output_type": "display_data"
    },
    {
     "data": {
      "text/plain": [
       "Spark Web UI available at http://bae5ef2081fd:4054\n",
       "SparkContext available as 'sc' (version = 3.0.0-preview2, master = local[*], app id = local-1620391703485)\n",
       "SparkSession available as 'spark'\n"
      ]
     },
     "metadata": {},
     "output_type": "display_data"
    },
    {
     "data": {
      "text/plain": [
       "zero: Int = 0\n"
      ]
     },
     "execution_count": 1,
     "metadata": {},
     "output_type": "execute_result"
    }
   ],
   "source": [
    "val zero = 0"
   ]
  },
  {
   "cell_type": "code",
   "execution_count": 6,
   "metadata": {
    "scrolled": true
   },
   "outputs": [
    {
     "data": {
      "text/plain": [
       "isValid: Boolean = true\n"
      ]
     },
     "execution_count": 6,
     "metadata": {},
     "output_type": "execute_result"
    }
   ],
   "source": [
    "val isValid = zero > 4"
   ]
  },
  {
   "cell_type": "markdown",
   "metadata": {},
   "source": [
    "### Tuples\n",
    "Ordered container of two or more values, all of which may have different types.\n",
    "\n",
    "Syntax: Create a tuple\n",
    "\n",
    "`( <value 1>, <value 2>[, <value 3>...])`"
   ]
  },
  {
   "cell_type": "code",
   "execution_count": 7,
   "metadata": {},
   "outputs": [
    {
     "data": {
      "text/plain": [
       "info: (Int, String, Boolean) = (5,Korben,true)\n"
      ]
     },
     "execution_count": 7,
     "metadata": {},
     "output_type": "execute_result"
    }
   ],
   "source": [
    "val info = (5, \"Korben\", true)"
   ]
  },
  {
   "cell_type": "code",
   "execution_count": 17,
   "metadata": {},
   "outputs": [
    {
     "data": {
      "text/plain": [
       "name: Int = 5\n"
      ]
     },
     "execution_count": 17,
     "metadata": {},
     "output_type": "execute_result"
    }
   ],
   "source": [
    "val name = info._1"
   ]
  },
  {
   "cell_type": "code",
   "execution_count": 26,
   "metadata": {},
   "outputs": [
    {
     "ename": "<console>",
     "evalue": "26: error: reassignment to val",
     "output_type": "error",
     "traceback": [
      "<console>:26: error: reassignment to val",
      "       info._1 = 4",
      "               ^",
      ""
     ]
    }
   ],
   "source": [
    "info._1 = 4\n"
   ]
  },
  {
   "cell_type": "code",
   "execution_count": 29,
   "metadata": {},
   "outputs": [
    {
     "ename": "<console>",
     "evalue": "28: error: value head is not a member of (Int, String, Boolean)",
     "output_type": "error",
     "traceback": [
      "<console>:28: error: value head is not a member of (Int, String, Boolean)",
      "       info.head",
      "            ^",
      ""
     ]
    }
   ],
   "source": [
    "info.head"
   ]
  },
  {
   "cell_type": "code",
   "execution_count": 31,
   "metadata": {},
   "outputs": [
    {
     "ename": "<console>",
     "evalue": "28: error: value isEmpty is not a member of (Int, String, Boolean)",
     "output_type": "error",
     "traceback": [
      "<console>:28: error: value isEmpty is not a member of (Int, String, Boolean)",
      "       info.isEmpty",
      "            ^",
      ""
     ]
    }
   ],
   "source": [
    "info.isEmpty"
   ]
  },
  {
   "cell_type": "code",
   "execution_count": null,
   "metadata": {},
   "outputs": [],
   "source": []
  },
  {
   "cell_type": "code",
   "execution_count": 23,
   "metadata": {},
   "outputs": [
    {
     "data": {
      "text/plain": [
       "red: ((String, String), String) = ((red,0xff0000),A)\n"
      ]
     },
     "execution_count": 23,
     "metadata": {},
     "output_type": "execute_result"
    }
   ],
   "source": [
    "val red = \"red\" -> \"0xff0000\" -> \"A\""
   ]
  },
  {
   "cell_type": "code",
   "execution_count": 25,
   "metadata": {},
   "outputs": [
    {
     "ename": "<console>",
     "evalue": "26: error: reassignment to val",
     "output_type": "error",
     "traceback": [
      "<console>:26: error: reassignment to val",
      "       red = 1",
      "           ^",
      ""
     ]
    }
   ],
   "source": [
    "red = 1"
   ]
  },
  {
   "cell_type": "code",
   "execution_count": 7,
   "metadata": {},
   "outputs": [
    {
     "data": {
      "text/plain": [
       "reversed: (String, String) = (0xff0000,red)\n"
      ]
     },
     "execution_count": 7,
     "metadata": {},
     "output_type": "execute_result"
    }
   ],
   "source": [
    "val reversed = red._2 -> red._1"
   ]
  },
  {
   "cell_type": "markdown",
   "metadata": {},
   "source": [
    "## List in Scala"
   ]
  },
  {
   "cell_type": "code",
   "execution_count": 35,
   "metadata": {},
   "outputs": [
    {
     "data": {
      "text/plain": [
       "a: List[Any] = List(1, 2, aatin)\n"
      ]
     },
     "execution_count": 35,
     "metadata": {},
     "output_type": "execute_result"
    }
   ],
   "source": [
    "var a=List(1,2,\"aatin\")"
   ]
  },
  {
   "cell_type": "code",
   "execution_count": 36,
   "metadata": {},
   "outputs": [
    {
     "data": {
      "text/plain": [
       "a: List[Any] = List(10, 2, aatin)\n"
      ]
     },
     "execution_count": 36,
     "metadata": {},
     "output_type": "execute_result"
    }
   ],
   "source": [
    "a=List(10,2,\"aatin\")"
   ]
  },
  {
   "cell_type": "code",
   "execution_count": 33,
   "metadata": {},
   "outputs": [
    {
     "data": {
      "text/plain": [
       "res6: Any = aatin\n"
      ]
     },
     "execution_count": 33,
     "metadata": {},
     "output_type": "execute_result"
    }
   ],
   "source": [
    "a(2)"
   ]
  },
  {
   "cell_type": "code",
   "execution_count": 34,
   "metadata": {},
   "outputs": [
    {
     "ename": "<console>",
     "evalue": "2: error: ';' expected but '#' found.",
     "output_type": "error",
     "traceback": [
      "<console>:2: error: ';' expected but '#' found.",
      "       a(3)=98   # Its immutable in Scala",
      "                 ^",
      ""
     ]
    }
   ],
   "source": [
    "a(3)=98   # Its immutable in Scala"
   ]
  },
  {
   "cell_type": "code",
   "execution_count": 40,
   "metadata": {},
   "outputs": [
    {
     "data": {
      "text/plain": [
       "res10: Any = 10\n"
      ]
     },
     "execution_count": 40,
     "metadata": {},
     "output_type": "execute_result"
    }
   ],
   "source": [
    "a.head"
   ]
  },
  {
   "cell_type": "code",
   "execution_count": 41,
   "metadata": {},
   "outputs": [
    {
     "data": {
      "text/plain": [
       "res11: List[Any] = List(2, aatin)\n"
      ]
     },
     "execution_count": 41,
     "metadata": {},
     "output_type": "execute_result"
    }
   ],
   "source": [
    "a.tail"
   ]
  },
  {
   "cell_type": "code",
   "execution_count": 42,
   "metadata": {},
   "outputs": [
    {
     "data": {
      "text/plain": [
       "res12: Boolean = false\n"
      ]
     },
     "execution_count": 42,
     "metadata": {},
     "output_type": "execute_result"
    }
   ],
   "source": [
    "a.isEmpty"
   ]
  },
  {
   "cell_type": "code",
   "execution_count": 43,
   "metadata": {},
   "outputs": [
    {
     "data": {
      "text/plain": [
       "a: List[Int] = List(1, 2, 3)\n"
      ]
     },
     "execution_count": 43,
     "metadata": {},
     "output_type": "execute_result"
    }
   ],
   "source": [
    "val a=List(1,2,3)"
   ]
  },
  {
   "cell_type": "code",
   "execution_count": 44,
   "metadata": {},
   "outputs": [
    {
     "data": {
      "text/plain": [
       "b: List[Int] = List(4, 5, 6)\n"
      ]
     },
     "execution_count": 44,
     "metadata": {},
     "output_type": "execute_result"
    }
   ],
   "source": [
    "val b=List(4,5,6)"
   ]
  },
  {
   "cell_type": "code",
   "execution_count": 45,
   "metadata": {},
   "outputs": [
    {
     "data": {
      "text/plain": [
       "res13: List[Int] = List(1, 2, 3, 4, 5, 6)\n"
      ]
     },
     "execution_count": 45,
     "metadata": {},
     "output_type": "execute_result"
    }
   ],
   "source": [
    "// Concatenation using :::\n",
    "a:::b"
   ]
  },
  {
   "cell_type": "code",
   "execution_count": 22,
   "metadata": {},
   "outputs": [
    {
     "data": {
      "text/plain": [
       "res9: List[Int] = List(1, 2, 3, 4, 5, 6)\n"
      ]
     },
     "execution_count": 22,
     "metadata": {},
     "output_type": "execute_result"
    }
   ],
   "source": [
    "// Concatenation using List.concat\n",
    "List.concat(a,b)"
   ]
  },
  {
   "cell_type": "code",
   "execution_count": 23,
   "metadata": {},
   "outputs": [],
   "source": [
    "// Reversing a Scala List\n",
    "a.reverse"
   ]
  },
  {
   "cell_type": "code",
   "execution_count": 24,
   "metadata": {},
   "outputs": [
    {
     "data": {
      "text/plain": [
       "res11: Int = 3\n"
      ]
     },
     "execution_count": 24,
     "metadata": {},
     "output_type": "execute_result"
    }
   ],
   "source": [
    "// Methods\n",
    "a.max"
   ]
  },
  {
   "cell_type": "code",
   "execution_count": 25,
   "metadata": {},
   "outputs": [
    {
     "data": {
      "text/plain": [
       "res12: Int = 1\n"
      ]
     },
     "execution_count": 25,
     "metadata": {},
     "output_type": "execute_result"
    }
   ],
   "source": [
    "a.min"
   ]
  },
  {
   "cell_type": "markdown",
   "metadata": {},
   "source": [
    " - The difference between a Tuple and a List[Any] is that a Tuple can hold elements of multiple data types, still maintaining the data type of the individual elements.\n",
    " - While a List or Array can only hold elements of a single data type, so a List[Any] will consist of all elements of type Any , so it'll basically convert all the elements (irrespective of their earlier data-type) to Any.\n"
   ]
  },
  {
   "cell_type": "markdown",
   "metadata": {},
   "source": [
    " - The Scala List is an immutable recursive\n",
    " - Array is actually mutable\n",
    " - List is variable size but Array is fixed size"
   ]
  },
  {
   "cell_type": "markdown",
   "metadata": {},
   "source": [
    "# Exercises\n",
    "### Exercise 1\n",
    " - Write a new Centigrade-to-Fahrenheit conversion (using the formula (x * 9/5) +\n",
    "32), saving each step of the conversion into separate values. What do you expect\n",
    "the type of each value will be?"
   ]
  },
  {
   "cell_type": "code",
   "execution_count": 55,
   "metadata": {},
   "outputs": [
    {
     "data": {
      "text/plain": [
       "centigrade: Int = 30\n",
       "multiple: Double = 54.0\n",
       "farenheight: Double = 86.0\n"
      ]
     },
     "execution_count": 55,
     "metadata": {},
     "output_type": "execute_result"
    }
   ],
   "source": [
    "val centigrade: Int = 30 \n",
    "val multiple: Double = centigrade * 9/5\n",
    "val farenheight = multiple + 32"
   ]
  },
  {
   "cell_type": "markdown",
   "metadata": {},
   "source": [
    "### Exercise 2\n",
    "Convert back to farenheit as integer"
   ]
  },
  {
   "cell_type": "code",
   "execution_count": 57,
   "metadata": {},
   "outputs": [
    {
     "data": {
      "text/plain": [
       "farenheit: Int = 86\n"
      ]
     },
     "execution_count": 57,
     "metadata": {},
     "output_type": "execute_result"
    }
   ],
   "source": [
    "val farenheit: Int = (centigrade * 9.0/5.0 + 32).toInt"
   ]
  },
  {
   "cell_type": "markdown",
   "metadata": {},
   "source": [
    "### Exercise 3\n",
    " - Using the input value 2.7255, generate the string “You owe $2.73.” Is this doable\n",
    "with string interpolation?"
   ]
  },
  {
   "cell_type": "code",
   "execution_count": 52,
   "metadata": {},
   "outputs": [
    {
     "data": {
      "text/plain": [
       "money: Double = 2.7255\n",
       "res19: String = You owe $2.73\n"
      ]
     },
     "execution_count": 52,
     "metadata": {},
     "output_type": "execute_result"
    }
   ],
   "source": [
    "val money = 2.7255\n",
    "f\"You owe $$${money}%.2f\" //Just double it!"
   ]
  },
  {
   "cell_type": "markdown",
   "metadata": {},
   "source": [
    "### Exercise 4\n",
    " - Is there a simpler way to write the following?\n",
    "   - val flag: Boolean = false\n",
    "   - val result: Boolean = (flag == false)\n"
   ]
  },
  {
   "cell_type": "code",
   "execution_count": null,
   "metadata": {},
   "outputs": [],
   "source": [
    "val flag = false\n",
    "val result = flag"
   ]
  },
  {
   "cell_type": "markdown",
   "metadata": {},
   "source": [
    "### Exercise 5\n",
    " - Convert the number 128 to a Char, a String, a Double, and then back to an Int.\n",
    "Do you expect the original amount to be retained? Do you need any special con‐\n",
    "version functions for this?"
   ]
  },
  {
   "cell_type": "code",
   "execution_count": 25,
   "metadata": {},
   "outputs": [
    {
     "data": {
      "text/plain": [
       "\u001b[36mtestChar\u001b[39m: \u001b[32mChar\u001b[39m = \u001b[32m''\u001b[39m\n",
       "\u001b[36mtestStr\u001b[39m: \u001b[32mString\u001b[39m = \u001b[32m\"\"\u001b[39m\n",
       "\u001b[36mtestDouble\u001b[39m: \u001b[32mDouble\u001b[39m = \u001b[32m128.0\u001b[39m\n",
       "\u001b[36mtestInt\u001b[39m: \u001b[32mInt\u001b[39m = \u001b[32m128\u001b[39m\n",
       "\u001b[36mtestChar2\u001b[39m: \u001b[32mChar\u001b[39m = \u001b[32m''\u001b[39m"
      ]
     },
     "execution_count": 25,
     "metadata": {},
     "output_type": "execute_result"
    }
   ],
   "source": [
    "val testChar: Char= 128\n",
    "val testStr: String = testChar.toString\n",
    "val testDouble: Double = testChar.toDouble // Cannot convert String to Double\n",
    "val testInt: Int = testDouble.toInt\n",
    "val testChar2: Char = testInt.toChar"
   ]
  },
  {
   "cell_type": "markdown",
   "metadata": {},
   "source": [
    "### Exercise 6\n",
    "- Using the input string “Frank,123 Main,925-555-1943,95122” and regular expres‐\n",
    "sion matching, retrieve the telephone number. Can you convert each part of the\n",
    "telephone number to its own integer value? How would you store this in a tuple?\n"
   ]
  },
  {
   "cell_type": "code",
   "execution_count": 77,
   "metadata": {},
   "outputs": [
    {
     "data": {
      "text/plain": [
       "\u001b[36minput\u001b[39m: \u001b[32mString\u001b[39m = \u001b[32m\"Frank,123 Main,925-555-1943,95122\"\u001b[39m"
      ]
     },
     "execution_count": 77,
     "metadata": {},
     "output_type": "execute_result"
    }
   ],
   "source": [
    "val input = s\"Frank,123 Main,925-555-1943,95122\""
   ]
  },
  {
   "cell_type": "code",
   "execution_count": 58,
   "metadata": {},
   "outputs": [
    {
     "data": {
      "text/plain": [
       "pattern: scala.util.matching.Regex = .*(\\d\\d\\d)-(\\d\\d\\d)-(\\d\\d\\d\\d).*\n"
      ]
     },
     "execution_count": 58,
     "metadata": {},
     "output_type": "execute_result"
    }
   ],
   "source": [
    "val pattern = \"\"\".*(\\d\\d\\d)-(\\d\\d\\d)-(\\d\\d\\d\\d).*\"\"\".r"
   ]
  },
  {
   "cell_type": "code",
   "execution_count": null,
   "metadata": {},
   "outputs": [],
   "source": []
  },
  {
   "cell_type": "code",
   "execution_count": 85,
   "metadata": {},
   "outputs": [
    {
     "data": {
      "text/plain": [
       "\u001b[36moutput\u001b[39m: (\u001b[32mString\u001b[39m, \u001b[32mString\u001b[39m, \u001b[32mString\u001b[39m) = (\u001b[32m\"925\"\u001b[39m, \u001b[32m\"555\"\u001b[39m, \u001b[32m\"1943\"\u001b[39m)"
      ]
     },
     "execution_count": 85,
     "metadata": {},
     "output_type": "execute_result"
    }
   ],
   "source": [
    "val output = input match { case pattern(country,main,code) => (country, main, code) }"
   ]
  }
 ],
 "metadata": {
  "kernelspec": {
   "display_name": "spylon-kernel",
   "language": "scala",
   "name": "spylon-kernel"
  },
  "language_info": {
   "codemirror_mode": "text/x-scala",
   "file_extension": ".scala",
   "help_links": [
    {
     "text": "MetaKernel Magics",
     "url": "https://metakernel.readthedocs.io/en/latest/source/README.html"
    }
   ],
   "mimetype": "text/x-scala",
   "name": "scala",
   "pygments_lexer": "scala",
   "version": "0.4.1"
  },
  "varInspector": {
   "cols": {
    "lenName": 16,
    "lenType": 16,
    "lenVar": 40
   },
   "kernels_config": {
    "python": {
     "delete_cmd_postfix": "",
     "delete_cmd_prefix": "del ",
     "library": "var_list.py",
     "varRefreshCmd": "print(var_dic_list())"
    },
    "r": {
     "delete_cmd_postfix": ") ",
     "delete_cmd_prefix": "rm(",
     "library": "var_list.r",
     "varRefreshCmd": "cat(var_dic_list()) "
    }
   },
   "types_to_exclude": [
    "module",
    "function",
    "builtin_function_or_method",
    "instance",
    "_Feature"
   ],
   "window_display": false
  }
 },
 "nbformat": 4,
 "nbformat_minor": 2
}
